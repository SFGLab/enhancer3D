{
 "cells": [
  {
   "metadata": {
    "ExecuteTime": {
     "end_time": "2025-04-06T17:44:58.558587Z",
     "start_time": "2025-04-06T17:44:58.554118Z"
    }
   },
   "cell_type": "code",
   "source": [
    "import os\n",
    "\n",
    "os.path.abspath('../data')"
   ],
   "id": "2c74198a65643506",
   "outputs": [
    {
     "data": {
      "text/plain": [
       "'/Users/nk2/Desktop/enhancer3D/data'"
      ]
     },
     "execution_count": 1,
     "metadata": {},
     "output_type": "execute_result"
    }
   ],
   "execution_count": 1
  },
  {
   "metadata": {
    "collapsed": true,
    "ExecuteTime": {
     "end_time": "2025-04-06T17:45:21.676684Z",
     "start_time": "2025-04-06T17:44:59.610978Z"
    }
   },
   "cell_type": "code",
   "source": "!python distance_distribution_calculations_speedup.py GM12878 Deni chr1_74280_3521135 chr1_74280_3521135 100 /Users/nk2/Desktop/enhancer3D/data",
   "id": "initial_id",
   "outputs": [
    {
     "name": "stdout",
     "output_type": "stream",
     "text": [
      "Time for: GM12878, Deni in region: chr1_74280_3521135\r\n",
      "distance calculations\r\n",
      "Index(['chrom', 'start', 'end', 'name'], dtype='object')\r\n",
      "Index(['chrom', 'start', 'end', 'name'], dtype='object')\r\n",
      "now is time for distance distributions tests\r\n"
     ]
    }
   ],
   "execution_count": 2
  }
 ],
 "metadata": {
  "kernelspec": {
   "display_name": "Python 3",
   "language": "python",
   "name": "python3"
  },
  "language_info": {
   "codemirror_mode": {
    "name": "ipython",
    "version": 2
   },
   "file_extension": ".py",
   "mimetype": "text/x-python",
   "name": "python",
   "nbconvert_exporter": "python",
   "pygments_lexer": "ipython2",
   "version": "2.7.6"
  }
 },
 "nbformat": 4,
 "nbformat_minor": 5
}
