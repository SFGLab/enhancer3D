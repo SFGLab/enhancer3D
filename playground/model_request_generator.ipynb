{
 "cells": [
  {
   "metadata": {
    "ExecuteTime": {
     "end_time": "2025-04-06T17:07:38.326615Z",
     "start_time": "2025-04-06T17:07:38.297322Z"
    }
   },
   "cell_type": "code",
   "source": [
    "%load_ext autoreload\n",
    "%autoreload 2"
   ],
   "id": "4db82cb9a4b0ac71",
   "outputs": [],
   "execution_count": 17
  },
  {
   "metadata": {
    "ExecuteTime": {
     "end_time": "2025-04-06T17:07:55.244667Z",
     "start_time": "2025-04-06T17:07:55.234410Z"
    }
   },
   "cell_type": "code",
   "source": [
    "import sys\n",
    "sys.path.append('../src')\n",
    "\n",
    "import os.path\n",
    "from calculator.models import CalculateDistancesForProjectWorkflowInput\n",
    "from common.models import Enhancer3dProject, Enhancer3dProjectConfiguration, Enhancer3dProjectDataset, Enhancer3dEnhancerAtlasDatasetType, Enhancer3dGencodeAnnotationDatasetType, ChromatinRegion"
   ],
   "id": "7415ead2cb3cdf21",
   "outputs": [],
   "execution_count": 22
  },
  {
   "metadata": {
    "ExecuteTime": {
     "end_time": "2025-04-06T17:18:56.976597Z",
     "start_time": "2025-04-06T17:18:56.933290Z"
    }
   },
   "cell_type": "code",
   "source": [
    "with open(\"../data/projects/8k_models_project.list\", \"r\") as f:\n",
    "    models = f.readlines()\n",
    "\n",
    "models = [model.strip() for model in models if model.strip()]\n",
    "\n",
    "# '2025-04-06 12:34:01    1905728 models3D_GM12878_Deni_models3D_GM12878_Deni_mod_results_GM12878_Deni_chr10_10300866_12302793.coordinates.npy' -> models3D_GM12878_Deni_models3D_GM12878_Deni_mod_results_GM12878_Deni_chr10_10300866_12302793\n",
    "models = list(set([model.split(\" \")[-1].split(\".\")[0] for model in models]))\n",
    "\n",
    "len(models), models[0]"
   ],
   "id": "4f5b7ed9b1d5fc1c",
   "outputs": [
    {
     "data": {
      "text/plain": [
       "(8625,\n",
       " 'models3D_GM12878_Deni_models3D_GM12878_Deni_mod_results_GM12878_Deni_chr7_54723172_57700542')"
      ]
     },
     "execution_count": 25,
     "metadata": {},
     "output_type": "execute_result"
    }
   ],
   "execution_count": 25
  },
  {
   "metadata": {
    "ExecuteTime": {
     "end_time": "2025-04-06T17:25:44.012654Z",
     "start_time": "2025-04-06T17:25:43.975489Z"
    }
   },
   "cell_type": "code",
   "source": [
    "# models3D_GM12878_Deni_models3D_GM12878_Deni_mod_results_GM12878_Deni_chr7_54723172_57700542\n",
    "#          ^cll    ^spc                       ^ref/mod                 ^chr ^start   ^end\n",
    "\n",
    "# Rule 1\n",
    "# if species Deni and cell line GM12878, then\n",
    "# - enhancer dataset: enhanceratlas2_liftovered_hg38_filtered_by_chrom_in_regions_GM12878_Deni_with_converted_regions.tsv\n",
    "# - gene dataset: gencode.v40.annotation_genes_converted_in_regions_GM12878_Deni_with_mod_regions_labelled.tsv\n",
    "# if species Neanderthals and cell line GM12878, then\n",
    "# - enhancer dataset: enhanceratlas2_liftovered_hg38_filtered_by_chrom_in_regions_GM12878_Nean_with_converted_regions.tsv\n",
    "# - gene dataset: gencode.v40.annotation_genes_converted_in_regions_GM12878_Nean_with_mod_regions_labelled.tsv\n",
    "# if species Denisovans and cell line HFFC6, then\n",
    "# - enhancer dataset: enhanceratlas2_liftovered_hg38_filtered_by_chrom_in_regions_HFFC6_Deni_with_converted_regions.tsv\n",
    "# ... and so on\n",
    "\n",
    "# Rule 2\n",
    "# if ref/mod flag is set to mod, then\n",
    "# - enhancer dataset type: TSV_LIFTOVERED_MOD\n",
    "# - gene dataset type: TSV_LIFTOVERED_MOD\n",
    "# if ref/mod flag is set to ref, then\n",
    "# - enhancer dataset type: TSV_LIFTOVERED_REF\n",
    "# - gene dataset type: TSV_LIFTOVERED_REF\n",
    "\n",
    "def extract_data_from_model_name(model_name):\n",
    "    # models3D_GM12878_Deni_models3D_GM12878_Deni_mod_results_GM12878_Deni_chr7_54723172_57700542\n",
    "    if len(parts := model_name.split(\"_\")) == 13:\n",
    "        _, cell_line, species, _, _, _, ref_mod_flag, _, _, _, chromosome, start, end = parts\n",
    "        if ref_mod_flag == \"ref2\":\n",
    "            ref_mod_flag = \"ref\"\n",
    "\n",
    "    elif len(parts := model_name.split(\"_\")) == 12:\n",
    "        _, cell_line, species, _, _, _, _, _, _, chromosome, start, end = parts\n",
    "        ref_mod_flag = \"ref\"\n",
    "\n",
    "    start = int(start)\n",
    "    end = int(end)\n",
    "    return {\n",
    "        \"cell_line\": cell_line,\n",
    "        \"species\": species,\n",
    "        \"ref_mod_flag\": ref_mod_flag,\n",
    "        \"chromosome\": chromosome,\n",
    "        \"start\": start,\n",
    "        \"end\": end\n",
    "    }\n",
    "\n",
    "\n",
    "def get_enhancer_atlas_dataset_name_from_model_name(model_name):\n",
    "    data = extract_data_from_model_name(model_name)\n",
    "    cell_line = data[\"cell_line\"]\n",
    "    species = data[\"species\"]\n",
    "    ref_mod_flag = data[\"ref_mod_flag\"]\n",
    "\n",
    "    # Rule 1\n",
    "    # enhanceratlas2_liftovered_hg38_filtered_by_chrom_in_regions_GM12878_Deni_with_converted_regions\n",
    "    enhancer_dataset_name = f\"enhanceratlas2_liftovered_hg38_filtered_by_chrom_in_regions_{cell_line}_{species}_with_converted_regions\"\n",
    "\n",
    "    # Rule 2\n",
    "    if ref_mod_flag == \"mod\":\n",
    "        enhancer_dataset_type = Enhancer3dEnhancerAtlasDatasetType.TSV_LIFTOVERED_MOD\n",
    "    else:\n",
    "        enhancer_dataset_type = Enhancer3dEnhancerAtlasDatasetType.TSV_LIFTOVERED_REF\n",
    "\n",
    "    return enhancer_dataset_name, enhancer_dataset_type\n",
    "\n",
    "\n",
    "def get_gencode_annotation_dataset_name_from_model_name(model_name):\n",
    "    data = extract_data_from_model_name(model_name)\n",
    "    cell_line = data[\"cell_line\"]\n",
    "    species = data[\"species\"]\n",
    "    ref_mod_flag = data[\"ref_mod_flag\"]\n",
    "\n",
    "    # Rule 1\n",
    "    # gencode.v40.annotation_genes_converted_in_regions_GM12878_Deni_with_mod_regions_labelled\n",
    "    gencode_annotation_dataset_name = f\"gencode.v40.annotation_genes_converted_in_regions_{cell_line}_{species}_with_mod_regions_labelled\"\n",
    "\n",
    "    # Rule 2\n",
    "    if ref_mod_flag == \"mod\":\n",
    "        gencode_annotation_dataset_type = Enhancer3dGencodeAnnotationDatasetType.TSV_LIFTOVERED_MOD\n",
    "    else:\n",
    "        gencode_annotation_dataset_type = Enhancer3dGencodeAnnotationDatasetType.TSV_LIFTOVERED_REF\n",
    "\n",
    "    return gencode_annotation_dataset_name, gencode_annotation_dataset_type\n"
   ],
   "id": "a759a6bba8869954",
   "outputs": [],
   "execution_count": 31
  },
  {
   "metadata": {
    "ExecuteTime": {
     "end_time": "2025-04-06T17:28:17.299672Z",
     "start_time": "2025-04-06T17:28:17.199704Z"
    }
   },
   "cell_type": "code",
   "source": [
    "models_by_cell_lines = {\n",
    "    \"GM12878\": [model for model in models if \"GM12878\" in model],\n",
    "    \"HFFC6\": [model for model in models if \"HFFC6\" in model],\n",
    "    \"WTC11\": [model for model in models if \"WTC11\" in model],\n",
    "    \"H1ESC\": [model for model in models if \"H1ESC\" in model]\n",
    "}\n",
    "\n",
    "requests = [\n",
    "    CalculateDistancesForProjectWorkflowInput(\n",
    "        project=Enhancer3dProject(\n",
    "            id=f\"8k_models_project_{cell_line}\",\n",
    "            authors=[\"Nikita Kozlov\", \"Michał Własnowolski\"],\n",
    "            species=[\"Denisovans\", \"Neanderthals\"],\n",
    "            cell_lines=[cell_line]\n",
    "        ),\n",
    "        datasets=[\n",
    "            Enhancer3dProjectDataset(\n",
    "                ensemble_id=model,\n",
    "                ensemble_region=ChromatinRegion(\n",
    "                    chromosome=extract_data_from_model_name(model)[\"chromosome\"],\n",
    "                    start=extract_data_from_model_name(model)[\"start\"],\n",
    "                    end=extract_data_from_model_name(model)[\"end\"]\n",
    "                ),\n",
    "                enhancer_atlas_dataset_name=get_enhancer_atlas_dataset_name_from_model_name(model)[0],\n",
    "                enhancer_atlas_dataset_type=get_enhancer_atlas_dataset_name_from_model_name(model)[1],\n",
    "                gencode_annotation_dataset_name=get_gencode_annotation_dataset_name_from_model_name(model)[0],\n",
    "                gencode_annotation_dataset_type=get_gencode_annotation_dataset_name_from_model_name(model)[1]\n",
    "            )\n",
    "            for model in models\n",
    "        ],\n",
    "        configuration=Enhancer3dProjectConfiguration()\n",
    "    )\n",
    "    for cell_line, models in models_by_cell_lines.items()\n",
    "]"
   ],
   "id": "99eff7e2d41dfdd9",
   "outputs": [],
   "execution_count": 32
  },
  {
   "metadata": {
    "ExecuteTime": {
     "end_time": "2025-04-06T17:29:03.852520Z",
     "start_time": "2025-04-06T17:29:03.800139Z"
    }
   },
   "cell_type": "code",
   "source": [
    "# with open(\"8k_models_project.json\", \"w\") as f:\n",
    "#     f.write(request.model_dump_json(indent=4))\n",
    "\n",
    "for request in requests:\n",
    "    with open(f\"../data/{request.project.id}.json\", \"w\") as f:\n",
    "        f.write(request.model_dump_json(indent=4))\n"
   ],
   "id": "94855717b8a6fb74",
   "outputs": [],
   "execution_count": 34
  }
 ],
 "metadata": {
  "kernelspec": {
   "name": "python3",
   "language": "python",
   "display_name": "Python 3 (ipykernel)"
  }
 },
 "nbformat": 5,
 "nbformat_minor": 9
}
