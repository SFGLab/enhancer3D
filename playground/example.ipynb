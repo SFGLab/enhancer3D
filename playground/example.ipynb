{
 "cells": [
  {
   "cell_type": "code",
   "execution_count": 18,
   "id": "e47a36f0-411b-4b7c-aa34-942f9eec077d",
   "metadata": {},
   "outputs": [
    {
     "data": {
      "application/vnd.jupyter.widget-view+json": {
       "model_id": "",
       "version_major": 2,
       "version_minor": 0
      },
      "text/plain": [
       "FloatProgress(value=0.0, bar_style='info', description='Progress:', layout=Layout(height='25px', width='50%'),…"
      ]
     },
     "metadata": {},
     "output_type": "display_data"
    },
    {
     "name": "stdout",
     "output_type": "stream",
     "text": [
      "<pyspark.sql.session.SparkSession object at 0x778e217a2cf0>"
     ]
    }
   ],
   "source": [
    "spark"
   ]
  },
  {
   "cell_type": "code",
   "execution_count": 19,
   "id": "a9f47178-4ae8-4bec-80e7-277ee2e246b3",
   "metadata": {},
   "outputs": [
    {
     "data": {
      "application/vnd.jupyter.widget-view+json": {
       "model_id": "",
       "version_major": 2,
       "version_minor": 0
      },
      "text/plain": [
       "FloatProgress(value=0.0, bar_style='info', description='Progress:', layout=Layout(height='25px', width='50%'),…"
      ]
     },
     "metadata": {},
     "output_type": "display_data"
    }
   ],
   "source": [
    "distance_calculation_df = (\n",
    "    spark\n",
    "    .read\n",
    "    .format(\"mongodb\")\n",
    "    .option(\"database\", \"enhancer3d\")\n",
    "    .option(\"collection\", \"distance_calculation\")\n",
    "    .load()\n",
    ")"
   ]
  },
  {
   "cell_type": "code",
   "execution_count": 68,
   "id": "b8ac3c03-735a-42c1-a3d1-673929f31284",
   "metadata": {},
   "outputs": [
    {
     "data": {
      "application/vnd.jupyter.widget-view+json": {
       "model_id": "",
       "version_major": 2,
       "version_minor": 0
      },
      "text/plain": [
       "FloatProgress(value=0.0, bar_style='info', description='Progress:', layout=Layout(height='25px', width='50%'),…"
      ]
     },
     "metadata": {},
     "output_type": "display_data"
    }
   ],
   "source": [
    "from typing import List\n",
    "\n",
    "from pyspark import SparkFiles\n",
    "from subprocess import call\n",
    "import sys\n",
    "\n",
    "\n",
    "def install_deps(deps: List[str]) -> None:\n",
    "    call([sys.executable, '-m', 'pip', 'install', '-q', '-t', SparkFiles.getRootDirectory(), *deps])"
   ]
  },
  {
   "cell_type": "code",
   "execution_count": 69,
   "id": "cdb82ca6-300f-4fe1-a6e8-810f241a71a3",
   "metadata": {},
   "outputs": [
    {
     "data": {
      "application/vnd.jupyter.widget-view+json": {
       "model_id": "",
       "version_major": 2,
       "version_minor": 0
      },
      "text/plain": [
       "FloatProgress(value=0.0, bar_style='info', description='Progress:', layout=Layout(height='25px', width='50%'),…"
      ]
     },
     "metadata": {},
     "output_type": "display_data"
    }
   ],
   "source": [
    "install_deps(['numpy', 'matplotlib', 'pandas'])"
   ]
  },
  {
   "cell_type": "code",
   "execution_count": 86,
   "id": "47c772c0-e289-4d99-b7e4-1f17e207fc87",
   "metadata": {},
   "outputs": [
    {
     "data": {
      "application/vnd.jupyter.widget-view+json": {
       "model_id": "",
       "version_major": 2,
       "version_minor": 0
      },
      "text/plain": [
       "FloatProgress(value=0.0, bar_style='info', description='Progress:', layout=Layout(height='25px', width='50%'),…"
      ]
     },
     "metadata": {},
     "output_type": "display_data"
    },
    {
     "name": "stdout",
     "output_type": "stream",
     "text": [
      "13099"
     ]
    }
   ],
   "source": [
    "from pyspark.sql import functions as F, types as T\n",
    "import numpy as np\n",
    "\n",
    "@F.udf(T.ArrayType(T.DoubleType()))\n",
    "def diff(A, B):\n",
    "    return np.abs(np.array(A) - np.array(B)).tolist()\n",
    "\n",
    "@F.udf(T.DoubleType())\n",
    "def var(A):\n",
    "    return float(np.var(A))\n",
    "\n",
    "@F.udf(T.DoubleType())\n",
    "def avg(A):\n",
    "    return float(np.mean(A))\n",
    "\n",
    "results_GM12878_Deni_chr1_74280_3521135_df = (\n",
    "    distance_calculation_df\n",
    "    .select('_id.*', '*')\n",
    "    .drop('_id')\n",
    "    .where(\"project_id == 'GM12878_demo_project' and ensemble_id == 'results_GM12878_Deni_chr1_74280_3521135'\")\n",
    "    .alias(\"ref\")\n",
    ")\n",
    "\n",
    "results_GM12878_Deni_mod_chr1_74280_3521135_df = (\n",
    "    distance_calculation_df\n",
    "    .select('_id.*', '*')\n",
    "    .drop('_id')\n",
    "    .where(\"project_id == 'GM12878_demo_project' and ensemble_id == 'results_GM12878_Deni_mod_chr1_74280_3521135'\")\n",
    "    .alias(\"mod\")\n",
    ")\n",
    "\n",
    "results_GM12878_Deni_chr1_74280_3521135_joined_with_mod_df = (\n",
    "    results_GM12878_Deni_chr1_74280_3521135_df\n",
    "    .join(\n",
    "        results_GM12878_Deni_mod_chr1_74280_3521135_df,\n",
    "        on=['gene_id', 'enh_id'],\n",
    "        how='inner'\n",
    "    )\n",
    "    .select(\n",
    "        'gene_id', \n",
    "        'enh_id',\n",
    "\n",
    "        F.col('ref.enh_score').alias('enh_score'),\n",
    "        \n",
    "        F.col('ref.dist').alias('ref_dist'),\n",
    "        F.col('ref.avg_dist').alias('ref_dist_avg'),\n",
    "        var(F.col('ref.dist')).alias('ref_dist_var'),\n",
    "\n",
    "        F.col('mod.dist').alias('mod_dist'),\n",
    "        F.col('mod.avg_dist').alias('mod_dist_avg'),\n",
    "        var(F.col('mod.dist')).alias('mod_dist_var'),\n",
    "        \n",
    "        diff(F.col('ref.dist'), F.col('mod.dist')).alias('dist_diff'),\n",
    "        avg(F.col('dist_diff')).alias('dist_diff_avg'),\n",
    "        var(F.col('dist_diff')).alias('dist_diff_var')\n",
    "    )\n",
    ")\n",
    "\n",
    "results_GM12878_Deni_chr1_74280_3521135_joined_with_mod_df.count()"
   ]
  },
  {
   "cell_type": "code",
   "execution_count": 87,
   "id": "80104a7b-173a-442e-8a14-d1838578dcff",
   "metadata": {},
   "outputs": [
    {
     "data": {
      "application/vnd.jupyter.widget-view+json": {
       "model_id": "",
       "version_major": 2,
       "version_minor": 0
      },
      "text/plain": [
       "FloatProgress(value=0.0, bar_style='info', description='Progress:', layout=Layout(height='25px', width='50%'),…"
      ]
     },
     "metadata": {},
     "output_type": "display_data"
    }
   ],
   "source": [
    "results_pandas = results_GM12878_Deni_chr1_74280_3521135_joined_with_mod_df.toPandas()"
   ]
  },
  {
   "cell_type": "code",
   "execution_count": 88,
   "id": "19225b25-5a89-4d5a-87ef-6c126684d484",
   "metadata": {},
   "outputs": [
    {
     "data": {
      "application/vnd.jupyter.widget-view+json": {
       "model_id": "",
       "version_major": 2,
       "version_minor": 0
      },
      "text/plain": [
       "FloatProgress(value=0.0, bar_style='info', description='Progress:', layout=Layout(height='25px', width='50%'),…"
      ]
     },
     "metadata": {},
     "output_type": "display_data"
    },
    {
     "name": "stdout",
     "output_type": "stream",
     "text": [
      "                  gene_id                enh_id  ...  dist_diff_avg dist_diff_var\n",
      "0      ENSG00000008128.23  chr1:1001810-1003120  ...       2.929620      3.635421\n",
      "1      ENSG00000008128.23  chr1:1134330-1137600  ...       5.708063     14.787756\n",
      "2      ENSG00000008128.23  chr1:1838510-1839300  ...       6.756561     27.504060\n",
      "3      ENSG00000008128.23  chr1:1839320-1841260  ...       6.820991     27.754883\n",
      "4      ENSG00000008128.23  chr1:2573380-2575610  ...       3.347530      6.081045\n",
      "...                   ...                   ...  ...            ...           ...\n",
      "13094   ENSG00000289610.1  chr1:1353070-1353790  ...       2.031172      2.709765\n",
      "13095   ENSG00000289610.1  chr1:1795730-1796590  ...       1.202879      0.832562\n",
      "13096   ENSG00000289610.1  chr1:1839320-1841260  ...       2.800798      4.323006\n",
      "13097   ENSG00000289610.1  chr1:2064070-2065430  ...       1.791814      1.490359\n",
      "13098   ENSG00000289610.1  chr1:2245160-2249020  ...       3.796132      7.343721\n",
      "\n",
      "[13099 rows x 12 columns]"
     ]
    }
   ],
   "source": [
    "results_pandas"
   ]
  }
 ],
 "metadata": {
  "kernelspec": {
   "display_name": "PySpark",
   "language": "python",
   "name": "pysparkkernel"
  },
  "language_info": {
   "codemirror_mode": {
    "name": "python",
    "version": 3
   },
   "file_extension": ".py",
   "mimetype": "text/x-python",
   "name": "pyspark",
   "pygments_lexer": "python3"
  }
 },
 "nbformat": 4,
 "nbformat_minor": 5
}
