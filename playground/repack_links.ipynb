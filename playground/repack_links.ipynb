{
 "cells": [
  {
   "metadata": {
    "ExecuteTime": {
     "end_time": "2025-05-13T09:46:42.374586Z",
     "start_time": "2025-05-13T09:46:38.633877Z"
    }
   },
   "cell_type": "code",
   "source": [
    "import pandas as pd\n",
    "\n",
    "GM12878_EP_hg38_liftovered = pd.read_csv(\n",
    "    '../data/links/GM12878_EP_hg38_liftovered.bed',\n",
    "    sep='\\t',\n",
    "    header=None,\n",
    "    names=['chrom', 'start', 'end', 'gene']\n",
    ")\n",
    "\n",
    "H1ESC_EP_hg38_liftovered = pd.read_csv(\n",
    "    '../data/links/H1ESC_EP_hg38_liftovered.bed',\n",
    "    sep='\\t',\n",
    "    header=None,\n",
    "    names=['chrom', 'start', 'end', 'gene']\n",
    ")\n",
    "\n",
    "HFFC6_EP_hg38_liftovered = pd.read_csv(\n",
    "    '../data/links/HFFC6_EP_hg38_liftovered.bed',\n",
    "    sep='\\t',\n",
    "    header=None,\n",
    "    names=['chrom', 'start', 'end', 'gene']\n",
    ")\n",
    "\n",
    "def process_links(df):\n",
    "    df['gene_id'] = df['gene'].str.split('_').str[0]\n",
    "    df['gene_name'] = df['gene'].str.split('_').str[1]\n",
    "    df['pval'] = df['gene'].str.split('_').str[2].astype(float)\n",
    "    df['qval'] = df['gene'].str.split('_').str[3].astype(float)\n",
    "\n",
    "    df = df[['chrom', 'start', 'end', 'gene_id', 'pval', 'qval']]\n",
    "    df['enh_id'] = (\n",
    "        df['chrom'] +\n",
    "        ':' + df['start'].astype(str) +\n",
    "        '-' + df['end'].astype(str)\n",
    "    )\n",
    "\n",
    "    return df[['enh_id', 'gene_id', 'pval', 'qval']]\n",
    "\n",
    "GM12878_EP_hg38_liftovered = process_links(GM12878_EP_hg38_liftovered)\n",
    "GM12878_EP_hg38_liftovered.to_parquet(\n",
    "    '../data/links/GM12878_EP_hg38_liftovered.parquet',\n",
    "    index=False\n",
    ")\n",
    "\n",
    "H1ESC_EP_hg38_liftovered = process_links(H1ESC_EP_hg38_liftovered)\n",
    "H1ESC_EP_hg38_liftovered.to_parquet(\n",
    "    '../data/links/H1ESC_EP_hg38_liftovered.parquet',\n",
    "    index=False\n",
    ")\n",
    "\n",
    "HFFC6_EP_hg38_liftovered = process_links(HFFC6_EP_hg38_liftovered)\n",
    "HFFC6_EP_hg38_liftovered.to_parquet(\n",
    "    '../data/links/HFFC6_EP_hg38_liftovered.parquet',\n",
    "    index=False\n",
    ")"
   ],
   "id": "ea7bada8f5a141fe",
   "outputs": [
    {
     "name": "stderr",
     "output_type": "stream",
     "text": [
      "/var/folders/ss/9hx8q7517rzf6x75cfny7ndc0000gp/T/ipykernel_13609/3818933236.py:31: SettingWithCopyWarning: \n",
      "A value is trying to be set on a copy of a slice from a DataFrame.\n",
      "Try using .loc[row_indexer,col_indexer] = value instead\n",
      "\n",
      "See the caveats in the documentation: https://pandas.pydata.org/pandas-docs/stable/user_guide/indexing.html#returning-a-view-versus-a-copy\n",
      "  df['enh_id'] = (\n",
      "/var/folders/ss/9hx8q7517rzf6x75cfny7ndc0000gp/T/ipykernel_13609/3818933236.py:31: SettingWithCopyWarning: \n",
      "A value is trying to be set on a copy of a slice from a DataFrame.\n",
      "Try using .loc[row_indexer,col_indexer] = value instead\n",
      "\n",
      "See the caveats in the documentation: https://pandas.pydata.org/pandas-docs/stable/user_guide/indexing.html#returning-a-view-versus-a-copy\n",
      "  df['enh_id'] = (\n",
      "/var/folders/ss/9hx8q7517rzf6x75cfny7ndc0000gp/T/ipykernel_13609/3818933236.py:31: SettingWithCopyWarning: \n",
      "A value is trying to be set on a copy of a slice from a DataFrame.\n",
      "Try using .loc[row_indexer,col_indexer] = value instead\n",
      "\n",
      "See the caveats in the documentation: https://pandas.pydata.org/pandas-docs/stable/user_guide/indexing.html#returning-a-view-versus-a-copy\n",
      "  df['enh_id'] = (\n"
     ]
    }
   ],
   "execution_count": 10
  },
  {
   "metadata": {},
   "cell_type": "code",
   "outputs": [],
   "execution_count": null,
   "source": "",
   "id": "9471dcac3f316b95"
  }
 ],
 "metadata": {
  "kernelspec": {
   "name": "python3",
   "language": "python",
   "display_name": "Python 3 (ipykernel)"
  }
 },
 "nbformat": 5,
 "nbformat_minor": 9
}
