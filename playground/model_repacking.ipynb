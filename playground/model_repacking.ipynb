{
 "cells": [
  {
   "metadata": {
    "ExecuteTime": {
     "end_time": "2024-12-26T12:06:24.908435Z",
     "start_time": "2024-12-26T12:06:24.894536Z"
    }
   },
   "cell_type": "code",
   "source": [
    "%load_ext autoreload\n",
    "%autoreload 2"
   ],
   "id": "1ec624cd230ae1a8",
   "outputs": [],
   "execution_count": 1
  },
  {
   "metadata": {
    "ExecuteTime": {
     "end_time": "2025-03-02T23:37:05.811376Z",
     "start_time": "2025-03-02T23:37:05.357451Z"
    }
   },
   "cell_type": "code",
   "source": [
    "import sys\n",
    "sys.path.append('../src')\n",
    "\n",
    "from chromatin_model import *"
   ],
   "id": "7821b6494af5f2eb",
   "outputs": [],
   "execution_count": 1
  },
  {
   "metadata": {
    "ExecuteTime": {
     "end_time": "2025-03-02T23:37:06.471661Z",
     "start_time": "2025-03-02T23:37:06.452839Z"
    }
   },
   "cell_type": "code",
   "source": [
    "import os\n",
    "\n",
    "all_ensemble_model_paths = [\n",
    "    ensemble_model_path\n",
    "    for ensemble_model_path, dirs, files in os.walk(os.path.abspath('../data/models'))\n",
    "    if os.path.isdir(ensemble_model_path) and list(filter(lambda x: x.endswith('.hcm'), files))\n",
    "]\n",
    "\n",
    "all_ensemble_model_paths"
   ],
   "id": "e87b461b961bd237",
   "outputs": [
    {
     "data": {
      "text/plain": [
       "['/Users/nk2/Desktop/enhancer3D/data/models/models3D_GM12878_Deni_mod/results_GM12878_Deni_mod_chr1_15415396_17422207',\n",
       " '/Users/nk2/Desktop/enhancer3D/data/models/models3D_GM12878_Deni_mod/results_GM12878_Deni_chr1_mod_18268944_20287760',\n",
       " '/Users/nk2/Desktop/enhancer3D/data/models/models3D_GM12878_Deni_mod/results_GM12878_Deni_mod_chr1_74280_3521135',\n",
       " '/Users/nk2/Desktop/enhancer3D/data/models/models3D_GM12878_Deni_mod/results_GM12878_Deni_mod_chr1_12398267_14398571',\n",
       " '/Users/nk2/Desktop/enhancer3D/data/models/models3D_GM12878_Deni/results_GM12878_Deni_chr1_15415396_17422207',\n",
       " '/Users/nk2/Desktop/enhancer3D/data/models/models3D_GM12878_Deni/results_GM12878_Deni_chr1_18268944_20287760',\n",
       " '/Users/nk2/Desktop/enhancer3D/data/models/models3D_GM12878_Deni/results_GM12878_Deni_chr1_74280_3521135',\n",
       " '/Users/nk2/Desktop/enhancer3D/data/models/models3D_GM12878_Deni/results_GM12878_Deni_chr1_12398267_14398571']"
      ]
     },
     "execution_count": 2,
     "metadata": {},
     "output_type": "execute_result"
    }
   ],
   "execution_count": 2
  },
  {
   "metadata": {
    "ExecuteTime": {
     "end_time": "2025-03-02T23:37:11.763098Z",
     "start_time": "2025-03-02T23:37:07.639188Z"
    }
   },
   "cell_type": "code",
   "source": [
    "for ensemble_model_path in all_ensemble_model_paths:\n",
    "    ensemble_model = load_3dgnome_model_ensemble_from_filesystem(ensemble_model_path)\n",
    "    pack_chromatin_model_ensemble_to_filesystem(os.path.abspath('../data/packed'), ensemble_model)"
   ],
   "id": "d17cadb9ee8853da",
   "outputs": [],
   "execution_count": 3
  }
 ],
 "metadata": {
  "kernelspec": {
   "display_name": "Python 3",
   "language": "python",
   "name": "python3"
  },
  "language_info": {
   "codemirror_mode": {
    "name": "ipython",
    "version": 2
   },
   "file_extension": ".py",
   "mimetype": "text/x-python",
   "name": "python",
   "nbconvert_exporter": "python",
   "pygments_lexer": "ipython2",
   "version": "2.7.6"
  }
 },
 "nbformat": 4,
 "nbformat_minor": 5
}
