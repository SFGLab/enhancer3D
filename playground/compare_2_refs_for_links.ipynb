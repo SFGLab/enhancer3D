{
 "cells": [
  {
   "metadata": {
    "trusted": false,
    "ExecuteTime": {
     "end_time": "2025-05-13T12:53:25.501383Z",
     "start_time": "2025-05-13T12:53:12.399812Z"
    }
   },
   "cell_type": "code",
   "source": "%%configure -f\n{\"driverMemory\": \"4G\", \"driverCores\": 2, \"executorMemory\": \"12G\", \"executorCores\": 6, \"numExecutors\": 3}",
   "id": "4c14b1dabbaf2cb",
   "outputs": [
    {
     "name": "stdout",
     "output_type": "stream",
     "text": [
      "Starting Spark application\n"
     ]
    },
    {
     "data": {
      "text/plain": [
       "<IPython.core.display.HTML object>"
      ],
      "text/html": [
       "<table>\n",
       "<tr><th>ID</th><th>YARN Application ID</th><th>Kind</th><th>State</th><th>Spark UI</th><th>Driver log</th><th>User</th><th>Current session?</th></tr><tr><td>7</td><td>None</td><td>pyspark</td><td>idle</td><td></td><td></td><td>None</td><td>✔</td></tr></table>"
      ]
     },
     "metadata": {},
     "output_type": "display_data"
    },
    {
     "data": {
      "text/plain": [
       "FloatProgress(value=0.0, bar_style='info', description='Progress:', layout=Layout(height='25px', width='50%'),…"
      ],
      "application/vnd.jupyter.widget-view+json": {
       "version_major": 2,
       "version_minor": 0,
       "model_id": "6fc86c3867134facb74f595c97859cc6"
      }
     },
     "metadata": {},
     "output_type": "display_data"
    },
    {
     "name": "stdout",
     "output_type": "stream",
     "text": [
      "SparkSession available as 'spark'.\n"
     ]
    },
    {
     "data": {
      "text/plain": [
       "<IPython.core.display.HTML object>"
      ],
      "text/html": [
       "Current session configs: <tt>{'conf': {'spark.sql.catalog.spark_catalog.type': 'hive'}, 'driverMemory': '4G', 'driverCores': 2, 'executorMemory': '12G', 'executorCores': 6, 'numExecutors': 3, 'kind': 'pyspark'}</tt><br>"
      ]
     },
     "metadata": {},
     "output_type": "display_data"
    },
    {
     "data": {
      "text/plain": [
       "<IPython.core.display.HTML object>"
      ],
      "text/html": [
       "<table>\n",
       "<tr><th>ID</th><th>YARN Application ID</th><th>Kind</th><th>State</th><th>Spark UI</th><th>Driver log</th><th>User</th><th>Current session?</th></tr><tr><td>7</td><td>None</td><td>pyspark</td><td>idle</td><td></td><td></td><td>None</td><td>✔</td></tr></table>"
      ]
     },
     "metadata": {},
     "output_type": "display_data"
    }
   ],
   "execution_count": 37
  },
  {
   "metadata": {
    "trusted": false,
    "ExecuteTime": {
     "end_time": "2025-05-13T13:14:02.503153Z",
     "start_time": "2025-05-13T13:12:33.065257Z"
    }
   },
   "cell_type": "code",
   "source": [
    "from typing import List\n",
    "\n",
    "from pyspark import SparkFiles\n",
    "from subprocess import call\n",
    "import sys\n",
    "\n",
    "\n",
    "def install_deps(deps: List[str]) -> None:\n",
    "    call([sys.executable, '-m', 'pip', 'install', '-q', '-t', SparkFiles.getRootDirectory(), *deps])\n",
    "\n",
    "\n",
    "install_deps(['numpy', 'matplotlib', 'pandas', 'scipy', 'seaborn', 'statsmodels', 'pyarrow'])"
   ],
   "id": "26e8ee22c248cdfe",
   "outputs": [
    {
     "data": {
      "text/plain": [
       "FloatProgress(value=0.0, bar_style='info', description='Progress:', layout=Layout(height='25px', width='50%'),…"
      ],
      "application/vnd.jupyter.widget-view+json": {
       "version_major": 2,
       "version_minor": 0,
       "model_id": "35c909cf0053490b92c87ba55f86e97c"
      }
     },
     "metadata": {},
     "output_type": "display_data"
    }
   ],
   "execution_count": 53
  },
  {
   "metadata": {
    "trusted": false,
    "ExecuteTime": {
     "end_time": "2025-05-13T12:54:37.150273Z",
     "start_time": "2025-05-13T12:54:37.118878Z"
    }
   },
   "cell_type": "code",
   "source": "from typing import Optional\nimport json\nfrom pyspark.sql import SparkSession, DataFrame\n\nspark: SparkSession\n\ndef load_distance_calculation_df(aggregation_pipeline: Optional[List] = None) -> DataFrame:\n    if aggregation_pipeline is None:\n        aggregation_pipeline = []\n    \n    return (\n        spark\n        .read\n        .format(\"mongodb\")\n        .option(\"partitioner\", \"com.mongodb.spark.sql.connector.read.partitioner.SamplePartitioner\")\n        .option(\"partitioner.options.partition.field\", \"_id\")\n        .option(\"partitioner.options.partition.size\", \"64\")\n        .option(\"partitioner.options.samples.per.partition\", \"2\")\n        .option(\"database\", \"enhancer3d\")\n        .option(\"collection\", \"distance_calculation\")\n        .option(\"aggregation.pipeline\", json.dumps(aggregation_pipeline))\n        .load()\n    )",
   "id": "9321644c73abf9c1",
   "outputs": [
    {
     "data": {
      "text/plain": [
       "FloatProgress(value=0.0, bar_style='info', description='Progress:', layout=Layout(height='25px', width='50%'),…"
      ],
      "application/vnd.jupyter.widget-view+json": {
       "version_major": 2,
       "version_minor": 0,
       "model_id": "ea2804827b764d3ea41abcb1cccbbd8e"
      }
     },
     "metadata": {},
     "output_type": "display_data"
    }
   ],
   "execution_count": 39
  },
  {
   "metadata": {
    "trusted": false,
    "ExecuteTime": {
     "end_time": "2025-05-13T13:00:31.904986Z",
     "start_time": "2025-05-13T13:00:31.168221Z"
    }
   },
   "cell_type": "code",
   "source": "links_gm12878_df = (\n    spark\n    .read\n    .format(\"parquet\")\n    .option(\"header\", \"true\")\n    .option(\"inferSchema\", \"true\")\n    .load(\"/work/data/links/GM12878_EP_hg38_liftovered.parquet\")\n    .alias(\"links\")\n)\n\nlinks_hffc6_df = (\n    spark\n    .read\n    .format(\"parquet\")\n    .option(\"header\", \"true\")\n    .option(\"inferSchema\", \"true\")\n    .load(\"/work/data/links/HFFC6_EP_hg38_liftovered.parquet\")\n    .alias(\"links\")\n)",
   "id": "e9aa021f5dac33df",
   "outputs": [
    {
     "data": {
      "text/plain": [
       "FloatProgress(value=0.0, bar_style='info', description='Progress:', layout=Layout(height='25px', width='50%'),…"
      ],
      "application/vnd.jupyter.widget-view+json": {
       "version_major": 2,
       "version_minor": 0,
       "model_id": "6e9d64f4846f40de8df9fdb6e605004b"
      }
     },
     "metadata": {},
     "output_type": "display_data"
    }
   ],
   "execution_count": 47
  },
  {
   "metadata": {
    "ExecuteTime": {
     "end_time": "2025-05-13T12:21:54.952892Z",
     "start_time": "2025-05-13T12:21:52.699070Z"
    },
    "trusted": false
   },
   "cell_type": "code",
   "source": "%%pretty\nlinks_gm12878_df.show(5)",
   "id": "88c1cfe5ae1e4157",
   "outputs": [
    {
     "data": {
      "text/plain": "FloatProgress(value=0.0, bar_style='info', description='Progress:', layout=Layout(height='25px', width='50%'),…",
      "application/vnd.jupyter.widget-view+json": {
       "version_major": 2,
       "version_minor": 0,
       "model_id": "96e6d943243e4b62be685fb48b50b2a7"
      }
     },
     "metadata": {},
     "output_type": "display_data"
    },
    {
     "data": {
      "text/plain": "<IPython.core.display.HTML object>",
      "text/html": "<table><tr><th><pre style=\"word-break: unset; background-color: unset;\">enh_id</pre></th><th><pre style=\"word-break: unset; background-color: unset;\">gene_id</pre></th><th><pre style=\"word-break: unset; background-color: unset;\">pval</pre></th><th><pre style=\"word-break: unset; background-color: unset;\">qval</pre></th></tr><tr><td><pre style=\"word-break: unset; background-color: unset;\">chr1:843600-844990</pre></td><td><pre style=\"word-break: unset; background-color: unset;\">ENSG00000197049</pre></td><td><pre style=\"word-break: unset; background-color: unset;\">1.180354</pre></td><td><pre style=\"word-break: unset; background-color: unset;\">1.0</pre></td></tr><tr><td><pre style=\"word-break: unset; background-color: unset;\">chr1:966620-966700</pre></td><td><pre style=\"word-break: unset; background-color: unset;\">ENSG00000197049</pre></td><td><pre style=\"word-break: unset; background-color: unset;\">0.642743</pre></td><td><pre style=\"word-break: unset; background-color: unset;\">2.0</pre></td></tr><tr><td><pre style=\"word-break: unset; background-color: unset;\">chr1:843600-844990</pre></td><td><pre style=\"word-break: unset; background-color: unset;\">ENSG00000188976</pre></td><td><pre style=\"word-break: unset; background-color: unset;\">1.016813</pre></td><td><pre style=\"word-break: unset; background-color: unset;\">3.0</pre></td></tr><tr><td><pre style=\"word-break: unset; background-color: unset;\">chr1:966620-966700</pre></td><td><pre style=\"word-break: unset; background-color: unset;\">ENSG00000188976</pre></td><td><pre style=\"word-break: unset; background-color: unset;\">2.58213</pre></td><td><pre style=\"word-break: unset; background-color: unset;\">4.0</pre></td></tr><tr><td><pre style=\"word-break: unset; background-color: unset;\">chr1:1013580-1013980</pre></td><td><pre style=\"word-break: unset; background-color: unset;\">ENSG00000188976</pre></td><td><pre style=\"word-break: unset; background-color: unset;\">2.073247</pre></td><td><pre style=\"word-break: unset; background-color: unset;\">5.0</pre></td></tr></table><br /><pre>only showing top 5 rows</pre>"
     },
     "metadata": {},
     "output_type": "display_data"
    }
   ],
   "execution_count": 30
  },
  {
   "metadata": {
    "trusted": false,
    "ExecuteTime": {
     "end_time": "2025-05-13T12:55:37.903544Z",
     "start_time": "2025-05-13T12:55:37.667381Z"
    }
   },
   "cell_type": "code",
   "source": "from pyspark.sql import functions as F, types as T\nimport numpy as np\n\n@F.udf(T.ArrayType(T.DoubleType()))\ndef diff(A, B):\n    return np.abs(np.array(A) - np.array(B)).tolist()\n\n@F.udf(T.DoubleType())\ndef var(A):\n    return float(np.var(A))\n\n@F.udf(T.DoubleType())\ndef avg(A):\n    return float(np.mean(A))\n",
   "id": "967f988677db7143",
   "outputs": [
    {
     "data": {
      "text/plain": [
       "FloatProgress(value=0.0, bar_style='info', description='Progress:', layout=Layout(height='25px', width='50%'),…"
      ],
      "application/vnd.jupyter.widget-view+json": {
       "version_major": 2,
       "version_minor": 0,
       "model_id": "21b2ab5dbb8049e497c0cf7102d069f4"
      }
     },
     "metadata": {},
     "output_type": "display_data"
    }
   ],
   "execution_count": 42
  },
  {
   "metadata": {
    "trusted": false,
    "ExecuteTime": {
     "end_time": "2025-05-13T13:03:08.706594Z",
     "start_time": "2025-05-13T13:00:45.168800Z"
    }
   },
   "cell_type": "code",
   "source": [
    "gm12878_neanderthal_df_ref = (\n",
    "    load_distance_calculation_df([\n",
    "        {\n",
    "            '$match': {\n",
    "                '_id.project_id': '8k_models_project_GM12878',\n",
    "                '_id.ensemble_id': {'$regex': '^models3D_GM12878_Nean_models3D_GM12878_Nean_results'},\n",
    "            }\n",
    "        }\n",
    "    ])\n",
    "    .where(\n",
    "        F.col('gene_type') == 'protein_coding'\n",
    "    )\n",
    "    .select(\n",
    "        F.col('_id.region_id').alias('region_id'),\n",
    "        F.col('_id.gene_id').alias('gene_id'),\n",
    "        F.col('_id.enh_id').alias('enh_id'),\n",
    "        'avg_dist'\n",
    "    )\n",
    "    # gene_id ENH00001.XXX -> ENH00001\n",
    "    .withColumn('gene_id', F.split(F.col('gene_id'), '\\.')[0])\n",
    "    .alias(\"gm12878\")\n",
    "    .cache()\n",
    ")\n",
    "\n",
    "hffc6_neanderthal_df_ref = (\n",
    "    load_distance_calculation_df([\n",
    "        {\n",
    "            '$match': {\n",
    "                '_id.project_id': '8k_models_project_HFFC6',\n",
    "                '_id.ensemble_id': {'$regex': '^models3D_HFFC6_Nean_models3D_HFFC6_Nean_results'},\n",
    "            }\n",
    "        }\n",
    "    ])\n",
    "    .where(\n",
    "        F.col('gene_type') == 'protein_coding'\n",
    "    )\n",
    "    .select(\n",
    "        F.col('_id.region_id').alias('region_id'),\n",
    "        F.col('_id.gene_id').alias('gene_id'),\n",
    "        F.col('_id.enh_id').alias('enh_id'),\n",
    "        'avg_dist'\n",
    "    )\n",
    "     # gene_id ENH00001.XXX -> ENH00001\n",
    "    .withColumn('gene_id', F.split(F.col('gene_id'), '\\.')[0])\n",
    "    .alias(\"hffc6\")\n",
    "    .cache()\n",
    ")"
   ],
   "id": "bfacd43338f0a8f2",
   "outputs": [
    {
     "data": {
      "text/plain": [
       "FloatProgress(value=0.0, bar_style='info', description='Progress:', layout=Layout(height='25px', width='50%'),…"
      ],
      "application/vnd.jupyter.widget-view+json": {
       "version_major": 2,
       "version_minor": 0,
       "model_id": "143842ced7b042c49c1f0547865d8761"
      }
     },
     "metadata": {},
     "output_type": "display_data"
    },
    {
     "name": "stdout",
     "output_type": "stream",
     "text": [
      "<stdin>:20: SyntaxWarning: invalid escape sequence '\\.'\n",
      "<stdin>:44: SyntaxWarning: invalid escape sequence '\\.'"
     ]
    }
   ],
   "execution_count": 49
  },
  {
   "metadata": {
    "trusted": false,
    "ExecuteTime": {
     "end_time": "2025-05-13T13:00:37.214353Z",
     "start_time": "2025-05-13T13:00:36.979290Z"
    }
   },
   "cell_type": "code",
   "source": "%%pretty\ngm12878_neanderthal_df_ref.show(5)",
   "id": "83b2d9873f89cc8b",
   "outputs": [
    {
     "data": {
      "text/plain": [
       "FloatProgress(value=0.0, bar_style='info', description='Progress:', layout=Layout(height='25px', width='50%'),…"
      ],
      "application/vnd.jupyter.widget-view+json": {
       "version_major": 2,
       "version_minor": 0,
       "model_id": "ecba1478222e43c7856d7b79477a3ba8"
      }
     },
     "metadata": {},
     "output_type": "display_data"
    },
    {
     "data": {
      "text/plain": [
       "<IPython.core.display.HTML object>"
      ],
      "text/html": [
       "<table><tr><th><pre style=\"word-break: unset; background-color: unset;\">region_id</pre></th><th><pre style=\"word-break: unset; background-color: unset;\">gene_id</pre></th><th><pre style=\"word-break: unset; background-color: unset;\">enh_id</pre></th><th><pre style=\"word-break: unset; background-color: unset;\">avg_dist</pre></th></tr><tr><td><pre style=\"word-break: unset; background-color: unset;\">chr10:10300866-12...</pre></td><td><pre style=\"word-break: unset; background-color: unset;\"></pre></td><td><pre style=\"word-break: unset; background-color: unset;\">chr10:10854747-10...</pre></td><td><pre style=\"word-break: unset; background-color: unset;\">10.029472351074219</pre></td></tr><tr><td><pre style=\"word-break: unset; background-color: unset;\">chr10:10300866-12...</pre></td><td><pre style=\"word-break: unset; background-color: unset;\"></pre></td><td><pre style=\"word-break: unset; background-color: unset;\">chr10:10869487-10...</pre></td><td><pre style=\"word-break: unset; background-color: unset;\">12.780106544494629</pre></td></tr><tr><td><pre style=\"word-break: unset; background-color: unset;\">chr10:10300866-12...</pre></td><td><pre style=\"word-break: unset; background-color: unset;\"></pre></td><td><pre style=\"word-break: unset; background-color: unset;\">chr10:11074217-11...</pre></td><td><pre style=\"word-break: unset; background-color: unset;\">22.668201446533203</pre></td></tr><tr><td><pre style=\"word-break: unset; background-color: unset;\">chr10:10300866-12...</pre></td><td><pre style=\"word-break: unset; background-color: unset;\"></pre></td><td><pre style=\"word-break: unset; background-color: unset;\">chr10:11080347-11...</pre></td><td><pre style=\"word-break: unset; background-color: unset;\">22.45758628845215</pre></td></tr><tr><td><pre style=\"word-break: unset; background-color: unset;\">chr10:10300866-12...</pre></td><td><pre style=\"word-break: unset; background-color: unset;\"></pre></td><td><pre style=\"word-break: unset; background-color: unset;\">chr10:11091167-11...</pre></td><td><pre style=\"word-break: unset; background-color: unset;\">22.26520347595215</pre></td></tr></table><br /><pre>only showing top 5 rows</pre>"
      ]
     },
     "metadata": {},
     "output_type": "display_data"
    }
   ],
   "execution_count": 48
  },
  {
   "metadata": {
    "trusted": false,
    "ExecuteTime": {
     "end_time": "2025-05-13T13:03:14.179543Z",
     "start_time": "2025-05-13T13:03:13.943718Z"
    }
   },
   "cell_type": "code",
   "source": "gm12878_existing_links_df = (\n    gm12878_neanderthal_df_ref\n    .join(\n        other=links_gm12878_df,\n        on=F.expr(\"gm12878.gene_id = links.gene_id AND gm12878.enh_id = links.enh_id\"),\n        how=\"inner\"\n    )\n    .select(\n        gm12878_neanderthal_df_ref.region_id,\n        gm12878_neanderthal_df_ref.gene_id,\n        gm12878_neanderthal_df_ref.enh_id,\n        gm12878_neanderthal_df_ref.avg_dist\n    )\n)\n\nhffc6_existing_links_df = (\n    hffc6_neanderthal_df_ref\n    .join(\n        other=links_hffc6_df,\n        on=F.expr(\"hffc6.gene_id = links.gene_id AND hffc6.enh_id = links.enh_id\"),\n        how=\"inner\"\n    )\n    .select(\n        hffc6_neanderthal_df_ref.region_id,\n        hffc6_neanderthal_df_ref.gene_id,\n        hffc6_neanderthal_df_ref.enh_id,\n        hffc6_neanderthal_df_ref.avg_dist\n    )\n)\n\ngm12878_hffc6_common_links_df = (\n    gm12878_existing_links_df\n    .join(\n        other=hffc6_existing_links_df,\n        on=F.expr(\"gm12878.gene_id = hffc6.gene_id AND gm12878.enh_id = hffc6.enh_id\"),\n        how=\"inner\"\n    )\n    .select(\n        gm12878_existing_links_df.region_id,\n        gm12878_existing_links_df.gene_id,\n        gm12878_existing_links_df.enh_id,\n        gm12878_existing_links_df.avg_dist.alias('gm12878_avg_dist'),\n        hffc6_existing_links_df.avg_dist.alias('hffc6_avg_dist')\n    )\n)\n\ngm12878_hffc6_gm12878_only_links_df = (\n    gm12878_existing_links_df\n    .join(\n        other=hffc6_existing_links_df,\n        on=F.expr(\"gm12878.gene_id = hffc6.gene_id AND gm12878.enh_id = hffc6.enh_id\"),\n        how=\"left_anti\"\n    )\n    .select(\n        gm12878_existing_links_df.region_id,\n        gm12878_existing_links_df.gene_id,\n        gm12878_existing_links_df.enh_id,\n        gm12878_existing_links_df.avg_dist.alias('gm12878_avg_dist')\n    )\n)\n\ngm12878_hffc6_hffc6_only_links_df = (\n    hffc6_existing_links_df\n    .join(\n        other=gm12878_existing_links_df,\n        on=F.expr(\"hffc6.gene_id = gm12878.gene_id AND hffc6.enh_id = gm12878.enh_id\"),\n        how=\"left_anti\"\n    )\n    .select(\n        hffc6_existing_links_df.region_id,\n        hffc6_existing_links_df.gene_id,\n        hffc6_existing_links_df.enh_id,\n        hffc6_existing_links_df.avg_dist.alias('hffc6_avg_dist')\n    )\n)",
   "id": "6f9359ee6b5e672e",
   "outputs": [
    {
     "data": {
      "text/plain": [
       "FloatProgress(value=0.0, bar_style='info', description='Progress:', layout=Layout(height='25px', width='50%'),…"
      ],
      "application/vnd.jupyter.widget-view+json": {
       "version_major": 2,
       "version_minor": 0,
       "model_id": "f035f6bf08ce4907844afcc05c4b2ec8"
      }
     },
     "metadata": {},
     "output_type": "display_data"
    }
   ],
   "execution_count": 50
  },
  {
   "metadata": {
    "trusted": false,
    "ExecuteTime": {
     "end_time": "2025-05-13T13:11:04.480367Z",
     "start_time": "2025-05-13T13:03:16.291412Z"
    }
   },
   "cell_type": "code",
   "source": "gm12878_existing_links_df.count(), hffc6_existing_links_df.count(), gm12878_hffc6_common_links_df.count(), gm12878_hffc6_gm12878_only_links_df.count(), gm12878_hffc6_hffc6_only_links_df.count()",
   "id": "6225150aa070082c",
   "outputs": [
    {
     "data": {
      "text/plain": [
       "FloatProgress(value=0.0, bar_style='info', description='Progress:', layout=Layout(height='25px', width='50%'),…"
      ],
      "application/vnd.jupyter.widget-view+json": {
       "version_major": 2,
       "version_minor": 0,
       "model_id": "4ff7225619004e35bf3de0bb9cf7a605"
      }
     },
     "metadata": {},
     "output_type": "display_data"
    },
    {
     "name": "stdout",
     "output_type": "stream",
     "text": [
      "(13840, 20416, 3656, 10184, 16760)"
     ]
    }
   ],
   "execution_count": 51
  },
  {
   "metadata": {
    "trusted": false,
    "ExecuteTime": {
     "end_time": "2025-05-13T13:14:21.223548Z",
     "start_time": "2025-05-13T13:14:09.953255Z"
    }
   },
   "cell_type": "code",
   "source": [
    "import os\n",
    "\n",
    "# write all to csv into /work/playground/links/experiment_1\n",
    "os.makedirs(\"/work/playground/links/experiment_1\", exist_ok=True)\n",
    "\n",
    "gm12878_neanderthal_df_ref.toPandas().to_parquet(\"/work/playground/links/experiment_1/gm12878_neanderthal_df_ref.parquet\", index=False)\n",
    "hffc6_neanderthal_df_ref.toPandas().to_parquet(\"/work/playground/links/experiment_1/hffc6_neanderthal_df_ref.parquet\", index=False)\n",
    "\n",
    "gm12878_hffc6_common_links_df.toPandas().to_csv(\"/work/playground/links/experiment_1/gm12878_hffc6_common_links.csv\", index=False)\n",
    "gm12878_existing_links_df.toPandas().to_csv(\"/work/playground/links/experiment_1/gm12878_existing_links.csv\", index=False)\n",
    "hffc6_existing_links_df.toPandas().to_csv(\"/work/playground/links/experiment_1/hffc6_existing_links.csv\", index=False)\n",
    "gm12878_hffc6_gm12878_only_links_df.toPandas().to_csv(\"/work/playground/links/experiment_1/gm12878_hffc6_gm12878_only_links.csv\", index=False)\n",
    "gm12878_hffc6_hffc6_only_links_df.toPandas().to_csv(\"/work/playground/links/experiment_1/gm12878_hffc6_hffc6_only_links.csv\", index=False)"
   ],
   "id": "e3c58a733df50b32",
   "outputs": [
    {
     "data": {
      "text/plain": [
       "FloatProgress(value=0.0, bar_style='info', description='Progress:', layout=Layout(height='25px', width='50%'),…"
      ],
      "application/vnd.jupyter.widget-view+json": {
       "version_major": 2,
       "version_minor": 0,
       "model_id": "239e366285164915a83e51038f6752ce"
      }
     },
     "metadata": {},
     "output_type": "display_data"
    }
   ],
   "execution_count": 54
  }
 ],
 "metadata": {
  "kernelspec": {
   "display_name": "PySpark",
   "language": "python",
   "name": "pysparkkernel"
  }
 },
 "nbformat": 4,
 "nbformat_minor": 5
}
