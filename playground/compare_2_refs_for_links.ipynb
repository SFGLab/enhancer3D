{
 "cells": [
  {
   "cell_type": "code",
   "execution_count": 3,
   "id": "9e2bcaa92ac70cc2",
   "metadata": {
    "ExecuteTime": {
     "end_time": "2025-05-13T08:38:19.663092Z",
     "start_time": "2025-05-13T08:38:09.597463Z"
    }
   },
   "outputs": [
    {
     "name": "stdout",
     "output_type": "stream",
     "text": [
      "Starting Spark application\n"
     ]
    },
    {
     "data": {
      "text/html": [
       "<table>\n",
       "<tr><th>ID</th><th>YARN Application ID</th><th>Kind</th><th>State</th><th>Spark UI</th><th>Driver log</th><th>User</th><th>Current session?</th></tr><tr><td>3</td><td>None</td><td>pyspark</td><td>idle</td><td></td><td></td><td>None</td><td>✔</td></tr></table>"
      ],
      "text/plain": [
       "<IPython.core.display.HTML object>"
      ]
     },
     "metadata": {},
     "output_type": "display_data"
    },
    {
     "data": {
      "application/vnd.jupyter.widget-view+json": {
       "model_id": "94d546f6301142eda7cebd34343e823a",
       "version_major": 2,
       "version_minor": 0
      },
      "text/plain": [
       "FloatProgress(value=0.0, bar_style='info', description='Progress:', layout=Layout(height='25px', width='50%'),…"
      ]
     },
     "metadata": {},
     "output_type": "display_data"
    },
    {
     "name": "stdout",
     "output_type": "stream",
     "text": [
      "SparkSession available as 'spark'.\n"
     ]
    },
    {
     "data": {
      "text/html": [
       "Current session configs: <tt>{'conf': {'spark.sql.catalog.spark_catalog.type': 'hive'}, 'driverMemory': '4G', 'driverCores': 2, 'executorMemory': '12G', 'executorCores': 6, 'numExecutors': 3, 'kind': 'pyspark'}</tt><br>"
      ],
      "text/plain": [
       "<IPython.core.display.HTML object>"
      ]
     },
     "metadata": {},
     "output_type": "display_data"
    },
    {
     "data": {
      "text/html": [
       "<table>\n",
       "<tr><th>ID</th><th>YARN Application ID</th><th>Kind</th><th>State</th><th>Spark UI</th><th>Driver log</th><th>User</th><th>Current session?</th></tr><tr><td>3</td><td>None</td><td>pyspark</td><td>idle</td><td></td><td></td><td>None</td><td>✔</td></tr></table>"
      ],
      "text/plain": [
       "<IPython.core.display.HTML object>"
      ]
     },
     "metadata": {},
     "output_type": "display_data"
    }
   ],
   "source": [
    "%%configure -f\n",
    "{\"driverMemory\": \"4G\", \"driverCores\": 2, \"executorMemory\": \"12G\", \"executorCores\": 6, \"numExecutors\": 3}"
   ]
  },
  {
   "cell_type": "code",
   "execution_count": 6,
   "id": "faedc7f141e93867",
   "metadata": {
    "ExecuteTime": {
     "end_time": "2025-05-13T09:35:45.301346Z",
     "start_time": "2025-05-13T09:35:26.001244Z"
    }
   },
   "outputs": [
    {
     "data": {
      "application/vnd.jupyter.widget-view+json": {
       "model_id": "28ba3bba1e9848db939931e588d52c54",
       "version_major": 2,
       "version_minor": 0
      },
      "text/plain": [
       "FloatProgress(value=0.0, bar_style='info', description='Progress:', layout=Layout(height='25px', width='50%'),…"
      ]
     },
     "metadata": {},
     "output_type": "display_data"
    }
   ],
   "source": [
    "from typing import List\n",
    "\n",
    "from pyspark import SparkFiles\n",
    "from subprocess import call\n",
    "import sys\n",
    "\n",
    "\n",
    "def install_deps(deps: List[str]) -> None:\n",
    "    call([sys.executable, '-m', 'pip', 'install', '-q', '-t', SparkFiles.getRootDirectory(), *deps])\n",
    "\n",
    "\n",
    "install_deps(['numpy', 'matplotlib', 'pandas', 'scipy', 'seaborn'])"
   ]
  },
  {
   "cell_type": "code",
   "execution_count": 5,
   "id": "d86e139810fc594f",
   "metadata": {
    "ExecuteTime": {
     "end_time": "2025-05-13T09:01:39.572007Z",
     "start_time": "2025-05-13T09:01:39.536600Z"
    }
   },
   "outputs": [
    {
     "data": {
      "application/vnd.jupyter.widget-view+json": {
       "model_id": "2e761a6b4aca4642bb03274e2a2a0d28",
       "version_major": 2,
       "version_minor": 0
      },
      "text/plain": [
       "FloatProgress(value=0.0, bar_style='info', description='Progress:', layout=Layout(height='25px', width='50%'),…"
      ]
     },
     "metadata": {},
     "output_type": "display_data"
    }
   ],
   "source": [
    "from typing import Optional\n",
    "import json\n",
    "from pyspark.sql import SparkSession, DataFrame\n",
    "\n",
    "spark: SparkSession\n",
    "\n",
    "def load_distance_calculation_df(aggregation_pipeline: Optional[List] = None) -> DataFrame:\n",
    "    if aggregation_pipeline is None:\n",
    "        aggregation_pipeline = []\n",
    "    \n",
    "    return (\n",
    "        spark\n",
    "        .read\n",
    "        .format(\"mongodb\")\n",
    "        .option(\"partitioner\", \"com.mongodb.spark.sql.connector.read.partitioner.SamplePartitioner\")\n",
    "        .option(\"partitioner.options.partition.field\", \"_id\")\n",
    "        .option(\"partitioner.options.partition.size\", \"64\")\n",
    "        .option(\"partitioner.options.samples.per.partition\", \"2\")\n",
    "        .option(\"database\", \"enhancer3d\")\n",
    "        .option(\"collection\", \"distance_calculation\")\n",
    "        .option(\"aggregation.pipeline\", json.dumps(aggregation_pipeline))\n",
    "        .load()\n",
    "    )"
   ]
  },
  {
   "cell_type": "code",
   "execution_count": null,
   "id": "d8dbdbbe41ad0c73",
   "metadata": {},
   "outputs": [],
   "source": []
  }
 ],
 "metadata": {
  "kernelspec": {
   "display_name": "Python 3 (ipykernel)",
   "language": "python",
   "name": "python3"
  }
 },
 "nbformat": 4,
 "nbformat_minor": 5
}
