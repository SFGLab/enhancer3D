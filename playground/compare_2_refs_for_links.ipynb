{
 "cells": [
  {
   "metadata": {
    "trusted": false,
    "ExecuteTime": {
     "end_time": "2025-05-19T22:07:23.227953Z",
     "start_time": "2025-05-19T22:07:00.699576Z"
    }
   },
   "cell_type": "code",
   "source": [
    "%%configure -f\n",
    "{\"driverMemory\": \"4G\", \"driverCores\": 4, \"executorMemory\": \"12G\", \"executorCores\": 4, \"numExecutors\": 3}"
   ],
   "id": "4c14b1dabbaf2cb",
   "outputs": [
    {
     "name": "stdout",
     "output_type": "stream",
     "text": [
      "Starting Spark application\n"
     ]
    },
    {
     "data": {
      "text/plain": [
       "<IPython.core.display.HTML object>"
      ],
      "text/html": [
       "<table>\n",
       "<tr><th>ID</th><th>YARN Application ID</th><th>Kind</th><th>State</th><th>Spark UI</th><th>Driver log</th><th>User</th><th>Current session?</th></tr><tr><td>2</td><td>None</td><td>pyspark</td><td>idle</td><td></td><td></td><td>None</td><td>✔</td></tr></table>"
      ]
     },
     "metadata": {},
     "output_type": "display_data"
    },
    {
     "data": {
      "text/plain": [
       "FloatProgress(value=0.0, bar_style='info', description='Progress:', layout=Layout(height='25px', width='50%'),…"
      ],
      "application/vnd.jupyter.widget-view+json": {
       "version_major": 2,
       "version_minor": 0,
       "model_id": "a15934585cc44fd0af8a032744a7ff82"
      }
     },
     "metadata": {},
     "output_type": "display_data"
    },
    {
     "name": "stdout",
     "output_type": "stream",
     "text": [
      "SparkSession available as 'spark'.\n"
     ]
    },
    {
     "data": {
      "text/plain": [
       "<IPython.core.display.HTML object>"
      ],
      "text/html": [
       "Current session configs: <tt>{'conf': {'spark.sql.catalog.spark_catalog.type': 'hive'}, 'driverMemory': '4G', 'driverCores': 4, 'executorMemory': '12G', 'executorCores': 4, 'numExecutors': 3, 'kind': 'pyspark'}</tt><br>"
      ]
     },
     "metadata": {},
     "output_type": "display_data"
    },
    {
     "data": {
      "text/plain": [
       "<IPython.core.display.HTML object>"
      ],
      "text/html": [
       "<table>\n",
       "<tr><th>ID</th><th>YARN Application ID</th><th>Kind</th><th>State</th><th>Spark UI</th><th>Driver log</th><th>User</th><th>Current session?</th></tr><tr><td>2</td><td>None</td><td>pyspark</td><td>idle</td><td></td><td></td><td>None</td><td>✔</td></tr></table>"
      ]
     },
     "metadata": {},
     "output_type": "display_data"
    }
   ],
   "execution_count": 71
  },
  {
   "metadata": {
    "trusted": false,
    "ExecuteTime": {
     "end_time": "2025-05-19T22:07:59.725417Z",
     "start_time": "2025-05-19T22:07:24.381038Z"
    }
   },
   "cell_type": "code",
   "source": "from typing import List\n\nfrom pyspark import SparkFiles\nfrom subprocess import call\nimport sys\n\n\ndef install_deps(deps: List[str]) -> None:\n    call([sys.executable, '-m', 'pip', 'install', '-q', '-t', SparkFiles.getRootDirectory(), *deps])\n\n\ninstall_deps(['numpy', 'matplotlib', 'pandas', 'scipy', 'seaborn', 'statsmodels', 'pyarrow'])",
   "id": "26e8ee22c248cdfe",
   "outputs": [
    {
     "data": {
      "text/plain": [
       "FloatProgress(value=0.0, bar_style='info', description='Progress:', layout=Layout(height='25px', width='50%'),…"
      ],
      "application/vnd.jupyter.widget-view+json": {
       "version_major": 2,
       "version_minor": 0,
       "model_id": "3bd3ef8cc36b436caa324cc142191e85"
      }
     },
     "metadata": {},
     "output_type": "display_data"
    }
   ],
   "execution_count": 72
  },
  {
   "metadata": {
    "trusted": false,
    "ExecuteTime": {
     "end_time": "2025-05-19T22:08:06.632347Z",
     "start_time": "2025-05-19T22:08:04.381065Z"
    }
   },
   "cell_type": "code",
   "source": [
    "from pyspark import SparkContext\n",
    "from pyspark.sql import SparkSession, DataFrame\n",
    "\n",
    "sc: SparkContext\n",
    "spark: SparkSession\n",
    "\n",
    "distance_calculation_df = (\n",
    "    spark\n",
    "    .read\n",
    "    .format(\"mongodb\")\n",
    "    .option(\"database\", \"enhancer3d\")\n",
    "    .option(\"collection\", \"distance_calculation\")\n",
    "    .option(\"partitioner\", \"com.mongodb.spark.sql.connector.read.partitioner.PaginateIntoPartitionsPartitioner\")\n",
    "    .option(\"partitioner.options.max.number.of.partitions\", 128)\n",
    "    .load()\n",
    "    .repartition(\n",
    "        12,\n",
    "        '_id.project_id',\n",
    "        '_id.region_id',\n",
    "        '_id.gene_id',\n",
    "        '_id.enh_id'\n",
    "    )\n",
    ")"
   ],
   "id": "9321644c73abf9c1",
   "outputs": [
    {
     "data": {
      "text/plain": [
       "FloatProgress(value=0.0, bar_style='info', description='Progress:', layout=Layout(height='25px', width='50%'),…"
      ],
      "application/vnd.jupyter.widget-view+json": {
       "version_major": 2,
       "version_minor": 0,
       "model_id": "972a15075b5d4e91a08f42409cbe16b4"
      }
     },
     "metadata": {},
     "output_type": "display_data"
    }
   ],
   "execution_count": 73
  },
  {
   "metadata": {
    "trusted": false,
    "ExecuteTime": {
     "end_time": "2025-05-19T22:08:12.815233Z",
     "start_time": "2025-05-19T22:08:09.554632Z"
    }
   },
   "cell_type": "code",
   "source": [
    "links_gm12878_df = (\n",
    "    spark\n",
    "    .read\n",
    "    .format(\"parquet\")\n",
    "    .option(\"header\", \"true\")\n",
    "    .option(\"inferSchema\", \"true\")\n",
    "    .load(\"/work/data/links/GM12878_EP_hg38_liftovered.parquet\")\n",
    "    .alias(\"links\")\n",
    "    .repartition(\n",
    "        12,\n",
    "        'gene_id',\n",
    "        'enh_id'\n",
    "    )\n",
    ")\n",
    "\n",
    "links_hffc6_df = (\n",
    "    spark\n",
    "    .read\n",
    "    .format(\"parquet\")\n",
    "    .option(\"header\", \"true\")\n",
    "    .option(\"inferSchema\", \"true\")\n",
    "    .load(\"/work/data/links/HFFC6_EP_hg38_liftovered.parquet\")\n",
    "    .alias(\"links\")\n",
    "    .repartition(\n",
    "        12,\n",
    "        'gene_id',\n",
    "        'enh_id'\n",
    "    )\n",
    ")\n",
    "\n",
    "links_h1esc_df = (\n",
    "    spark\n",
    "    .read\n",
    "    .format(\"parquet\")\n",
    "    .option(\"header\", \"true\")\n",
    "    .option(\"inferSchema\", \"true\")\n",
    "    .load(\"/work/data/links/H1ESC_EP_hg38_liftovered.parquet\")\n",
    "    .alias(\"links\")\n",
    "    .repartition(\n",
    "        12,\n",
    "        'gene_id',\n",
    "        'enh_id'\n",
    "    )\n",
    ")"
   ],
   "id": "e9aa021f5dac33df",
   "outputs": [
    {
     "data": {
      "text/plain": [
       "FloatProgress(value=0.0, bar_style='info', description='Progress:', layout=Layout(height='25px', width='50%'),…"
      ],
      "application/vnd.jupyter.widget-view+json": {
       "version_major": 2,
       "version_minor": 0,
       "model_id": "dc516205557848ef95a8a25e99660b41"
      }
     },
     "metadata": {},
     "output_type": "display_data"
    }
   ],
   "execution_count": 74
  },
  {
   "metadata": {
    "trusted": false,
    "ExecuteTime": {
     "end_time": "2025-05-19T21:21:53.941078Z",
     "start_time": "2025-05-19T21:21:51.686023Z"
    }
   },
   "cell_type": "code",
   "source": "%%pretty\nlinks_gm12878_df.show(5)",
   "id": "88c1cfe5ae1e4157",
   "outputs": [
    {
     "data": {
      "text/plain": [
       "FloatProgress(value=0.0, bar_style='info', description='Progress:', layout=Layout(height='25px', width='50%'),…"
      ],
      "application/vnd.jupyter.widget-view+json": {
       "version_major": 2,
       "version_minor": 0,
       "model_id": "f67099e378684424b6e45523a7339eea"
      }
     },
     "metadata": {},
     "output_type": "display_data"
    },
    {
     "data": {
      "text/plain": [
       "<IPython.core.display.HTML object>"
      ],
      "text/html": [
       "<table><tr><th><pre style=\"word-break: unset; background-color: unset;\">enh_id</pre></th><th><pre style=\"word-break: unset; background-color: unset;\">gene_id</pre></th><th><pre style=\"word-break: unset; background-color: unset;\">pval</pre></th><th><pre style=\"word-break: unset; background-color: unset;\">qval</pre></th></tr><tr><td><pre style=\"word-break: unset; background-color: unset;\">chr1:843600-844990</pre></td><td><pre style=\"word-break: unset; background-color: unset;\">ENSG00000197049</pre></td><td><pre style=\"word-break: unset; background-color: unset;\">1.180354</pre></td><td><pre style=\"word-break: unset; background-color: unset;\">1.0</pre></td></tr><tr><td><pre style=\"word-break: unset; background-color: unset;\">chr1:966620-966700</pre></td><td><pre style=\"word-break: unset; background-color: unset;\">ENSG00000197049</pre></td><td><pre style=\"word-break: unset; background-color: unset;\">0.642743</pre></td><td><pre style=\"word-break: unset; background-color: unset;\">2.0</pre></td></tr><tr><td><pre style=\"word-break: unset; background-color: unset;\">chr1:843600-844990</pre></td><td><pre style=\"word-break: unset; background-color: unset;\">ENSG00000188976</pre></td><td><pre style=\"word-break: unset; background-color: unset;\">1.016813</pre></td><td><pre style=\"word-break: unset; background-color: unset;\">3.0</pre></td></tr><tr><td><pre style=\"word-break: unset; background-color: unset;\">chr1:966620-966700</pre></td><td><pre style=\"word-break: unset; background-color: unset;\">ENSG00000188976</pre></td><td><pre style=\"word-break: unset; background-color: unset;\">2.58213</pre></td><td><pre style=\"word-break: unset; background-color: unset;\">4.0</pre></td></tr><tr><td><pre style=\"word-break: unset; background-color: unset;\">chr1:1013580-1013980</pre></td><td><pre style=\"word-break: unset; background-color: unset;\">ENSG00000188976</pre></td><td><pre style=\"word-break: unset; background-color: unset;\">2.073247</pre></td><td><pre style=\"word-break: unset; background-color: unset;\">5.0</pre></td></tr></table><br /><pre>only showing top 5 rows</pre>"
      ]
     },
     "metadata": {},
     "output_type": "display_data"
    }
   ],
   "execution_count": 45
  },
  {
   "metadata": {
    "trusted": false,
    "ExecuteTime": {
     "end_time": "2025-05-19T22:08:15.844210Z",
     "start_time": "2025-05-19T22:08:14.592792Z"
    }
   },
   "cell_type": "code",
   "source": [
    "from pyspark.sql import functions as F, types as T\n",
    "import numpy as np\n",
    "from scipy import stats\n",
    "from statsmodels.sandbox.stats.multicomp import multipletests\n",
    "\n",
    "@F.udf(T.ArrayType(T.DoubleType()))\n",
    "def diff(A, B):\n",
    "    return np.abs(np.array(A) - np.array(B)).tolist()\n",
    "\n",
    "@F.udf(T.DoubleType())\n",
    "def var(A):\n",
    "    return float(np.var(A))\n",
    "\n",
    "@F.udf(T.DoubleType())\n",
    "def avg(A):\n",
    "    return float(np.mean(A))\n",
    "\n",
    "@F.udf(T.DoubleType())\n",
    "def mannwhiteneyu(ref, mod):\n",
    "    result = stats.mannwhitneyu(np.array(ref), np.array(mod), alternative='two-sided')\n",
    "    return float(result.pvalue)\n",
    "\n",
    "@F.udf(T.DoubleType())\n",
    "def bonferroni_correction(pvalues, alpha=0.05):\n",
    "    reject, pvals_corrected, _, _ = multipletests(pvalues, alpha=alpha, method='bonferroni')\n",
    "    return float(np.mean(pvals_corrected))\n"
   ],
   "id": "967f988677db7143",
   "outputs": [
    {
     "data": {
      "text/plain": [
       "FloatProgress(value=0.0, bar_style='info', description='Progress:', layout=Layout(height='25px', width='50%'),…"
      ],
      "application/vnd.jupyter.widget-view+json": {
       "version_major": 2,
       "version_minor": 0,
       "model_id": "c6cb5a2de6f14e57834ff40a4d284816"
      }
     },
     "metadata": {},
     "output_type": "display_data"
    }
   ],
   "execution_count": 75
  },
  {
   "metadata": {
    "trusted": false,
    "jupyter": {
     "is_executing": true
    },
    "ExecuteTime": {
     "start_time": "2025-05-19T22:08:16.630483Z"
    }
   },
   "cell_type": "code",
   "source": [
    "gm12878_neanderthal_df_ref = (\n",
    "    distance_calculation_df\n",
    "    .where(\n",
    "        (F.col('_id.project_id') == '8k_models_project_GM12878')\n",
    "        & (F.col('_id.ensemble_id').like('models3D_GM12878_Nean_models3D_GM12878_Nean_results%'))\n",
    "        & (F.col('gene_type') == 'protein_coding')\n",
    "        # & (F.col('enh_tSS_distance') < 20_000)\n",
    "    )\n",
    "    .select(\n",
    "        F.col('_id.region_id').alias('region_id'),\n",
    "        F.col('_id.gene_id').alias('gene_id'),\n",
    "        F.col('_id.enh_id').alias('enh_id'),\n",
    "        # 'dist',\n",
    "        'avg_dist',\n",
    "        'enh_tSS_distance'\n",
    "    )\n",
    "    # gene_id ENH00001.XXX -> ENH00001\n",
    "    .withColumn('gene_id', F.split(F.col('gene_id'), '\\.')[0])\n",
    "    .alias(\"gm12878\")\n",
    "    .cache()\n",
    ")\n",
    "\n",
    "hffc6_neanderthal_df_ref = (\n",
    "    distance_calculation_df\n",
    "    .where(\n",
    "        (F.col('_id.project_id') == '8k_models_project_HFFC6')\n",
    "        & (F.col('_id.ensemble_id').like('models3D_HFFC6_Nean_models3D_HFFC6_Nean_results%'))\n",
    "        & (F.col('gene_type') == 'protein_coding')\n",
    "        # & (F.col('enh_tSS_distance') < 20_000)\n",
    "    )\n",
    "    .select(\n",
    "        F.col('_id.region_id').alias('region_id'),\n",
    "        F.col('_id.gene_id').alias('gene_id'),\n",
    "        F.col('_id.enh_id').alias('enh_id'),\n",
    "        # 'dist',\n",
    "        'avg_dist',\n",
    "        'enh_tSS_distance'\n",
    "    )\n",
    "     # gene_id ENH00001.XXX -> ENH00001\n",
    "    .withColumn('gene_id', F.split(F.col('gene_id'), '\\.')[0])\n",
    "    .alias(\"hffc6\")\n",
    "    .cache()\n",
    ")\n",
    "\n",
    "h1esc_neanderthal_df_ref = (\n",
    "    distance_calculation_df\n",
    "    .where(\n",
    "        (F.col('_id.project_id') == '8k_models_project_H1ESC')\n",
    "        & (F.col('_id.ensemble_id').like('models3D_H1ESC_Nean_models3D_H1ESC_Nean_results%'))\n",
    "        & (F.col('gene_type') == 'protein_coding')\n",
    "        # & (F.col('enh_tSS_distance') < 20_000)\n",
    "    )\n",
    "    .select(\n",
    "        F.col('_id.region_id').alias('region_id'),\n",
    "        F.col('_id.gene_id').alias('gene_id'),\n",
    "        F.col('_id.enh_id').alias('enh_id'),\n",
    "        # 'dist',\n",
    "        'avg_dist',\n",
    "        'enh_tSS_distance'\n",
    "    )\n",
    "     # gene_id ENH00001.XXX -> ENH00001\n",
    "    .withColumn('gene_id', F.split(F.col('gene_id'), '\\.')[0])\n",
    "    .alias(\"h1esc\")\n",
    "    .cache()\n",
    ")"
   ],
   "id": "bfacd43338f0a8f2",
   "outputs": [
    {
     "data": {
      "text/plain": [
       "FloatProgress(value=0.0, bar_style='info', description='Progress:', layout=Layout(height='25px', width='50%'),…"
      ],
      "application/vnd.jupyter.widget-view+json": {
       "version_major": 2,
       "version_minor": 0,
       "model_id": "28b93b2711114bb8aaca311082060ebd"
      }
     },
     "metadata": {},
     "output_type": "display_data"
    }
   ],
   "execution_count": null
  },
  {
   "metadata": {
    "trusted": false,
    "ExecuteTime": {
     "end_time": "2025-05-19T21:40:12.520876Z",
     "start_time": "2025-05-19T21:40:12.283339Z"
    }
   },
   "cell_type": "code",
   "source": "gm12878_existing_links_df = (\n    gm12878_neanderthal_df_ref\n    .join(\n        other=links_gm12878_df,\n        on=F.expr(\"gm12878.gene_id = links.gene_id AND gm12878.enh_id = links.enh_id\"),\n        how=\"inner\"\n    )\n    .select(\n        gm12878_neanderthal_df_ref.region_id,\n        gm12878_neanderthal_df_ref.gene_id,\n        gm12878_neanderthal_df_ref.enh_id,\n        gm12878_neanderthal_df_ref.avg_dist\n    )\n)\n\nhffc6_existing_links_df = (\n    hffc6_neanderthal_df_ref\n    .join(\n        other=links_hffc6_df,\n        on=F.expr(\"hffc6.gene_id = links.gene_id AND hffc6.enh_id = links.enh_id\"),\n        how=\"inner\"\n    )\n    .select(\n        hffc6_neanderthal_df_ref.region_id,\n        hffc6_neanderthal_df_ref.gene_id,\n        hffc6_neanderthal_df_ref.enh_id,\n        hffc6_neanderthal_df_ref.avg_dist\n    )\n)\n\nh1esc_existing_links_df = (\n    h1esc_neanderthal_df_ref\n    .join(\n        other=links_h1esc_df,\n        on=F.expr(\"h1esc.gene_id = links.gene_id AND h1esc.enh_id = links.enh_id\"),\n        how=\"inner\"\n    )\n    .select(\n        h1esc_neanderthal_df_ref.region_id,\n        h1esc_neanderthal_df_ref.gene_id,\n        h1esc_neanderthal_df_ref.enh_id,\n        h1esc_neanderthal_df_ref.avg_dist\n    )\n)",
   "id": "1381c44674b66e49",
   "outputs": [
    {
     "data": {
      "text/plain": [
       "FloatProgress(value=0.0, bar_style='info', description='Progress:', layout=Layout(height='25px', width='50%'),…"
      ],
      "application/vnd.jupyter.widget-view+json": {
       "version_major": 2,
       "version_minor": 0,
       "model_id": "93877db38e0943089b93975a8820b2e6"
      }
     },
     "metadata": {},
     "output_type": "display_data"
    }
   ],
   "execution_count": 55
  },
  {
   "metadata": {
    "trusted": false
   },
   "cell_type": "code",
   "outputs": [],
   "execution_count": null,
   "source": "# gm12878_hffc6_common_links_df = (\n#     gm12878_existing_links_df\n#     .join(\n#         other=hffc6_existing_links_df,\n#         on=F.expr(\"gm12878.gene_id = hffc6.gene_id AND gm12878.enh_id = hffc6.enh_id\"),\n#         how=\"inner\"\n#     )\n#     .select(\n#         gm12878_existing_links_df.region_id,\n#         gm12878_existing_links_df.gene_id,\n#         gm12878_existing_links_df.enh_id,\n#         gm12878_existing_links_df.avg_dist.alias('gm12878_avg_dist'),\n#         hffc6_existing_links_df.avg_dist.alias('hffc6_avg_dist')\n#     )\n# )\n#\n# gm12878_hffc6_gm12878_only_links_df = (\n#     gm12878_existing_links_df\n#     .join(\n#         other=hffc6_existing_links_df,\n#         on=F.expr(\"gm12878.gene_id = hffc6.gene_id AND gm12878.enh_id = hffc6.enh_id\"),\n#         how=\"left_anti\"\n#     )\n#     .select(\n#         gm12878_existing_links_df.region_id,\n#         gm12878_existing_links_df.gene_id,\n#         gm12878_existing_links_df.enh_id,\n#         gm12878_existing_links_df.avg_dist.alias('gm12878_avg_dist')\n#     )\n# )\n#\n# gm12878_hffc6_hffc6_only_links_df = (\n#     hffc6_existing_links_df\n#     .join(\n#         other=gm12878_existing_links_df,\n#         on=F.expr(\"hffc6.gene_id = gm12878.gene_id AND hffc6.enh_id = gm12878.enh_id\"),\n#         how=\"left_anti\"\n#     )\n#     .select(\n#         hffc6_existing_links_df.region_id,\n#         hffc6_existing_links_df.gene_id,\n#         hffc6_existing_links_df.enh_id,\n#         hffc6_existing_links_df.avg_dist.alias('hffc6_avg_dist')\n#     )\n# )",
   "id": "70eaf16363868f85"
  },
  {
   "metadata": {
    "trusted": false,
    "ExecuteTime": {
     "end_time": "2025-05-19T21:54:35.895634Z",
     "start_time": "2025-05-19T21:45:26.119438Z"
    }
   },
   "cell_type": "code",
   "source": [
    "import os\n",
    "\n",
    "# write all to csv into /work/playground/links/experiment_3\n",
    "os.makedirs(\"/work/playground/links/experiment_3\", exist_ok=True)\n",
    "\n",
    "(gm12878_neanderthal_df_ref.repartition(12)\n",
    " .toPandas().to_parquet(\"/work/playground/links/experiment_3/gm12878_neanderthal_df_ref.parquet\", index=False))\n",
    "# hffc6_neanderthal_df_ref.toPandas().to_parquet(\"/work/playground/links/experiment_3/hffc6_neanderthal_df_ref.parquet\", index=False)\n",
    "# h1esc_neanderthal_df_ref.toPandas().to_parquet(\"/work/playground/links/experiment_3/h1esc_neanderthal_df_ref.parquet\", index=False)\n",
    "#\n",
    "# gm12878_existing_links_df.toPandas().to_csv(\"/work/playground/links/experiment_3/gm12878_existing_links.csv\", index=False)\n",
    "# hffc6_existing_links_df.toPandas().to_csv(\"/work/playground/links/experiment_3/hffc6_existing_links.csv\", index=False)\n",
    "# h1esc_existing_links_df.toPandas().to_csv(\"/work/playground/links/experiment_3/h1esc_existing_links.csv\", index=False)\n",
    "\n",
    "# gm12878_hffc6_common_links_df.toPandas().to_csv(\"/work/playground/links/experiment_3/gm12878_hffc6_common_links.csv\", index=False)\n",
    "\n",
    "# gm12878_hffc6_gm12878_only_links_df.toPandas().to_csv(\"/work/playground/links/experiment_3/gm12878_hffc6_gm12878_only_links.csv\", index=False)\n",
    "# gm12878_hffc6_hffc6_only_links_df.toPandas().to_csv(\"/work/playground/links/experiment_3/gm12878_hffc6_hffc6_only_links.csv\", index=False)"
   ],
   "id": "e3c58a733df50b32",
   "outputs": [
    {
     "data": {
      "text/plain": [
       "FloatProgress(value=0.0, bar_style='info', description='Progress:', layout=Layout(height='25px', width='50%'),…"
      ],
      "application/vnd.jupyter.widget-view+json": {
       "version_major": 2,
       "version_minor": 0,
       "model_id": "011a6717a3014240a3cc4cd95084059d"
      }
     },
     "metadata": {},
     "output_type": "display_data"
    },
    {
     "name": "stderr",
     "output_type": "stream",
     "text": [
      "Interrupted by user\n"
     ]
    }
   ],
   "execution_count": 58
  }
 ],
 "metadata": {
  "kernelspec": {
   "display_name": "PySpark",
   "language": "python",
   "name": "pysparkkernel"
  }
 },
 "nbformat": 4,
 "nbformat_minor": 5
}
