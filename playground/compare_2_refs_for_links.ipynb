{
 "cells": [
  {
   "metadata": {
    "ExecuteTime": {
     "end_time": "2025-05-13T12:20:20.037550Z",
     "start_time": "2025-05-13T12:20:09.963312Z"
    }
   },
   "cell_type": "code",
   "source": [
    "%%configure -f\n",
    "{\"driverMemory\": \"4G\", \"driverCores\": 2, \"executorMemory\": \"12G\", \"executorCores\": 6, \"numExecutors\": 3}"
   ],
   "id": "4c14b1dabbaf2cb",
   "outputs": [
    {
     "name": "stdout",
     "output_type": "stream",
     "text": [
      "Starting Spark application\n"
     ]
    },
    {
     "data": {
      "text/plain": [
       "<IPython.core.display.HTML object>"
      ],
      "text/html": [
       "<table>\n",
       "<tr><th>ID</th><th>YARN Application ID</th><th>Kind</th><th>State</th><th>Spark UI</th><th>Driver log</th><th>User</th><th>Current session?</th></tr><tr><td>6</td><td>None</td><td>pyspark</td><td>idle</td><td></td><td></td><td>None</td><td>✔</td></tr></table>"
      ]
     },
     "metadata": {},
     "output_type": "display_data"
    },
    {
     "data": {
      "text/plain": [
       "FloatProgress(value=0.0, bar_style='info', description='Progress:', layout=Layout(height='25px', width='50%'),…"
      ],
      "application/vnd.jupyter.widget-view+json": {
       "version_major": 2,
       "version_minor": 0,
       "model_id": "7736dd4f086a4f2c9aa33d18c5f005d8"
      }
     },
     "metadata": {},
     "output_type": "display_data"
    },
    {
     "name": "stdout",
     "output_type": "stream",
     "text": [
      "SparkSession available as 'spark'.\n"
     ]
    },
    {
     "data": {
      "text/plain": [
       "<IPython.core.display.HTML object>"
      ],
      "text/html": [
       "Current session configs: <tt>{'conf': {'spark.sql.catalog.spark_catalog.type': 'hive'}, 'driverMemory': '4G', 'driverCores': 2, 'executorMemory': '12G', 'executorCores': 6, 'numExecutors': 3, 'kind': 'pyspark'}</tt><br>"
      ]
     },
     "metadata": {},
     "output_type": "display_data"
    },
    {
     "data": {
      "text/plain": [
       "<IPython.core.display.HTML object>"
      ],
      "text/html": [
       "<table>\n",
       "<tr><th>ID</th><th>YARN Application ID</th><th>Kind</th><th>State</th><th>Spark UI</th><th>Driver log</th><th>User</th><th>Current session?</th></tr><tr><td>6</td><td>None</td><td>pyspark</td><td>idle</td><td></td><td></td><td>None</td><td>✔</td></tr></table>"
      ]
     },
     "metadata": {},
     "output_type": "display_data"
    }
   ],
   "execution_count": 26
  },
  {
   "metadata": {
    "ExecuteTime": {
     "end_time": "2025-05-13T12:21:42.743932Z",
     "start_time": "2025-05-13T12:20:21.275862Z"
    }
   },
   "cell_type": "code",
   "source": [
    "from typing import List\n",
    "\n",
    "from pyspark import SparkFiles\n",
    "from subprocess import call\n",
    "import sys\n",
    "\n",
    "\n",
    "def install_deps(deps: List[str]) -> None:\n",
    "    call([sys.executable, '-m', 'pip', 'install', '-q', '-t', SparkFiles.getRootDirectory(), *deps])\n",
    "\n",
    "\n",
    "install_deps(['numpy', 'matplotlib', 'pandas', 'scipy', 'seaborn', 'statsmodels'])"
   ],
   "id": "26e8ee22c248cdfe",
   "outputs": [
    {
     "data": {
      "text/plain": [
       "FloatProgress(value=0.0, bar_style='info', description='Progress:', layout=Layout(height='25px', width='50%'),…"
      ],
      "application/vnd.jupyter.widget-view+json": {
       "version_major": 2,
       "version_minor": 0,
       "model_id": "8f82b36f8e0644ad996afe48b5a1eb01"
      }
     },
     "metadata": {},
     "output_type": "display_data"
    }
   ],
   "execution_count": 27
  },
  {
   "metadata": {
    "ExecuteTime": {
     "end_time": "2025-05-13T12:21:44.648581Z",
     "start_time": "2025-05-13T12:21:44.622949Z"
    }
   },
   "cell_type": "code",
   "source": [
    "from typing import Optional\n",
    "import json\n",
    "from pyspark.sql import SparkSession, DataFrame\n",
    "\n",
    "spark: SparkSession\n",
    "\n",
    "def load_distance_calculation_df(aggregation_pipeline: Optional[List] = None) -> DataFrame:\n",
    "    if aggregation_pipeline is None:\n",
    "        aggregation_pipeline = []\n",
    "    \n",
    "    return (\n",
    "        spark\n",
    "        .read\n",
    "        .format(\"mongodb\")\n",
    "        .option(\"partitioner\", \"com.mongodb.spark.sql.connector.read.partitioner.SamplePartitioner\")\n",
    "        .option(\"partitioner.options.partition.field\", \"_id\")\n",
    "        .option(\"partitioner.options.partition.size\", \"64\")\n",
    "        .option(\"partitioner.options.samples.per.partition\", \"2\")\n",
    "        .option(\"database\", \"enhancer3d\")\n",
    "        .option(\"collection\", \"distance_calculation\")\n",
    "        .option(\"aggregation.pipeline\", json.dumps(aggregation_pipeline))\n",
    "        .load()\n",
    "    )"
   ],
   "id": "9321644c73abf9c1",
   "outputs": [
    {
     "data": {
      "text/plain": [
       "FloatProgress(value=0.0, bar_style='info', description='Progress:', layout=Layout(height='25px', width='50%'),…"
      ],
      "application/vnd.jupyter.widget-view+json": {
       "version_major": 2,
       "version_minor": 0,
       "model_id": "a62e1c16d66248a884d25bd808becedf"
      }
     },
     "metadata": {},
     "output_type": "display_data"
    }
   ],
   "execution_count": 28
  },
  {
   "metadata": {
    "ExecuteTime": {
     "end_time": "2025-05-13T12:21:48.547974Z",
     "start_time": "2025-05-13T12:21:46.289329Z"
    }
   },
   "cell_type": "code",
   "source": [
    "links_gm12878_df = (\n",
    "    spark\n",
    "    .read\n",
    "    .format(\"parquet\")\n",
    "    .option(\"header\", \"true\")\n",
    "    .option(\"inferSchema\", \"true\")\n",
    "    .load(\"/work/data/links/GM12878_EP_hg38_liftovered.parquet\")\n",
    "    .alias(\"links\")\n",
    ")\n",
    "\n",
    "links_hffc6_df = (\n",
    "    spark\n",
    "    .read\n",
    "    .format(\"parquet\")\n",
    "    .option(\"header\", \"true\")\n",
    "    .option(\"inferSchema\", \"true\")\n",
    "    .load(\"/work/data/links/HFFC6_EP_hg38_liftovered.parquet\")\n",
    "    .alias(\"links\")\n",
    ")"
   ],
   "id": "e9aa021f5dac33df",
   "outputs": [
    {
     "data": {
      "text/plain": [
       "FloatProgress(value=0.0, bar_style='info', description='Progress:', layout=Layout(height='25px', width='50%'),…"
      ],
      "application/vnd.jupyter.widget-view+json": {
       "version_major": 2,
       "version_minor": 0,
       "model_id": "8d891a741e6b456ab4e51e7e0c2d5c8a"
      }
     },
     "metadata": {},
     "output_type": "display_data"
    }
   ],
   "execution_count": 29
  },
  {
   "metadata": {
    "ExecuteTime": {
     "end_time": "2025-05-13T12:21:54.952892Z",
     "start_time": "2025-05-13T12:21:52.699070Z"
    }
   },
   "cell_type": "code",
   "source": [
    "%%pretty\n",
    "links_gm12878_df.show(5)"
   ],
   "id": "88c1cfe5ae1e4157",
   "outputs": [
    {
     "data": {
      "text/plain": [
       "FloatProgress(value=0.0, bar_style='info', description='Progress:', layout=Layout(height='25px', width='50%'),…"
      ],
      "application/vnd.jupyter.widget-view+json": {
       "version_major": 2,
       "version_minor": 0,
       "model_id": "96e6d943243e4b62be685fb48b50b2a7"
      }
     },
     "metadata": {},
     "output_type": "display_data"
    },
    {
     "data": {
      "text/plain": [
       "<IPython.core.display.HTML object>"
      ],
      "text/html": [
       "<table><tr><th><pre style=\"word-break: unset; background-color: unset;\">enh_id</pre></th><th><pre style=\"word-break: unset; background-color: unset;\">gene_id</pre></th><th><pre style=\"word-break: unset; background-color: unset;\">pval</pre></th><th><pre style=\"word-break: unset; background-color: unset;\">qval</pre></th></tr><tr><td><pre style=\"word-break: unset; background-color: unset;\">chr1:843600-844990</pre></td><td><pre style=\"word-break: unset; background-color: unset;\">ENSG00000197049</pre></td><td><pre style=\"word-break: unset; background-color: unset;\">1.180354</pre></td><td><pre style=\"word-break: unset; background-color: unset;\">1.0</pre></td></tr><tr><td><pre style=\"word-break: unset; background-color: unset;\">chr1:966620-966700</pre></td><td><pre style=\"word-break: unset; background-color: unset;\">ENSG00000197049</pre></td><td><pre style=\"word-break: unset; background-color: unset;\">0.642743</pre></td><td><pre style=\"word-break: unset; background-color: unset;\">2.0</pre></td></tr><tr><td><pre style=\"word-break: unset; background-color: unset;\">chr1:843600-844990</pre></td><td><pre style=\"word-break: unset; background-color: unset;\">ENSG00000188976</pre></td><td><pre style=\"word-break: unset; background-color: unset;\">1.016813</pre></td><td><pre style=\"word-break: unset; background-color: unset;\">3.0</pre></td></tr><tr><td><pre style=\"word-break: unset; background-color: unset;\">chr1:966620-966700</pre></td><td><pre style=\"word-break: unset; background-color: unset;\">ENSG00000188976</pre></td><td><pre style=\"word-break: unset; background-color: unset;\">2.58213</pre></td><td><pre style=\"word-break: unset; background-color: unset;\">4.0</pre></td></tr><tr><td><pre style=\"word-break: unset; background-color: unset;\">chr1:1013580-1013980</pre></td><td><pre style=\"word-break: unset; background-color: unset;\">ENSG00000188976</pre></td><td><pre style=\"word-break: unset; background-color: unset;\">2.073247</pre></td><td><pre style=\"word-break: unset; background-color: unset;\">5.0</pre></td></tr></table><br /><pre>only showing top 5 rows</pre>"
      ]
     },
     "metadata": {},
     "output_type": "display_data"
    }
   ],
   "execution_count": 30
  },
  {
   "metadata": {
    "ExecuteTime": {
     "end_time": "2025-05-13T12:21:57.480544Z",
     "start_time": "2025-05-13T12:21:57.244398Z"
    }
   },
   "cell_type": "code",
   "source": [
    "from pyspark.sql import functions as F, types as T\n",
    "import numpy as np\n",
    "\n",
    "@F.udf(T.ArrayType(T.DoubleType()))\n",
    "def diff(A, B):\n",
    "    return np.abs(np.array(A) - np.array(B)).tolist()\n",
    "\n",
    "@F.udf(T.DoubleType())\n",
    "def var(A):\n",
    "    return float(np.var(A))\n",
    "\n",
    "@F.udf(T.DoubleType())\n",
    "def avg(A):\n",
    "    return float(np.mean(A))\n"
   ],
   "id": "967f988677db7143",
   "outputs": [
    {
     "data": {
      "text/plain": [
       "FloatProgress(value=0.0, bar_style='info', description='Progress:', layout=Layout(height='25px', width='50%'),…"
      ],
      "application/vnd.jupyter.widget-view+json": {
       "version_major": 2,
       "version_minor": 0,
       "model_id": "16e14bb5852442d2bcda4dc1e8fe55b1"
      }
     },
     "metadata": {},
     "output_type": "display_data"
    }
   ],
   "execution_count": 31
  },
  {
   "metadata": {
    "ExecuteTime": {
     "end_time": "2025-05-13T12:24:20.491832Z",
     "start_time": "2025-05-13T12:21:58.926973Z"
    }
   },
   "cell_type": "code",
   "source": [
    "gm12878_neanderthal_df_ref = (\n",
    "    load_distance_calculation_df([\n",
    "        {\n",
    "            '$match': {\n",
    "                '_id.project_id': '8k_models_project_GM12878',\n",
    "                '_id.ensemble_id': {'$regex': '^models3D_GM12878_Nean_models3D_GM12878_Nean_results'},\n",
    "            }\n",
    "        }\n",
    "    ])\n",
    "    .where(\n",
    "        F.col('gene_type') == 'protein_coding'\n",
    "    )\n",
    "    .select(\n",
    "        F.col('_id.region_id').alias('region_id'),\n",
    "        F.col('_id.gene_id').alias('gene_id'),\n",
    "        F.col('_id.enh_id').alias('enh_id'),\n",
    "        'avg_dist'\n",
    "    )\n",
    "    # gene_id ENH00001.XXX -> ENH00001\n",
    "    .withColumn('gene_id', F.split(F.col('gene_id'), '.')[0])\n",
    "    .alias(\"gm12878\")\n",
    "    .cache()\n",
    ")\n",
    "\n",
    "hffc6_neanderthal_df_ref = (\n",
    "    load_distance_calculation_df([\n",
    "        {\n",
    "            '$match': {\n",
    "                '_id.project_id': '8k_models_project_HFFC6',\n",
    "                '_id.ensemble_id': {'$regex': '^models3D_HFFC6_Nean_models3D_HFFC6_Nean_results'},\n",
    "            }\n",
    "        }\n",
    "    ])\n",
    "    .where(\n",
    "        F.col('gene_type') == 'protein_coding'\n",
    "    )\n",
    "    .select(\n",
    "        F.col('_id.region_id').alias('region_id'),\n",
    "        F.col('_id.gene_id').alias('gene_id'),\n",
    "        F.col('_id.enh_id').alias('enh_id'),\n",
    "        'avg_dist'\n",
    "    )\n",
    "     # gene_id ENH00001.XXX -> ENH00001\n",
    "    .withColumn('gene_id', F.split(F.col('gene_id'), '.')[0])\n",
    "    .alias(\"hffc6\")\n",
    "    .cache()\n",
    ")"
   ],
   "id": "bfacd43338f0a8f2",
   "outputs": [
    {
     "data": {
      "text/plain": [
       "FloatProgress(value=0.0, bar_style='info', description='Progress:', layout=Layout(height='25px', width='50%'),…"
      ],
      "application/vnd.jupyter.widget-view+json": {
       "version_major": 2,
       "version_minor": 0,
       "model_id": "f454c48dc5ec41c6b4adfb290f360e95"
      }
     },
     "metadata": {},
     "output_type": "display_data"
    },
    {
     "name": "stdout",
     "output_type": "stream",
     "text": [
      "<stdin>:20: SyntaxWarning: invalid escape sequence '\\.'\n",
      "<stdin>:44: SyntaxWarning: invalid escape sequence '\\.'"
     ]
    }
   ],
   "execution_count": 32
  },
  {
   "metadata": {
    "ExecuteTime": {
     "end_time": "2025-05-13T12:32:04.383873Z",
     "start_time": "2025-05-13T12:24:34.147544Z"
    }
   },
   "cell_type": "code",
   "source": [
    "%%pretty\n",
    "gm12878_neanderthal_df_ref.show(5)"
   ],
   "id": "83b2d9873f89cc8b",
   "outputs": [
    {
     "data": {
      "text/plain": [
       "FloatProgress(value=0.0, bar_style='info', description='Progress:', layout=Layout(height='25px', width='50%'),…"
      ],
      "application/vnd.jupyter.widget-view+json": {
       "version_major": 2,
       "version_minor": 0,
       "model_id": "642c24f97e164fc9acea46f5482a1386"
      }
     },
     "metadata": {},
     "output_type": "display_data"
    },
    {
     "data": {
      "text/plain": [
       "<IPython.core.display.HTML object>"
      ],
      "text/html": [
       "<table><tr><th><pre style=\"word-break: unset; background-color: unset;\">region_id</pre></th><th><pre style=\"word-break: unset; background-color: unset;\">gene_id</pre></th><th><pre style=\"word-break: unset; background-color: unset;\">enh_id</pre></th><th><pre style=\"word-break: unset; background-color: unset;\">avg_dist</pre></th></tr><tr><td><pre style=\"word-break: unset; background-color: unset;\">chr10:10300866-12...</pre></td><td><pre style=\"word-break: unset; background-color: unset;\">ENSG00000048740</pre></td><td><pre style=\"word-break: unset; background-color: unset;\">chr10:10854747-10...</pre></td><td><pre style=\"word-break: unset; background-color: unset;\">10.029472351074219</pre></td></tr><tr><td><pre style=\"word-break: unset; background-color: unset;\">chr10:10300866-12...</pre></td><td><pre style=\"word-break: unset; background-color: unset;\">ENSG00000048740</pre></td><td><pre style=\"word-break: unset; background-color: unset;\">chr10:10869487-10...</pre></td><td><pre style=\"word-break: unset; background-color: unset;\">12.780106544494629</pre></td></tr><tr><td><pre style=\"word-break: unset; background-color: unset;\">chr10:10300866-12...</pre></td><td><pre style=\"word-break: unset; background-color: unset;\">ENSG00000048740</pre></td><td><pre style=\"word-break: unset; background-color: unset;\">chr10:11074217-11...</pre></td><td><pre style=\"word-break: unset; background-color: unset;\">22.668201446533203</pre></td></tr><tr><td><pre style=\"word-break: unset; background-color: unset;\">chr10:10300866-12...</pre></td><td><pre style=\"word-break: unset; background-color: unset;\">ENSG00000048740</pre></td><td><pre style=\"word-break: unset; background-color: unset;\">chr10:11080347-11...</pre></td><td><pre style=\"word-break: unset; background-color: unset;\">22.45758628845215</pre></td></tr><tr><td><pre style=\"word-break: unset; background-color: unset;\">chr10:10300866-12...</pre></td><td><pre style=\"word-break: unset; background-color: unset;\">ENSG00000048740</pre></td><td><pre style=\"word-break: unset; background-color: unset;\">chr10:11091167-11...</pre></td><td><pre style=\"word-break: unset; background-color: unset;\">22.26520347595215</pre></td></tr></table><br /><pre>only showing top 5 rows</pre>"
      ]
     },
     "metadata": {},
     "output_type": "display_data"
    }
   ],
   "execution_count": 33
  },
  {
   "metadata": {
    "ExecuteTime": {
     "end_time": "2025-05-13T12:32:38.709119Z",
     "start_time": "2025-05-13T12:32:38.480810Z"
    }
   },
   "cell_type": "code",
   "source": [
    "gm12878_existing_links_df = (\n",
    "    gm12878_neanderthal_df_ref\n",
    "    .join(\n",
    "        other=links_gm12878_df,\n",
    "        on=F.expr(\"gm12878.gene_id = links.gene_id AND gm12878.enh_id = links.enh_id\"),\n",
    "        how=\"inner\"\n",
    "    )\n",
    "    .select(\n",
    "        gm12878_neanderthal_df_ref.region_id,\n",
    "        gm12878_neanderthal_df_ref.gene_id,\n",
    "        gm12878_neanderthal_df_ref.enh_id,\n",
    "        gm12878_neanderthal_df_ref.avg_dist\n",
    "    )\n",
    ")\n",
    "\n",
    "hffc6_existing_links_df = (\n",
    "    hffc6_neanderthal_df_ref\n",
    "    .join(\n",
    "        other=links_hffc6_df,\n",
    "        on=F.expr(\"hffc6.gene_id = links.gene_id AND hffc6.enh_id = links.enh_id\"),\n",
    "        how=\"inner\"\n",
    "    )\n",
    "    .select(\n",
    "        hffc6_neanderthal_df_ref.region_id,\n",
    "        hffc6_neanderthal_df_ref.gene_id,\n",
    "        hffc6_neanderthal_df_ref.enh_id,\n",
    "        hffc6_neanderthal_df_ref.avg_dist\n",
    "    )\n",
    ")\n",
    "\n",
    "gm12878_hffc6_common_links_df = (\n",
    "    gm12878_existing_links_df\n",
    "    .join(\n",
    "        other=hffc6_existing_links_df,\n",
    "        on=F.expr(\"gm12878.gene_id = hffc6.gene_id AND gm12878.enh_id = hffc6.enh_id\"),\n",
    "        how=\"inner\"\n",
    "    )\n",
    "    .select(\n",
    "        gm12878_existing_links_df.region_id,\n",
    "        gm12878_existing_links_df.gene_id,\n",
    "        gm12878_existing_links_df.enh_id,\n",
    "        gm12878_existing_links_df.avg_dist.alias('gm12878_avg_dist'),\n",
    "        hffc6_existing_links_df.avg_dist.alias('hffc6_avg_dist')\n",
    "    )\n",
    ")\n",
    "\n",
    "gm12878_hffc6_gm12878_only_links_df = (\n",
    "    gm12878_existing_links_df\n",
    "    .join(\n",
    "        other=hffc6_existing_links_df,\n",
    "        on=F.expr(\"gm12878.gene_id = hffc6.gene_id AND gm12878.enh_id = hffc6.enh_id\"),\n",
    "        how=\"left_anti\"\n",
    "    )\n",
    "    .select(\n",
    "        gm12878_existing_links_df.region_id,\n",
    "        gm12878_existing_links_df.gene_id,\n",
    "        gm12878_existing_links_df.enh_id,\n",
    "        gm12878_existing_links_df.avg_dist.alias('gm12878_avg_dist')\n",
    "    )\n",
    ")\n",
    "\n",
    "gm12878_hffc6_hffc6_only_links_df = (\n",
    "    hffc6_existing_links_df\n",
    "    .join(\n",
    "        other=gm12878_existing_links_df,\n",
    "        on=F.expr(\"hffc6.gene_id = gm12878.gene_id AND hffc6.enh_id = gm12878.enh_id\"),\n",
    "        how=\"left_anti\"\n",
    "    )\n",
    "    .select(\n",
    "        hffc6_existing_links_df.region_id,\n",
    "        hffc6_existing_links_df.gene_id,\n",
    "        hffc6_existing_links_df.enh_id,\n",
    "        hffc6_existing_links_df.avg_dist.alias('hffc6_avg_dist')\n",
    "    )\n",
    ")"
   ],
   "id": "6f9359ee6b5e672e",
   "outputs": [
    {
     "data": {
      "text/plain": [
       "FloatProgress(value=0.0, bar_style='info', description='Progress:', layout=Layout(height='25px', width='50%'),…"
      ],
      "application/vnd.jupyter.widget-view+json": {
       "version_major": 2,
       "version_minor": 0,
       "model_id": "1f90fd295e7f44f9b1cc24592e7a3d3c"
      }
     },
     "metadata": {},
     "output_type": "display_data"
    }
   ],
   "execution_count": 34
  },
  {
   "metadata": {
    "ExecuteTime": {
     "end_time": "2025-05-13T12:32:59.027661Z",
     "start_time": "2025-05-13T12:32:39.727595Z"
    }
   },
   "cell_type": "code",
   "source": "gm12878_existing_links_df.count(), hffc6_existing_links_df.count(), gm12878_hffc6_common_links_df.count(), gm12878_hffc6_gm12878_only_links_df.count(), gm12878_hffc6_hffc6_only_links_df.count()",
   "id": "6225150aa070082c",
   "outputs": [
    {
     "data": {
      "text/plain": [
       "FloatProgress(value=0.0, bar_style='info', description='Progress:', layout=Layout(height='25px', width='50%'),…"
      ],
      "application/vnd.jupyter.widget-view+json": {
       "version_major": 2,
       "version_minor": 0,
       "model_id": "5935580bd79944a4ab8e5909efb3059a"
      }
     },
     "metadata": {},
     "output_type": "display_data"
    },
    {
     "name": "stdout",
     "output_type": "stream",
     "text": [
      "(13840, 20416, 3656, 10184, 16760)"
     ]
    }
   ],
   "execution_count": 35
  },
  {
   "metadata": {
    "ExecuteTime": {
     "end_time": "2025-05-13T12:33:12.201892Z",
     "start_time": "2025-05-13T12:33:06.937969Z"
    }
   },
   "cell_type": "code",
   "source": [
    "import os\n",
    "\n",
    "# write all to csv into /work/playground/links/experiment_1\n",
    "os.makedirs(\"/work/playground/links/experiment_1\", exist_ok=True)\n",
    "gm12878_hffc6_common_links_df.toPandas().to_csv(\"/work/playground/links/experiment_1/gm12878_hffc6_common_links.csv\", index=False)\n",
    "hffc6_existing_links_df.toPandas().to_csv(\"/work/playground/links/experiment_1/hffc6_existing_links.csv\", index=False)\n",
    "gm12878_hffc6_gm12878_only_links_df.toPandas().to_csv(\"/work/playground/links/experiment_1/gm12878_hffc6_gm12878_only_links.csv\", index=False)\n",
    "gm12878_hffc6_hffc6_only_links_df.toPandas().to_csv(\"/work/playground/links/experiment_1/gm12878_hffc6_hffc6_only_links.csv\", index=False)"
   ],
   "id": "e3c58a733df50b32",
   "outputs": [
    {
     "data": {
      "text/plain": [
       "FloatProgress(value=0.0, bar_style='info', description='Progress:', layout=Layout(height='25px', width='50%'),…"
      ],
      "application/vnd.jupyter.widget-view+json": {
       "version_major": 2,
       "version_minor": 0,
       "model_id": "9b3511142a8046ed970ab5f47dc297f7"
      }
     },
     "metadata": {},
     "output_type": "display_data"
    }
   ],
   "execution_count": 36
  }
 ],
 "metadata": {
  "kernelspec": {
   "display_name": "PySpark",
   "language": "python",
   "name": "pysparkkernel"
  }
 },
 "nbformat": 4,
 "nbformat_minor": 5
}
