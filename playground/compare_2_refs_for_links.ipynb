{
 "cells": [
  {
   "metadata": {
    "trusted": false,
    "ExecuteTime": {
     "end_time": "2025-05-13T15:20:16.687551Z",
     "start_time": "2025-05-13T15:20:05.269409Z"
    }
   },
   "cell_type": "code",
   "source": "%%configure -f\n{\"driverMemory\": \"4G\", \"driverCores\": 2, \"executorMemory\": \"12G\", \"executorCores\": 6, \"numExecutors\": 3}",
   "id": "4c14b1dabbaf2cb",
   "outputs": [
    {
     "name": "stdout",
     "output_type": "stream",
     "text": [
      "Starting Spark application\n"
     ]
    },
    {
     "data": {
      "text/plain": [
       "<IPython.core.display.HTML object>"
      ],
      "text/html": [
       "<table>\n",
       "<tr><th>ID</th><th>YARN Application ID</th><th>Kind</th><th>State</th><th>Spark UI</th><th>Driver log</th><th>User</th><th>Current session?</th></tr><tr><td>9</td><td>None</td><td>pyspark</td><td>idle</td><td></td><td></td><td>None</td><td>✔</td></tr></table>"
      ]
     },
     "metadata": {},
     "output_type": "display_data"
    },
    {
     "data": {
      "text/plain": [
       "FloatProgress(value=0.0, bar_style='info', description='Progress:', layout=Layout(height='25px', width='50%'),…"
      ],
      "application/vnd.jupyter.widget-view+json": {
       "version_major": 2,
       "version_minor": 0,
       "model_id": "02f0baf0a65b4ebc99b5f90a35d3825d"
      }
     },
     "metadata": {},
     "output_type": "display_data"
    },
    {
     "name": "stdout",
     "output_type": "stream",
     "text": [
      "SparkSession available as 'spark'.\n"
     ]
    },
    {
     "data": {
      "text/plain": [
       "<IPython.core.display.HTML object>"
      ],
      "text/html": [
       "Current session configs: <tt>{'conf': {'spark.sql.catalog.spark_catalog.type': 'hive'}, 'driverMemory': '4G', 'driverCores': 2, 'executorMemory': '12G', 'executorCores': 6, 'numExecutors': 3, 'kind': 'pyspark'}</tt><br>"
      ]
     },
     "metadata": {},
     "output_type": "display_data"
    },
    {
     "data": {
      "text/plain": [
       "<IPython.core.display.HTML object>"
      ],
      "text/html": [
       "<table>\n",
       "<tr><th>ID</th><th>YARN Application ID</th><th>Kind</th><th>State</th><th>Spark UI</th><th>Driver log</th><th>User</th><th>Current session?</th></tr><tr><td>9</td><td>None</td><td>pyspark</td><td>idle</td><td></td><td></td><td>None</td><td>✔</td></tr></table>"
      ]
     },
     "metadata": {},
     "output_type": "display_data"
    }
   ],
   "execution_count": 85
  },
  {
   "metadata": {
    "trusted": false,
    "ExecuteTime": {
     "end_time": "2025-05-13T15:21:25.225356Z",
     "start_time": "2025-05-13T15:20:17.811277Z"
    }
   },
   "cell_type": "code",
   "source": "from typing import List\n\nfrom pyspark import SparkFiles\nfrom subprocess import call\nimport sys\n\n\ndef install_deps(deps: List[str]) -> None:\n    call([sys.executable, '-m', 'pip', 'install', '-q', '-t', SparkFiles.getRootDirectory(), *deps])\n\n\ninstall_deps(['numpy', 'matplotlib', 'pandas', 'scipy', 'seaborn', 'statsmodels', 'pyarrow'])",
   "id": "26e8ee22c248cdfe",
   "outputs": [
    {
     "data": {
      "text/plain": [
       "FloatProgress(value=0.0, bar_style='info', description='Progress:', layout=Layout(height='25px', width='50%'),…"
      ],
      "application/vnd.jupyter.widget-view+json": {
       "version_major": 2,
       "version_minor": 0,
       "model_id": "00f3b157911e4c9aa4305d48f47d6198"
      }
     },
     "metadata": {},
     "output_type": "display_data"
    }
   ],
   "execution_count": 86
  },
  {
   "metadata": {
    "trusted": false,
    "ExecuteTime": {
     "end_time": "2025-05-13T15:21:26.686358Z",
     "start_time": "2025-05-13T15:21:26.663496Z"
    }
   },
   "cell_type": "code",
   "source": "from typing import Optional\nimport json\nfrom pyspark.sql import SparkSession, DataFrame\n\nspark: SparkSession\n\ndef load_distance_calculation_df(aggregation_pipeline: Optional[List] = None) -> DataFrame:\n    if aggregation_pipeline is None:\n        aggregation_pipeline = []\n    \n    return (\n        spark\n        .read\n        .format(\"mongodb\")\n        .option(\"partitioner\", \"com.mongodb.spark.sql.connector.read.partitioner.SamplePartitioner\")\n        .option(\"partitioner.options.partition.field\", \"_id\")\n        .option(\"partitioner.options.partition.size\", \"64\")\n        .option(\"partitioner.options.samples.per.partition\", \"2\")\n        .option(\"database\", \"enhancer3d\")\n        .option(\"collection\", \"distance_calculation\")\n        .option(\"aggregation.pipeline\", json.dumps(aggregation_pipeline))\n        .load()\n    )",
   "id": "9321644c73abf9c1",
   "outputs": [
    {
     "data": {
      "text/plain": [
       "FloatProgress(value=0.0, bar_style='info', description='Progress:', layout=Layout(height='25px', width='50%'),…"
      ],
      "application/vnd.jupyter.widget-view+json": {
       "version_major": 2,
       "version_minor": 0,
       "model_id": "20db4e8ac1014ba4bf6d98bfb1b4ad19"
      }
     },
     "metadata": {},
     "output_type": "display_data"
    }
   ],
   "execution_count": 87
  },
  {
   "metadata": {
    "trusted": false,
    "ExecuteTime": {
     "end_time": "2025-05-13T15:21:31.165448Z",
     "start_time": "2025-05-13T15:21:27.905958Z"
    }
   },
   "cell_type": "code",
   "source": "links_gm12878_df = (\n    spark\n    .read\n    .format(\"parquet\")\n    .option(\"header\", \"true\")\n    .option(\"inferSchema\", \"true\")\n    .load(\"/work/data/links/GM12878_EP_hg38_liftovered.parquet\")\n    .alias(\"links\")\n)\n\nlinks_hffc6_df = (\n    spark\n    .read\n    .format(\"parquet\")\n    .option(\"header\", \"true\")\n    .option(\"inferSchema\", \"true\")\n    .load(\"/work/data/links/HFFC6_EP_hg38_liftovered.parquet\")\n    .alias(\"links\")\n)",
   "id": "e9aa021f5dac33df",
   "outputs": [
    {
     "data": {
      "text/plain": [
       "FloatProgress(value=0.0, bar_style='info', description='Progress:', layout=Layout(height='25px', width='50%'),…"
      ],
      "application/vnd.jupyter.widget-view+json": {
       "version_major": 2,
       "version_minor": 0,
       "model_id": "4575a7df5d4a4ceca86f2c877374f8e2"
      }
     },
     "metadata": {},
     "output_type": "display_data"
    }
   ],
   "execution_count": 88
  },
  {
   "metadata": {
    "ExecuteTime": {
     "end_time": "2025-05-13T14:13:27.203813Z",
     "start_time": "2025-05-13T14:13:24.951270Z"
    },
    "trusted": false
   },
   "cell_type": "code",
   "source": "%%pretty\nlinks_gm12878_df.show(5)",
   "id": "88c1cfe5ae1e4157",
   "outputs": [
    {
     "data": {
      "text/plain": "FloatProgress(value=0.0, bar_style='info', description='Progress:', layout=Layout(height='25px', width='50%'),…",
      "application/vnd.jupyter.widget-view+json": {
       "version_major": 2,
       "version_minor": 0,
       "model_id": "558b722c35c541baba3dee647b2ea98c"
      }
     },
     "metadata": {},
     "output_type": "display_data"
    },
    {
     "data": {
      "text/plain": "<IPython.core.display.HTML object>",
      "text/html": "<table><tr><th><pre style=\"word-break: unset; background-color: unset;\">enh_id</pre></th><th><pre style=\"word-break: unset; background-color: unset;\">gene_id</pre></th><th><pre style=\"word-break: unset; background-color: unset;\">pval</pre></th><th><pre style=\"word-break: unset; background-color: unset;\">qval</pre></th></tr><tr><td><pre style=\"word-break: unset; background-color: unset;\">chr1:843600-844990</pre></td><td><pre style=\"word-break: unset; background-color: unset;\">ENSG00000197049</pre></td><td><pre style=\"word-break: unset; background-color: unset;\">1.180354</pre></td><td><pre style=\"word-break: unset; background-color: unset;\">1.0</pre></td></tr><tr><td><pre style=\"word-break: unset; background-color: unset;\">chr1:966620-966700</pre></td><td><pre style=\"word-break: unset; background-color: unset;\">ENSG00000197049</pre></td><td><pre style=\"word-break: unset; background-color: unset;\">0.642743</pre></td><td><pre style=\"word-break: unset; background-color: unset;\">2.0</pre></td></tr><tr><td><pre style=\"word-break: unset; background-color: unset;\">chr1:843600-844990</pre></td><td><pre style=\"word-break: unset; background-color: unset;\">ENSG00000188976</pre></td><td><pre style=\"word-break: unset; background-color: unset;\">1.016813</pre></td><td><pre style=\"word-break: unset; background-color: unset;\">3.0</pre></td></tr><tr><td><pre style=\"word-break: unset; background-color: unset;\">chr1:966620-966700</pre></td><td><pre style=\"word-break: unset; background-color: unset;\">ENSG00000188976</pre></td><td><pre style=\"word-break: unset; background-color: unset;\">2.58213</pre></td><td><pre style=\"word-break: unset; background-color: unset;\">4.0</pre></td></tr><tr><td><pre style=\"word-break: unset; background-color: unset;\">chr1:1013580-1013980</pre></td><td><pre style=\"word-break: unset; background-color: unset;\">ENSG00000188976</pre></td><td><pre style=\"word-break: unset; background-color: unset;\">2.073247</pre></td><td><pre style=\"word-break: unset; background-color: unset;\">5.0</pre></td></tr></table><br /><pre>only showing top 5 rows</pre>"
     },
     "metadata": {},
     "output_type": "display_data"
    }
   ],
   "execution_count": 59
  },
  {
   "metadata": {
    "trusted": false,
    "ExecuteTime": {
     "end_time": "2025-05-13T15:21:33.362981Z",
     "start_time": "2025-05-13T15:21:32.115992Z"
    }
   },
   "cell_type": "code",
   "source": "from pyspark.sql import functions as F, types as T\nimport numpy as np\nfrom scipy import stats\nfrom statsmodels.sandbox.stats.multicomp import multipletests\n\n@F.udf(T.ArrayType(T.DoubleType()))\ndef diff(A, B):\n    return np.abs(np.array(A) - np.array(B)).tolist()\n\n@F.udf(T.DoubleType())\ndef var(A):\n    return float(np.var(A))\n\n@F.udf(T.DoubleType())\ndef avg(A):\n    return float(np.mean(A))\n\n@F.udf(T.DoubleType())\ndef mannwhiteneyu(ref, mod):\n    result = stats.mannwhitneyu(np.array(ref), np.array(mod), alternative='two-sided')\n    return float(result.pvalue)\n\n@F.udf(T.DoubleType())\ndef bonferroni_correction(pvalues, alpha=0.05):\n    reject, pvals_corrected, _, _ = multipletests(pvalues, alpha=alpha, method='bonferroni')\n    return float(np.mean(pvals_corrected))\n",
   "id": "967f988677db7143",
   "outputs": [
    {
     "data": {
      "text/plain": [
       "FloatProgress(value=0.0, bar_style='info', description='Progress:', layout=Layout(height='25px', width='50%'),…"
      ],
      "application/vnd.jupyter.widget-view+json": {
       "version_major": 2,
       "version_minor": 0,
       "model_id": "112f676ca56a4fa9b9415283b30aa6e3"
      }
     },
     "metadata": {},
     "output_type": "display_data"
    }
   ],
   "execution_count": 89
  },
  {
   "metadata": {
    "trusted": false,
    "ExecuteTime": {
     "end_time": "2025-05-13T15:53:08.866201Z",
     "start_time": "2025-05-13T15:50:49.341216Z"
    }
   },
   "cell_type": "code",
   "source": [
    "gm12878_neanderthal_df_ref = (\n",
    "    load_distance_calculation_df([\n",
    "        {\n",
    "            '$match': {\n",
    "                '_id.project_id': '8k_models_project_GM12878',\n",
    "                '_id.ensemble_id': {'$regex': '^models3D_GM12878_Nean_models3D_GM12878_Nean_results'},\n",
    "            }\n",
    "        }\n",
    "    ])\n",
    "    .where(\n",
    "        (F.col('gene_type') == 'protein_coding')\n",
    "        # & (F.col('enh_tSS_distance') < 20_000)\n",
    "    )\n",
    "    .select(\n",
    "        F.col('_id.region_id').alias('region_id'),\n",
    "        F.col('_id.gene_id').alias('gene_id'),\n",
    "        F.col('_id.enh_id').alias('enh_id'),\n",
    "        # 'dist',\n",
    "        'avg_dist',\n",
    "        'enh_tSS_distance'\n",
    "    )\n",
    "    # gene_id ENH00001.XXX -> ENH00001\n",
    "    .withColumn('gene_id', F.split(F.col('gene_id'), '\\.')[0])\n",
    "    .alias(\"gm12878\")\n",
    "    .cache()\n",
    ")\n",
    "\n",
    "# gm12878_neanderthal_df_ref2 = (\n",
    "#     load_distance_calculation_df([\n",
    "#         {\n",
    "#             '$match': {\n",
    "#                 '_id.project_id': '8k_models_project_GM12878',\n",
    "#                 '_id.ensemble_id': {'$regex': '^models3D_GM12878_Nean_models3D_GM12878_Nean_ref2_results'},\n",
    "#             }\n",
    "#         }\n",
    "#     ])\n",
    "#     .where(\n",
    "#         (F.col('gene_type') == 'protein_coding')\n",
    "#         # & (F.col('enh_tSS_distance') < 20_000)\n",
    "#     )\n",
    "#     .select(\n",
    "#         F.col('_id.region_id').alias('region_id'),\n",
    "#         F.col('_id.gene_id').alias('gene_id'),\n",
    "#         F.col('_id.enh_id').alias('enh_id'),\n",
    "#         'dist',\n",
    "#         'avg_dist',\n",
    "#         'enh_tSS_distance'\n",
    "#     )\n",
    "#     # gene_id ENH00001.XXX -> ENH00001\n",
    "#     .withColumn('gene_id', F.split(F.col('gene_id'), '\\.')[0])\n",
    "#     .alias(\"gm12878_ref2\")\n",
    "#     .cache()\n",
    "# )\n",
    "\n",
    "hffc6_neanderthal_df_ref = (\n",
    "    load_distance_calculation_df([\n",
    "        {\n",
    "            '$match': {\n",
    "                '_id.project_id': '8k_models_project_HFFC6',\n",
    "                '_id.ensemble_id': {'$regex': '^models3D_HFFC6_Nean_models3D_HFFC6_Nean_results'},\n",
    "            }\n",
    "        }\n",
    "    ])\n",
    "    .where(\n",
    "        (F.col('gene_type') == 'protein_coding')\n",
    "        # & (F.col('enh_tSS_distance') < 20_000)\n",
    "    )\n",
    "    .select(\n",
    "        F.col('_id.region_id').alias('region_id'),\n",
    "        F.col('_id.gene_id').alias('gene_id'),\n",
    "        F.col('_id.enh_id').alias('enh_id'),\n",
    "        # 'dist',\n",
    "        'avg_dist',\n",
    "        'enh_tSS_distance'\n",
    "    )\n",
    "     # gene_id ENH00001.XXX -> ENH00001\n",
    "    .withColumn('gene_id', F.split(F.col('gene_id'), '\\.')[0])\n",
    "    .alias(\"hffc6\")\n",
    "    .cache()\n",
    ")\n",
    "\n",
    "# hffc6_neanderthal_df_ref2 = (\n",
    "#     load_distance_calculation_df([\n",
    "#         {\n",
    "#             '$match': {\n",
    "#                 '_id.project_id': '8k_models_project_HFFC6',\n",
    "#                 '_id.ensemble_id': {'$regex': '^models3D_HFFC6_Nean_models3D_HFFC6_Nean_ref2_results'},\n",
    "#             }\n",
    "#         }\n",
    "#     ])\n",
    "#     .where(\n",
    "#         (F.col('enh_tSS_distance') < 20_000)\n",
    "#         & (F.col('gene_type') == 'protein_coding')\n",
    "#     )\n",
    "#     .select(\n",
    "#         F.col('_id.region_id').alias('region_id'),\n",
    "#         F.col('_id.gene_id').alias('gene_id'),\n",
    "#         F.col('_id.enh_id').alias('enh_id'),\n",
    "#         'dist',\n",
    "#         'avg_dist',\n",
    "#         'enh_tSS_distance'\n",
    "#     )\n",
    "#      # gene_id ENH00001.XXX -> ENH00001\n",
    "#     .withColumn('gene_id', F.split(F.col('gene_id'), '\\.')[0])\n",
    "#     .alias(\"hffc6_ref2\")\n",
    "#     .cache()\n",
    "# )"
   ],
   "id": "bfacd43338f0a8f2",
   "outputs": [
    {
     "data": {
      "text/plain": [
       "FloatProgress(value=0.0, bar_style='info', description='Progress:', layout=Layout(height='25px', width='50%'),…"
      ],
      "application/vnd.jupyter.widget-view+json": {
       "version_major": 2,
       "version_minor": 0,
       "model_id": "f891f393b8504adcbc7fc910cccf98bc"
      }
     },
     "metadata": {},
     "output_type": "display_data"
    },
    {
     "name": "stdout",
     "output_type": "stream",
     "text": [
      "<stdin>:23: SyntaxWarning: invalid escape sequence '\\.'\n",
      "<stdin>:77: SyntaxWarning: invalid escape sequence '\\.'"
     ]
    }
   ],
   "execution_count": 100
  },
  {
   "metadata": {
    "trusted": false,
    "ExecuteTime": {
     "end_time": "2025-05-13T15:50:10.236459Z",
     "start_time": "2025-05-13T15:50:10.207087Z"
    }
   },
   "cell_type": "code",
   "source": [
    "# gm12878_neanderthal_df_ref_tested_against_ref2 = (\n",
    "#     gm12878_neanderthal_df_ref\n",
    "#     .join(\n",
    "#         other=gm12878_neanderthal_df_ref2,\n",
    "#         on=F.expr(\"gm12878.region_id = gm12878_ref2.region_id AND gm12878.gene_id = gm12878_ref2.gene_id AND gm12878.enh_id = gm12878_ref2.enh_id\"),\n",
    "#         how=\"inner\"\n",
    "#     )\n",
    "#     .select(\n",
    "#         gm12878_neanderthal_df_ref.region_id,\n",
    "#         gm12878_neanderthal_df_ref.gene_id,\n",
    "#         gm12878_neanderthal_df_ref.enh_id,\n",
    "#         gm12878_neanderthal_df_ref.dist,\n",
    "#         gm12878_neanderthal_df_ref.avg_dist,\n",
    "#         gm12878_neanderthal_df_ref2.dist.alias('dist_ref2'),\n",
    "#         gm12878_neanderthal_df_ref2.avg_dist.alias('avg_dist_ref2')\n",
    "#     )\n",
    "#     .withColumn('p_value', mannwhiteneyu(F.col('dist'), F.col('dist_ref2')))\n",
    "# )\n",
    "#\n",
    "# hffc6_neanderthal_df_ref_tested_against_ref2 = (\n",
    "#     hffc6_neanderthal_df_ref\n",
    "#     .join(\n",
    "#         other=hffc6_neanderthal_df_ref2,\n",
    "#         on=F.expr(\"hffc6.region_id = hffc6_ref2.region_id AND hffc6.gene_id = hffc6_ref2.gene_id AND hffc6.enh_id = hffc6_ref2.enh_id\"),\n",
    "#         how=\"inner\"\n",
    "#     )\n",
    "#     .select(\n",
    "#         hffc6_neanderthal_df_ref.region_id,\n",
    "#         hffc6_neanderthal_df_ref.gene_id,\n",
    "#         hffc6_neanderthal_df_ref.enh_id,\n",
    "#         hffc6_neanderthal_df_ref.dist,\n",
    "#         hffc6_neanderthal_df_ref.avg_dist,\n",
    "#         hffc6_neanderthal_df_ref.dist.alias('dist_ref2'),\n",
    "#         hffc6_neanderthal_df_ref2.avg_dist.alias('avg_dist_ref2')\n",
    "#     )\n",
    "#     .withColumn('p_value', mannwhiteneyu(F.col('dist'), F.col('dist_ref2')))\n",
    "# )"
   ],
   "id": "7a408cb2ea9dd4b0",
   "outputs": [
    {
     "data": {
      "text/plain": [
       "FloatProgress(value=0.0, bar_style='info', description='Progress:', layout=Layout(height='25px', width='50%'),…"
      ],
      "application/vnd.jupyter.widget-view+json": {
       "version_major": 2,
       "version_minor": 0,
       "model_id": "8cdaaa8ce15a4c08a7310279f5d7fc6e"
      }
     },
     "metadata": {},
     "output_type": "display_data"
    }
   ],
   "execution_count": 99
  },
  {
   "metadata": {
    "ExecuteTime": {
     "end_time": "2025-05-13T14:59:18.860601Z",
     "start_time": "2025-05-13T14:59:18.127128Z"
    },
    "trusted": false
   },
   "cell_type": "code",
   "source": [
    "# %%pretty\n",
    "# gm12878_neanderthal_df_ref_tested_against_ref2.count()"
   ],
   "id": "83b2d9873f89cc8b",
   "outputs": [
    {
     "data": {
      "text/plain": "FloatProgress(value=0.0, bar_style='info', description='Progress:', layout=Layout(height='25px', width='50%'),…",
      "application/vnd.jupyter.widget-view+json": {
       "version_major": 2,
       "version_minor": 0,
       "model_id": "a500b48339c04a3d839bf916ab113daf"
      }
     },
     "metadata": {},
     "output_type": "display_data"
    },
    {
     "name": "stdout",
     "output_type": "stream",
     "text": "9652"
    }
   ],
   "execution_count": 81
  },
  {
   "metadata": {
    "trusted": false,
    "ExecuteTime": {
     "end_time": "2025-05-13T15:53:31.299998Z",
     "start_time": "2025-05-13T15:53:31.066477Z"
    }
   },
   "cell_type": "code",
   "source": [
    "gm12878_existing_links_df = (\n",
    "    gm12878_neanderthal_df_ref\n",
    "    .join(\n",
    "        other=links_gm12878_df,\n",
    "        on=F.expr(\"gm12878.gene_id = links.gene_id AND gm12878.enh_id = links.enh_id\"),\n",
    "        how=\"inner\"\n",
    "    )\n",
    "    .select(\n",
    "        gm12878_neanderthal_df_ref.region_id,\n",
    "        gm12878_neanderthal_df_ref.gene_id,\n",
    "        gm12878_neanderthal_df_ref.enh_id,\n",
    "        gm12878_neanderthal_df_ref.avg_dist\n",
    "    )\n",
    ")\n",
    "\n",
    "hffc6_existing_links_df = (\n",
    "    hffc6_neanderthal_df_ref\n",
    "    .join(\n",
    "        other=links_hffc6_df,\n",
    "        on=F.expr(\"hffc6.gene_id = links.gene_id AND hffc6.enh_id = links.enh_id\"),\n",
    "        how=\"inner\"\n",
    "    )\n",
    "    .select(\n",
    "        hffc6_neanderthal_df_ref.region_id,\n",
    "        hffc6_neanderthal_df_ref.gene_id,\n",
    "        hffc6_neanderthal_df_ref.enh_id,\n",
    "        hffc6_neanderthal_df_ref.avg_dist\n",
    "    )\n",
    ")\n",
    "\n",
    "gm12878_hffc6_common_links_df = (\n",
    "    gm12878_existing_links_df\n",
    "    .join(\n",
    "        other=hffc6_existing_links_df,\n",
    "        on=F.expr(\"gm12878.gene_id = hffc6.gene_id AND gm12878.enh_id = hffc6.enh_id\"),\n",
    "        how=\"inner\"\n",
    "    )\n",
    "    .select(\n",
    "        gm12878_existing_links_df.region_id,\n",
    "        gm12878_existing_links_df.gene_id,\n",
    "        gm12878_existing_links_df.enh_id,\n",
    "        gm12878_existing_links_df.avg_dist.alias('gm12878_avg_dist'),\n",
    "        hffc6_existing_links_df.avg_dist.alias('hffc6_avg_dist')\n",
    "    )\n",
    ")\n",
    "\n",
    "gm12878_hffc6_gm12878_only_links_df = (\n",
    "    gm12878_existing_links_df\n",
    "    .join(\n",
    "        other=hffc6_existing_links_df,\n",
    "        on=F.expr(\"gm12878.gene_id = hffc6.gene_id AND gm12878.enh_id = hffc6.enh_id\"),\n",
    "        how=\"left_anti\"\n",
    "    )\n",
    "    .select(\n",
    "        gm12878_existing_links_df.region_id,\n",
    "        gm12878_existing_links_df.gene_id,\n",
    "        gm12878_existing_links_df.enh_id,\n",
    "        gm12878_existing_links_df.avg_dist.alias('gm12878_avg_dist')\n",
    "    )\n",
    ")\n",
    "\n",
    "gm12878_hffc6_hffc6_only_links_df = (\n",
    "    hffc6_existing_links_df\n",
    "    .join(\n",
    "        other=gm12878_existing_links_df,\n",
    "        on=F.expr(\"hffc6.gene_id = gm12878.gene_id AND hffc6.enh_id = gm12878.enh_id\"),\n",
    "        how=\"left_anti\"\n",
    "    )\n",
    "    .select(\n",
    "        hffc6_existing_links_df.region_id,\n",
    "        hffc6_existing_links_df.gene_id,\n",
    "        hffc6_existing_links_df.enh_id,\n",
    "        hffc6_existing_links_df.avg_dist.alias('hffc6_avg_dist')\n",
    "    )\n",
    ")"
   ],
   "id": "6f9359ee6b5e672e",
   "outputs": [
    {
     "data": {
      "text/plain": [
       "FloatProgress(value=0.0, bar_style='info', description='Progress:', layout=Layout(height='25px', width='50%'),…"
      ],
      "application/vnd.jupyter.widget-view+json": {
       "version_major": 2,
       "version_minor": 0,
       "model_id": "bbda7b8f5cad47b1b485adb67a088d53"
      }
     },
     "metadata": {},
     "output_type": "display_data"
    }
   ],
   "execution_count": 101
  },
  {
   "metadata": {
    "trusted": false,
    "ExecuteTime": {
     "end_time": "2025-05-13T15:32:19.819341Z",
     "start_time": "2025-05-13T15:24:21.604372Z"
    }
   },
   "cell_type": "code",
   "source": "gm12878_existing_links_df.count(), hffc6_existing_links_df.count(), gm12878_hffc6_common_links_df.count(), gm12878_hffc6_gm12878_only_links_df.count(), gm12878_hffc6_hffc6_only_links_df.count()",
   "id": "6225150aa070082c",
   "outputs": [
    {
     "data": {
      "text/plain": [
       "FloatProgress(value=0.0, bar_style='info', description='Progress:', layout=Layout(height='25px', width='50%'),…"
      ],
      "application/vnd.jupyter.widget-view+json": {
       "version_major": 2,
       "version_minor": 0,
       "model_id": "43e70db0cd9442d6b212c0478561983a"
      }
     },
     "metadata": {},
     "output_type": "display_data"
    },
    {
     "name": "stdout",
     "output_type": "stream",
     "text": [
      "(13840, 20416, 3656, 10184, 16760)"
     ]
    }
   ],
   "execution_count": 92
  },
  {
   "metadata": {
    "trusted": false,
    "ExecuteTime": {
     "end_time": "2025-05-13T16:07:48.608886Z",
     "start_time": "2025-05-13T16:07:41.344791Z"
    }
   },
   "cell_type": "code",
   "source": [
    "import os\n",
    "\n",
    "# write all to csv into /work/playground/links/experiment_2\n",
    "os.makedirs(\"/work/playground/links/experiment_2\", exist_ok=True)\n",
    "\n",
    "gm12878_neanderthal_df_ref.toPandas().to_parquet(\"/work/playground/links/experiment_2/gm12878_neanderthal_df_ref.parquet\", index=False)\n",
    "hffc6_neanderthal_df_ref.toPandas().to_parquet(\"/work/playground/links/experiment_2/hffc6_neanderthal_df_ref.parquet\", index=False)\n",
    "\n",
    "gm12878_hffc6_common_links_df.toPandas().to_csv(\"/work/playground/links/experiment_2/gm12878_hffc6_common_links.csv\", index=False)\n",
    "gm12878_existing_links_df.toPandas().to_csv(\"/work/playground/links/experiment_2/gm12878_existing_links.csv\", index=False)\n",
    "hffc6_existing_links_df.toPandas().to_csv(\"/work/playground/links/experiment_2/hffc6_existing_links.csv\", index=False)\n",
    "gm12878_hffc6_gm12878_only_links_df.toPandas().to_csv(\"/work/playground/links/experiment_2/gm12878_hffc6_gm12878_only_links.csv\", index=False)\n",
    "gm12878_hffc6_hffc6_only_links_df.toPandas().to_csv(\"/work/playground/links/experiment_2/gm12878_hffc6_hffc6_only_links.csv\", index=False)"
   ],
   "id": "e3c58a733df50b32",
   "outputs": [
    {
     "data": {
      "text/plain": [
       "FloatProgress(value=0.0, bar_style='info', description='Progress:', layout=Layout(height='25px', width='50%'),…"
      ],
      "application/vnd.jupyter.widget-view+json": {
       "version_major": 2,
       "version_minor": 0,
       "model_id": "565f20f9f46d48b0bf439ae8702c9e2a"
      }
     },
     "metadata": {},
     "output_type": "display_data"
    }
   ],
   "execution_count": 104
  }
 ],
 "metadata": {
  "kernelspec": {
   "display_name": "PySpark",
   "language": "python",
   "name": "pysparkkernel"
  }
 },
 "nbformat": 4,
 "nbformat_minor": 5
}
