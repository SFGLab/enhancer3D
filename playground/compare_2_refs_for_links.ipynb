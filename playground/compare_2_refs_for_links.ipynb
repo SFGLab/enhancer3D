{
 "cells": [
  {
   "metadata": {
    "ExecuteTime": {
     "end_time": "2025-05-13T10:12:11.065537Z",
     "start_time": "2025-05-13T10:12:11.044289Z"
    }
   },
   "cell_type": "code",
   "source": [
    "%%configure -f\n",
    "{\"driverMemory\": \"4G\", \"driverCores\": 2, \"executorMemory\": \"12G\", \"executorCores\": 6, \"numExecutors\": 3}"
   ],
   "id": "4c14b1dabbaf2cb",
   "outputs": [
    {
     "data": {
      "text/plain": [
       "<IPython.core.display.HTML object>"
      ],
      "text/html": [
       "Current session configs: <tt>{'conf': {'spark.sql.catalog.spark_catalog.type': 'hive'}, 'driverMemory': '4G', 'driverCores': 2, 'executorMemory': '12G', 'executorCores': 6, 'numExecutors': 3, 'kind': 'pyspark'}</tt><br>"
      ]
     },
     "metadata": {},
     "output_type": "display_data"
    },
    {
     "data": {
      "text/plain": [
       "<IPython.core.display.HTML object>"
      ],
      "text/html": [
       "No active sessions."
      ]
     },
     "metadata": {},
     "output_type": "display_data"
    }
   ],
   "execution_count": 1
  },
  {
   "metadata": {
    "ExecuteTime": {
     "end_time": "2025-05-13T10:35:30.509944Z",
     "start_time": "2025-05-13T10:35:03.198401Z"
    }
   },
   "cell_type": "code",
   "source": [
    "from typing import List\n",
    "\n",
    "from pyspark import SparkFiles\n",
    "from subprocess import call\n",
    "import sys\n",
    "\n",
    "\n",
    "def install_deps(deps: List[str]) -> None:\n",
    "    call([sys.executable, '-m', 'pip', 'install', '-q', '-t', SparkFiles.getRootDirectory(), *deps])\n",
    "\n",
    "\n",
    "install_deps(['numpy', 'matplotlib', 'pandas', 'scipy', 'seaborn', 'statsmodels'])"
   ],
   "id": "26e8ee22c248cdfe",
   "outputs": [
    {
     "data": {
      "text/plain": [
       "FloatProgress(value=0.0, bar_style='info', description='Progress:', layout=Layout(height='25px', width='50%'),…"
      ],
      "application/vnd.jupyter.widget-view+json": {
       "version_major": 2,
       "version_minor": 0,
       "model_id": "34b4f342654746b5a874e519b68ec5d5"
      }
     },
     "metadata": {},
     "output_type": "display_data"
    }
   ],
   "execution_count": 9
  },
  {
   "metadata": {
    "ExecuteTime": {
     "end_time": "2025-05-13T10:16:10.248326Z",
     "start_time": "2025-05-13T10:16:10.212278Z"
    }
   },
   "cell_type": "code",
   "source": [
    "from typing import Optional\n",
    "import json\n",
    "from pyspark.sql import SparkSession, DataFrame\n",
    "\n",
    "spark: SparkSession\n",
    "\n",
    "def load_distance_calculation_df(aggregation_pipeline: Optional[List] = None) -> DataFrame:\n",
    "    if aggregation_pipeline is None:\n",
    "        aggregation_pipeline = []\n",
    "    \n",
    "    return (\n",
    "        spark\n",
    "        .read\n",
    "        .format(\"mongodb\")\n",
    "        .option(\"partitioner\", \"com.mongodb.spark.sql.connector.read.partitioner.SamplePartitioner\")\n",
    "        .option(\"partitioner.options.partition.field\", \"_id\")\n",
    "        .option(\"partitioner.options.partition.size\", \"64\")\n",
    "        .option(\"partitioner.options.samples.per.partition\", \"2\")\n",
    "        .option(\"database\", \"enhancer3d\")\n",
    "        .option(\"collection\", \"distance_calculation\")\n",
    "        .option(\"aggregation.pipeline\", json.dumps(aggregation_pipeline))\n",
    "        .load()\n",
    "    )"
   ],
   "id": "9321644c73abf9c1",
   "outputs": [
    {
     "data": {
      "text/plain": [
       "FloatProgress(value=0.0, bar_style='info', description='Progress:', layout=Layout(height='25px', width='50%'),…"
      ],
      "application/vnd.jupyter.widget-view+json": {
       "version_major": 2,
       "version_minor": 0,
       "model_id": "f422acf5bf18458e9ff06e94deb4b269"
      }
     },
     "metadata": {},
     "output_type": "display_data"
    }
   ],
   "execution_count": 5
  },
  {
   "metadata": {
    "ExecuteTime": {
     "end_time": "2025-05-13T10:51:14.980099Z",
     "start_time": "2025-05-13T10:51:14.239441Z"
    }
   },
   "cell_type": "code",
   "source": [
    "links_df = (\n",
    "    spark\n",
    "    .read\n",
    "    .format(\"parquet\")\n",
    "    .option(\"header\", \"true\")\n",
    "    .option(\"inferSchema\", \"true\")\n",
    "    .load(\"/work/data/links\")\n",
    "    .alias(\"links\")\n",
    ")"
   ],
   "id": "e9aa021f5dac33df",
   "outputs": [
    {
     "data": {
      "text/plain": [
       "FloatProgress(value=0.0, bar_style='info', description='Progress:', layout=Layout(height='25px', width='50%'),…"
      ],
      "application/vnd.jupyter.widget-view+json": {
       "version_major": 2,
       "version_minor": 0,
       "model_id": "4247ecef358e490190fd2c16c0f1ec66"
      }
     },
     "metadata": {},
     "output_type": "display_data"
    }
   ],
   "execution_count": 12
  },
  {
   "metadata": {
    "ExecuteTime": {
     "end_time": "2025-05-13T10:49:33.857611Z",
     "start_time": "2025-05-13T10:49:33.118541Z"
    }
   },
   "cell_type": "code",
   "source": [
    "%%pretty\n",
    "links_df.show(5)"
   ],
   "id": "88c1cfe5ae1e4157",
   "outputs": [
    {
     "data": {
      "text/plain": [
       "FloatProgress(value=0.0, bar_style='info', description='Progress:', layout=Layout(height='25px', width='50%'),…"
      ],
      "application/vnd.jupyter.widget-view+json": {
       "version_major": 2,
       "version_minor": 0,
       "model_id": "0377b5547df54c0e828efb774da74eec"
      }
     },
     "metadata": {},
     "output_type": "display_data"
    },
    {
     "data": {
      "text/plain": [
       "<IPython.core.display.HTML object>"
      ],
      "text/html": [
       "<table><tr><th><pre style=\"word-break: unset; background-color: unset;\">enh_id</pre></th><th><pre style=\"word-break: unset; background-color: unset;\">gene_id</pre></th><th><pre style=\"word-break: unset; background-color: unset;\">pval</pre></th><th><pre style=\"word-break: unset; background-color: unset;\">qval</pre></th></tr><tr><td><pre style=\"word-break: unset; background-color: unset;\">chr1:777020-778280</pre></td><td><pre style=\"word-break: unset; background-color: unset;\">ENSG00000197049</pre></td><td><pre style=\"word-break: unset; background-color: unset;\">1.49719</pre></td><td><pre style=\"word-break: unset; background-color: unset;\">1.0</pre></td></tr><tr><td><pre style=\"word-break: unset; background-color: unset;\">chr1:1020370-1022200</pre></td><td><pre style=\"word-break: unset; background-color: unset;\">ENSG00000197049</pre></td><td><pre style=\"word-break: unset; background-color: unset;\">0.668822</pre></td><td><pre style=\"word-break: unset; background-color: unset;\">2.0</pre></td></tr><tr><td><pre style=\"word-break: unset; background-color: unset;\">chr1:925800-925920</pre></td><td><pre style=\"word-break: unset; background-color: unset;\">ENSG00000188976</pre></td><td><pre style=\"word-break: unset; background-color: unset;\">3.024489</pre></td><td><pre style=\"word-break: unset; background-color: unset;\">3.0</pre></td></tr><tr><td><pre style=\"word-break: unset; background-color: unset;\">chr1:939460-941140</pre></td><td><pre style=\"word-break: unset; background-color: unset;\">ENSG00000188976</pre></td><td><pre style=\"word-break: unset; background-color: unset;\">2.660575</pre></td><td><pre style=\"word-break: unset; background-color: unset;\">4.0</pre></td></tr><tr><td><pre style=\"word-break: unset; background-color: unset;\">chr1:941310-942130</pre></td><td><pre style=\"word-break: unset; background-color: unset;\">ENSG00000188976</pre></td><td><pre style=\"word-break: unset; background-color: unset;\">2.350741</pre></td><td><pre style=\"word-break: unset; background-color: unset;\">5.0</pre></td></tr></table><br /><pre>only showing top 5 rows</pre>"
      ]
     },
     "metadata": {},
     "output_type": "display_data"
    }
   ],
   "execution_count": 11
  },
  {
   "metadata": {},
   "cell_type": "code",
   "outputs": [],
   "execution_count": null,
   "source": [
    "from pyspark.sql import functions as F, types as T\n",
    "import numpy as np\n",
    "\n",
    "@F.udf(T.ArrayType(T.DoubleType()))\n",
    "def diff(A, B):\n",
    "    return np.abs(np.array(A) - np.array(B)).tolist()\n",
    "\n",
    "@F.udf(T.DoubleType())\n",
    "def var(A):\n",
    "    return float(np.var(A))\n",
    "\n",
    "@F.udf(T.DoubleType())\n",
    "def avg(A):\n",
    "    return float(np.mean(A))\n"
   ],
   "id": "967f988677db7143"
  },
  {
   "metadata": {
    "ExecuteTime": {
     "end_time": "2025-05-13T10:34:13.466129Z",
     "start_time": "2025-05-13T10:31:59.920112Z"
    }
   },
   "cell_type": "code",
   "source": [
    "gm12878_neanderthal_df_ref = (\n",
    "    load_distance_calculation_df([\n",
    "        {\n",
    "            '$match': {\n",
    "                '_id.project_id': '8k_models_project_GM12878',\n",
    "                '_id.ensemble_id': {'$regex': '^models3D_GM12878_Nean_models3D_GM12878_Nean_results'},\n",
    "            }\n",
    "        }\n",
    "    ])\n",
    "    .where(\n",
    "        F.col('gene_type') == 'protein_coding'\n",
    "    )\n",
    "    .select(\n",
    "        F.col('_id.region_id').alias('region_id'),\n",
    "        F.col('_id.gene_id').alias('gene_id'),\n",
    "        F.col('_id.enh_id').alias('enh_id'),\n",
    "        'avg_dist'\n",
    "    )\n",
    "    # gene_id ENH00001.XXX -> ENH00001\n",
    "    .withColumn('gene_id', F.split(F.col('gene_id'), '\\.')[0])\n",
    "    .alias(\"gm12878\")\n",
    "    .cache()\n",
    ")\n",
    "\n",
    "hffc6_neanderthal_df_ref = (\n",
    "    load_distance_calculation_df([\n",
    "        {\n",
    "            '$match': {\n",
    "                '_id.project_id': '8k_models_project_HFFC6',\n",
    "                '_id.ensemble_id': {'$regex': '^models3D_HFFC6_Nean_models3D_HFFC6_Nean_results'},\n",
    "            }\n",
    "        }\n",
    "    ])\n",
    "    .where(\n",
    "        F.col('gene_type') == 'protein_coding'\n",
    "    )\n",
    "    .select(\n",
    "        F.col('_id.region_id').alias('region_id'),\n",
    "        F.col('_id.gene_id').alias('gene_id'),\n",
    "        F.col('_id.enh_id').alias('enh_id'),\n",
    "        'avg_dist'\n",
    "    )\n",
    "     # gene_id ENH00001.XXX -> ENH00001\n",
    "    .withColumn('gene_id', F.split(F.col('gene_id'), '\\.')[0])\n",
    "    .alias(\"hffc6\")\n",
    "    .cache()\n",
    ")"
   ],
   "id": "bfacd43338f0a8f2",
   "outputs": [
    {
     "data": {
      "text/plain": [
       "FloatProgress(value=0.0, bar_style='info', description='Progress:', layout=Layout(height='25px', width='50%'),…"
      ],
      "application/vnd.jupyter.widget-view+json": {
       "version_major": 2,
       "version_minor": 0,
       "model_id": "6b2e4d5cc11348519ced0dca780f4eb5"
      }
     },
     "metadata": {},
     "output_type": "display_data"
    },
    {
     "name": "stdout",
     "output_type": "stream",
     "text": [
      "<stdin>:22: SyntaxWarning: invalid escape sequence '\\.'\n",
      "<stdin>:46: SyntaxWarning: invalid escape sequence '\\.'"
     ]
    }
   ],
   "execution_count": 8
  },
  {
   "metadata": {
    "ExecuteTime": {
     "end_time": "2025-05-13T10:45:49.194191Z",
     "start_time": "2025-05-13T10:38:26.979302Z"
    }
   },
   "cell_type": "code",
   "source": [
    "%%pretty\n",
    "gm12878_neanderthal_df_ref.show(5)"
   ],
   "id": "83b2d9873f89cc8b",
   "outputs": [
    {
     "data": {
      "text/plain": [
       "FloatProgress(value=0.0, bar_style='info', description='Progress:', layout=Layout(height='25px', width='50%'),…"
      ],
      "application/vnd.jupyter.widget-view+json": {
       "version_major": 2,
       "version_minor": 0,
       "model_id": "6a28a2b57fa045b79fe2a6e47524db5e"
      }
     },
     "metadata": {},
     "output_type": "display_data"
    },
    {
     "data": {
      "text/plain": [
       "<IPython.core.display.HTML object>"
      ],
      "text/html": [
       "<table><tr><th><pre style=\"word-break: unset; background-color: unset;\">region_id</pre></th><th><pre style=\"word-break: unset; background-color: unset;\">gene_id</pre></th><th><pre style=\"word-break: unset; background-color: unset;\">enh_id</pre></th><th><pre style=\"word-break: unset; background-color: unset;\">avg_dist</pre></th></tr><tr><td><pre style=\"word-break: unset; background-color: unset;\">chr10:10300866-12...</pre></td><td><pre style=\"word-break: unset; background-color: unset;\">ENSG00000048740</pre></td><td><pre style=\"word-break: unset; background-color: unset;\">chr10:10854747-10...</pre></td><td><pre style=\"word-break: unset; background-color: unset;\">10.029472351074219</pre></td></tr><tr><td><pre style=\"word-break: unset; background-color: unset;\">chr10:10300866-12...</pre></td><td><pre style=\"word-break: unset; background-color: unset;\">ENSG00000048740</pre></td><td><pre style=\"word-break: unset; background-color: unset;\">chr10:10869487-10...</pre></td><td><pre style=\"word-break: unset; background-color: unset;\">12.780106544494629</pre></td></tr><tr><td><pre style=\"word-break: unset; background-color: unset;\">chr10:10300866-12...</pre></td><td><pre style=\"word-break: unset; background-color: unset;\">ENSG00000048740</pre></td><td><pre style=\"word-break: unset; background-color: unset;\">chr10:11074217-11...</pre></td><td><pre style=\"word-break: unset; background-color: unset;\">22.668201446533203</pre></td></tr><tr><td><pre style=\"word-break: unset; background-color: unset;\">chr10:10300866-12...</pre></td><td><pre style=\"word-break: unset; background-color: unset;\">ENSG00000048740</pre></td><td><pre style=\"word-break: unset; background-color: unset;\">chr10:11080347-11...</pre></td><td><pre style=\"word-break: unset; background-color: unset;\">22.45758628845215</pre></td></tr><tr><td><pre style=\"word-break: unset; background-color: unset;\">chr10:10300866-12...</pre></td><td><pre style=\"word-break: unset; background-color: unset;\">ENSG00000048740</pre></td><td><pre style=\"word-break: unset; background-color: unset;\">chr10:11091167-11...</pre></td><td><pre style=\"word-break: unset; background-color: unset;\">22.26520347595215</pre></td></tr></table><br /><pre>only showing top 5 rows</pre>"
      ]
     },
     "metadata": {},
     "output_type": "display_data"
    }
   ],
   "execution_count": 10
  },
  {
   "metadata": {
    "ExecuteTime": {
     "end_time": "2025-05-13T11:02:23.391143Z",
     "start_time": "2025-05-13T11:02:23.151637Z"
    }
   },
   "cell_type": "code",
   "source": [
    "gm12878_existing_links_df = (\n",
    "    gm12878_neanderthal_df_ref\n",
    "    .join(\n",
    "        other=links_df,\n",
    "        on=F.expr(\"gm12878.gene_id = links.gene_id AND gm12878.enh_id = links.enh_id\"),\n",
    "        how=\"inner\"\n",
    "    )\n",
    "    .select(\n",
    "        gm12878_neanderthal_df_ref.region_id,\n",
    "        gm12878_neanderthal_df_ref.gene_id,\n",
    "        gm12878_neanderthal_df_ref.enh_id,\n",
    "        gm12878_neanderthal_df_ref.avg_dist\n",
    "    )\n",
    ")\n",
    "\n",
    "hffc6_existing_links_df = (\n",
    "    hffc6_neanderthal_df_ref\n",
    "    .join(\n",
    "        other=links_df,\n",
    "        on=F.expr(\"hffc6.gene_id = links.gene_id AND hffc6.enh_id = links.enh_id\"),\n",
    "        how=\"inner\"\n",
    "    )\n",
    "    .select(\n",
    "        hffc6_neanderthal_df_ref.region_id,\n",
    "        hffc6_neanderthal_df_ref.gene_id,\n",
    "        hffc6_neanderthal_df_ref.enh_id,\n",
    "        hffc6_neanderthal_df_ref.avg_dist\n",
    "    )\n",
    ")\n",
    "\n",
    "gm12878_hffc6_common_links_df = (\n",
    "    gm12878_existing_links_df\n",
    "    .join(\n",
    "        other=hffc6_existing_links_df,\n",
    "        on=F.expr(\"gm12878.gene_id = hffc6.gene_id AND gm12878.enh_id = hffc6.enh_id\"),\n",
    "        how=\"inner\"\n",
    "    )\n",
    "    .select(\n",
    "        gm12878_existing_links_df.region_id,\n",
    "        gm12878_existing_links_df.gene_id,\n",
    "        gm12878_existing_links_df.enh_id,\n",
    "        gm12878_existing_links_df.avg_dist.alias('gm12878_avg_dist'),\n",
    "        hffc6_existing_links_df.avg_dist.alias('hffc6_avg_dist')\n",
    "    )\n",
    ")\n",
    "\n",
    "gm12878_hffc6_gm12878_only_links_df = (\n",
    "    gm12878_existing_links_df\n",
    "    .join(\n",
    "        other=hffc6_existing_links_df,\n",
    "        on=F.expr(\"gm12878.gene_id = hffc6.gene_id AND gm12878.enh_id = hffc6.enh_id\"),\n",
    "        how=\"left_anti\"\n",
    "    )\n",
    "    .select(\n",
    "        gm12878_existing_links_df.region_id,\n",
    "        gm12878_existing_links_df.gene_id,\n",
    "        gm12878_existing_links_df.enh_id,\n",
    "        gm12878_existing_links_df.avg_dist.alias('gm12878_avg_dist')\n",
    "    )\n",
    ")\n",
    "\n",
    "gm12878_hffc6_hffc6_only_links_df = (\n",
    "    hffc6_existing_links_df\n",
    "    .join(\n",
    "        other=gm12878_existing_links_df,\n",
    "        on=F.expr(\"hffc6.gene_id = gm12878.gene_id AND hffc6.enh_id = gm12878.enh_id\"),\n",
    "        how=\"left_anti\"\n",
    "    )\n",
    "    .select(\n",
    "        hffc6_existing_links_df.region_id,\n",
    "        hffc6_existing_links_df.gene_id,\n",
    "        hffc6_existing_links_df.enh_id,\n",
    "        hffc6_existing_links_df.avg_dist.alias('hffc6_avg_dist')\n",
    "    )\n",
    ")"
   ],
   "id": "6f9359ee6b5e672e",
   "outputs": [
    {
     "data": {
      "text/plain": [
       "FloatProgress(value=0.0, bar_style='info', description='Progress:', layout=Layout(height='25px', width='50%'),…"
      ],
      "application/vnd.jupyter.widget-view+json": {
       "version_major": 2,
       "version_minor": 0,
       "model_id": "35844d3430e249428155cd1fe1499d42"
      }
     },
     "metadata": {},
     "output_type": "display_data"
    }
   ],
   "execution_count": 14
  },
  {
   "metadata": {
    "ExecuteTime": {
     "end_time": "2025-05-13T11:02:55.065854Z",
     "start_time": "2025-05-13T11:02:33.761058Z"
    }
   },
   "cell_type": "code",
   "source": "gm12878_existing_links_df.count(), hffc6_existing_links_df.count(), gm12878_hffc6_common_links_df.count(), gm12878_hffc6_gm12878_only_links_df.count(), gm12878_hffc6_hffc6_only_links_df.count()",
   "id": "6225150aa070082c",
   "outputs": [
    {
     "data": {
      "text/plain": [
       "FloatProgress(value=0.0, bar_style='info', description='Progress:', layout=Layout(height='25px', width='50%'),…"
      ],
      "application/vnd.jupyter.widget-view+json": {
       "version_major": 2,
       "version_minor": 0,
       "model_id": "c61c4cef94ce4a69a20eb781d4b01aa7"
      }
     },
     "metadata": {},
     "output_type": "display_data"
    },
    {
     "name": "stdout",
     "output_type": "stream",
     "text": [
      "(31436, 36438, 35068, 17014, 22016)"
     ]
    }
   ],
   "execution_count": 15
  },
  {
   "metadata": {
    "ExecuteTime": {
     "end_time": "2025-05-13T11:12:18.393986Z",
     "start_time": "2025-05-13T11:12:13.133760Z"
    }
   },
   "cell_type": "code",
   "source": [
    "import os\n",
    "\n",
    "# write all to csv into /work/playground/links/experiment_1\n",
    "os.makedirs(\"/work/playground/links/experiment_1\", exist_ok=True)\n",
    "gm12878_hffc6_common_links_df.toPandas().to_csv(\"/work/playground/links/experiment_1/gm12878_hffc6_common_links.csv\", index=False)\n",
    "hffc6_existing_links_df.toPandas().to_csv(\"/work/playground/links/experiment_1/hffc6_existing_links.csv\", index=False)\n",
    "gm12878_hffc6_gm12878_only_links_df.toPandas().to_csv(\"/work/playground/links/experiment_1/gm12878_hffc6_gm12878_only_links.csv\", index=False)\n",
    "gm12878_hffc6_hffc6_only_links_df.toPandas().to_csv(\"/work/playground/links/experiment_1/gm12878_hffc6_hffc6_only_links.csv\", index=False)"
   ],
   "id": "e3c58a733df50b32",
   "outputs": [
    {
     "data": {
      "text/plain": [
       "FloatProgress(value=0.0, bar_style='info', description='Progress:', layout=Layout(height='25px', width='50%'),…"
      ],
      "application/vnd.jupyter.widget-view+json": {
       "version_major": 2,
       "version_minor": 0,
       "model_id": "a67135e9951e407c9260c12623248e1c"
      }
     },
     "metadata": {},
     "output_type": "display_data"
    }
   ],
   "execution_count": 25
  }
 ],
 "metadata": {
  "kernelspec": {
   "display_name": "PySpark",
   "language": "python",
   "name": "pysparkkernel"
  }
 },
 "nbformat": 4,
 "nbformat_minor": 5
}
