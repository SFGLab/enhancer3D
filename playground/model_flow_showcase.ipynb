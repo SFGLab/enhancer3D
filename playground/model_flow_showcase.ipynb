{
 "cells": [
  {
   "metadata": {
    "ExecuteTime": {
     "end_time": "2024-12-26T12:01:46.175344Z",
     "start_time": "2024-12-26T12:01:46.161067Z"
    }
   },
   "cell_type": "code",
   "source": [
    "%load_ext autoreload\n",
    "%autoreload 2"
   ],
   "id": "f8e8c3002ec9865e",
   "outputs": [],
   "execution_count": 1
  },
  {
   "metadata": {
    "ExecuteTime": {
     "end_time": "2024-12-26T12:39:56.121Z",
     "start_time": "2024-12-26T12:39:56.091616Z"
    }
   },
   "cell_type": "code",
   "source": [
    "import sys\n",
    "sys.path.append('../src')\n",
    "\n",
    "from chromatin_model import *"
   ],
   "id": "28b23aa9bfa95eaf",
   "outputs": [],
   "execution_count": 9
  },
  {
   "metadata": {
    "ExecuteTime": {
     "end_time": "2024-12-26T12:05:38.155997Z",
     "start_time": "2024-12-26T12:05:37.506713Z"
    }
   },
   "cell_type": "code",
   "source": [
    "import os\n",
    "import logging\n",
    "\n",
    "logging.basicConfig(level=logging.INFO)\n",
    "model = load_3dgnome_model_ensemble_from_filesystem(\n",
    "    os.path.abspath('../data/models/models3D_GM12878_Deni/results_GM12878_Deni_chr1_74280_3521135/'),\n",
    "    'chr1_74280_3521135'\n",
    ")"
   ],
   "id": "9199e6ad7c4fd987",
   "outputs": [
    {
     "name": "stderr",
     "output_type": "stream",
     "text": [
      "INFO:chromatin_model.loaders.gnome:Loading 100 models for chr1_74280_3521135\n",
      "INFO:chromatin_model.loaders.gnome:Loading model chr1_74280_3521135 92\n",
      "INFO:chromatin_model.loaders.gnome:Loading model chr1_74280_3521135 87\n",
      "INFO:chromatin_model.loaders.gnome:Loading model chr1_74280_3521135 80\n",
      "INFO:chromatin_model.loaders.gnome:Loading model chr1_74280_3521135 70\n",
      "INFO:chromatin_model.loaders.gnome:Loading model chr1_74280_3521135 14\n",
      "INFO:chromatin_model.loaders.gnome:Loading model chr1_74280_3521135 95\n",
      "INFO:chromatin_model.loaders.gnome:Loading model chr1_74280_3521135 78\n",
      "INFO:chromatin_model.loaders.gnome:Loading model chr1_74280_3521135 77\n",
      "INFO:chromatin_model.loaders.gnome:Loading model chr1_74280_3521135 65\n",
      "INFO:chromatin_model.loaders.gnome:Loading model chr1_74280_3521135 13\n",
      "INFO:chromatin_model.loaders.gnome:Loading model chr1_74280_3521135 62\n",
      "INFO:chromatin_model.loaders.gnome:Loading model chr1_74280_3521135 88\n",
      "INFO:chromatin_model.loaders.gnome:Loading model chr1_74280_3521135 63\n",
      "INFO:chromatin_model.loaders.gnome:Loading model chr1_74280_3521135 76\n",
      "INFO:chromatin_model.loaders.gnome:Loading model chr1_74280_3521135 89\n",
      "INFO:chromatin_model.loaders.gnome:Loading model chr1_74280_3521135 12\n",
      "INFO:chromatin_model.loaders.gnome:Loaded model chr1_74280_3521135 87 with 2622 coordinates\n",
      "INFO:chromatin_model.loaders.gnome:Loaded model chr1_74280_3521135 80 with 2622 coordinates\n",
      "INFO:chromatin_model.loaders.gnome:Loaded model chr1_74280_3521135 92 with 2622 coordinates\n",
      "INFO:chromatin_model.loaders.gnome:Loaded model chr1_74280_3521135 70 with 2622 coordinates\n",
      "INFO:chromatin_model.loaders.gnome:Loaded model chr1_74280_3521135 14 with 2622 coordinates\n",
      "INFO:chromatin_model.loaders.gnome:Loaded model chr1_74280_3521135 78 with 2622 coordinates\n",
      "INFO:chromatin_model.loaders.gnome:Loaded model chr1_74280_3521135 95 with 2622 coordinates\n",
      "INFO:chromatin_model.loaders.gnome:Loaded model chr1_74280_3521135 77 with 2622 coordinates\n",
      "INFO:chromatin_model.loaders.gnome:Loaded model chr1_74280_3521135 65 with 2622 coordinates\n",
      "INFO:chromatin_model.loaders.gnome:Loaded model chr1_74280_3521135 88 with 2622 coordinates\n",
      "INFO:chromatin_model.loaders.gnome:Loaded model chr1_74280_3521135 13 with 2622 coordinates\n",
      "INFO:chromatin_model.loaders.gnome:Loaded model chr1_74280_3521135 62 with 2622 coordinates\n",
      "INFO:chromatin_model.loaders.gnome:Loading model chr1_74280_3521135 94\n",
      "INFO:chromatin_model.loaders.gnome:Loaded model chr1_74280_3521135 63 with 2622 coordinates\n",
      "INFO:chromatin_model.loaders.gnome:Loaded model chr1_74280_3521135 76 with 2622 coordinates\n",
      "INFO:chromatin_model.loaders.gnome:Loading model chr1_74280_3521135 81\n",
      "INFO:chromatin_model.loaders.gnome:Loaded model chr1_74280_3521135 12 with 2622 coordinates\n",
      "INFO:chromatin_model.loaders.gnome:Loading model chr1_74280_3521135 71\n",
      "INFO:chromatin_model.loaders.gnome:Loading model chr1_74280_3521135 64\n",
      "INFO:chromatin_model.loaders.gnome:Loaded model chr1_74280_3521135 89 with 2622 coordinates\n",
      "INFO:chromatin_model.loaders.gnome:Loading model chr1_74280_3521135 15\n",
      "INFO:chromatin_model.loaders.gnome:Loading model chr1_74280_3521135 86\n",
      "INFO:chromatin_model.loaders.gnome:Loading model chr1_74280_3521135 93\n",
      "INFO:chromatin_model.loaders.gnome:Loading model chr1_74280_3521135 79\n",
      "INFO:chromatin_model.loaders.gnome:Loading model chr1_74280_3521135 99\n",
      "INFO:chromatin_model.loaders.gnome:Loading model chr1_74280_3521135 17\n",
      "INFO:chromatin_model.loaders.gnome:Loading model chr1_74280_3521135 73\n",
      "INFO:chromatin_model.loaders.gnome:Loading model chr1_74280_3521135 66\n",
      "INFO:chromatin_model.loaders.gnome:Loading model chr1_74280_3521135 84\n",
      "INFO:chromatin_model.loaders.gnome:Loading model chr1_74280_3521135 91\n",
      "INFO:chromatin_model.loaders.gnome:Loading model chr1_74280_3521135 10\n",
      "INFO:chromatin_model.loaders.gnome:Loaded model chr1_74280_3521135 94 with 2622 coordinates\n",
      "INFO:chromatin_model.loaders.gnome:Loading model chr1_74280_3521135 61\n",
      "INFO:chromatin_model.loaders.gnome:Loaded model chr1_74280_3521135 81 with 2622 coordinates\n",
      "INFO:chromatin_model.loaders.gnome:Loaded model chr1_74280_3521135 71 with 2622 coordinates\n",
      "INFO:chromatin_model.loaders.gnome:Loaded model chr1_74280_3521135 64 with 2622 coordinates\n",
      "INFO:chromatin_model.loaders.gnome:Loaded model chr1_74280_3521135 15 with 2622 coordinates\n",
      "INFO:chromatin_model.loaders.gnome:Loaded model chr1_74280_3521135 86 with 2622 coordinates\n",
      "INFO:chromatin_model.loaders.gnome:Loaded model chr1_74280_3521135 93 with 2622 coordinates\n",
      "INFO:chromatin_model.loaders.gnome:Loaded model chr1_74280_3521135 79 with 2622 coordinates\n",
      "INFO:chromatin_model.loaders.gnome:Loaded model chr1_74280_3521135 99 with 2622 coordinates\n",
      "INFO:chromatin_model.loaders.gnome:Loaded model chr1_74280_3521135 17 with 2622 coordinates\n",
      "INFO:chromatin_model.loaders.gnome:Loaded model chr1_74280_3521135 73 with 2622 coordinates\n",
      "INFO:chromatin_model.loaders.gnome:Loaded model chr1_74280_3521135 66 with 2622 coordinates\n",
      "INFO:chromatin_model.loaders.gnome:Loading model chr1_74280_3521135 74\n",
      "INFO:chromatin_model.loaders.gnome:Loading model chr1_74280_3521135 69\n",
      "INFO:chromatin_model.loaders.gnome:Loaded model chr1_74280_3521135 84 with 2622 coordinates\n",
      "INFO:chromatin_model.loaders.gnome:Loaded model chr1_74280_3521135 91 with 2622 coordinates\n",
      "INFO:chromatin_model.loaders.gnome:Loaded model chr1_74280_3521135 10 with 2622 coordinates\n",
      "INFO:chromatin_model.loaders.gnome:Loaded model chr1_74280_3521135 61 with 2622 coordinates\n",
      "INFO:chromatin_model.loaders.gnome:Loading model chr1_74280_3521135 96\n",
      "INFO:chromatin_model.loaders.gnome:Loading model chr1_74280_3521135 83\n",
      "INFO:chromatin_model.loaders.gnome:Loading model chr1_74280_3521135 68\n",
      "INFO:chromatin_model.loaders.gnome:Loading model chr1_74280_3521135 18\n",
      "INFO:chromatin_model.loaders.gnome:Loading model chr1_74280_3521135 19\n",
      "INFO:chromatin_model.loaders.gnome:Loading model chr1_74280_3521135 82\n",
      "INFO:chromatin_model.loaders.gnome:Loading model chr1_74280_3521135 97\n",
      "INFO:chromatin_model.loaders.gnome:Loading model chr1_74280_3521135 11\n",
      "INFO:chromatin_model.loaders.gnome:Loading model chr1_74280_3521135 75\n",
      "INFO:chromatin_model.loaders.gnome:Loading model chr1_74280_3521135 60\n",
      "INFO:chromatin_model.loaders.gnome:Loading model chr1_74280_3521135 90\n",
      "INFO:chromatin_model.loaders.gnome:Loading model chr1_74280_3521135 85\n",
      "INFO:chromatin_model.loaders.gnome:Loading model chr1_74280_3521135 16\n",
      "INFO:chromatin_model.loaders.gnome:Loaded model chr1_74280_3521135 69 with 2622 coordinates\n",
      "INFO:chromatin_model.loaders.gnome:Loaded model chr1_74280_3521135 74 with 2622 coordinates\n",
      "INFO:chromatin_model.loaders.gnome:Loading model chr1_74280_3521135 98\n",
      "INFO:chromatin_model.loaders.gnome:Loaded model chr1_74280_3521135 68 with 2622 coordinates\n",
      "INFO:chromatin_model.loaders.gnome:Loaded model chr1_74280_3521135 96 with 2622 coordinates\n",
      "INFO:chromatin_model.loaders.gnome:Loaded model chr1_74280_3521135 83 with 2622 coordinates\n",
      "INFO:chromatin_model.loaders.gnome:Loaded model chr1_74280_3521135 18 with 2622 coordinates\n",
      "INFO:chromatin_model.loaders.gnome:Loaded model chr1_74280_3521135 82 with 2622 coordinates\n",
      "INFO:chromatin_model.loaders.gnome:Loaded model chr1_74280_3521135 19 with 2622 coordinates\n",
      "INFO:chromatin_model.loaders.gnome:Loaded model chr1_74280_3521135 11 with 2622 coordinates\n",
      "INFO:chromatin_model.loaders.gnome:Loaded model chr1_74280_3521135 97 with 2622 coordinates\n",
      "INFO:chromatin_model.loaders.gnome:Loaded model chr1_74280_3521135 75 with 2622 coordinates\n",
      "INFO:chromatin_model.loaders.gnome:Loading model chr1_74280_3521135 67\n",
      "INFO:chromatin_model.loaders.gnome:Loaded model chr1_74280_3521135 60 with 2622 coordinates\n",
      "INFO:chromatin_model.loaders.gnome:Loaded model chr1_74280_3521135 90 with 2622 coordinates\n",
      "INFO:chromatin_model.loaders.gnome:Loading model chr1_74280_3521135 72\n",
      "INFO:chromatin_model.loaders.gnome:Loaded model chr1_74280_3521135 85 with 2622 coordinates\n",
      "INFO:chromatin_model.loaders.gnome:Loading model chr1_74280_3521135 37\n",
      "INFO:chromatin_model.loaders.gnome:Loaded model chr1_74280_3521135 16 with 2622 coordinates\n",
      "INFO:chromatin_model.loaders.gnome:Loading model chr1_74280_3521135 22\n",
      "INFO:chromatin_model.loaders.gnome:Loading model chr1_74280_3521135 53\n",
      "INFO:chromatin_model.loaders.gnome:Loading model chr1_74280_3521135 46\n",
      "INFO:chromatin_model.loaders.gnome:Loading model chr1_74280_3521135 4\n",
      "INFO:chromatin_model.loaders.gnome:Loaded model chr1_74280_3521135 98 with 2622 coordinates\n",
      "INFO:chromatin_model.loaders.gnome:Loading model chr1_74280_3521135 49\n",
      "INFO:chromatin_model.loaders.gnome:Loading model chr1_74280_3521135 38\n",
      "INFO:chromatin_model.loaders.gnome:Loading model chr1_74280_3521135 25\n",
      "INFO:chromatin_model.loaders.gnome:Loading model chr1_74280_3521135 30\n",
      "INFO:chromatin_model.loaders.gnome:Loading model chr1_74280_3521135 3\n",
      "INFO:chromatin_model.loaders.gnome:Loading model chr1_74280_3521135 41\n",
      "INFO:chromatin_model.loaders.gnome:Loading model chr1_74280_3521135 54\n",
      "INFO:chromatin_model.loaders.gnome:Loaded model chr1_74280_3521135 67 with 2622 coordinates\n",
      "INFO:chromatin_model.loaders.gnome:Loading model chr1_74280_3521135 31\n",
      "INFO:chromatin_model.loaders.gnome:Loaded model chr1_74280_3521135 72 with 2622 coordinates\n",
      "INFO:chromatin_model.loaders.gnome:Loaded model chr1_74280_3521135 37 with 2622 coordinates\n",
      "INFO:chromatin_model.loaders.gnome:Loaded model chr1_74280_3521135 22 with 2622 coordinates\n",
      "INFO:chromatin_model.loaders.gnome:Loaded model chr1_74280_3521135 53 with 2622 coordinates\n",
      "INFO:chromatin_model.loaders.gnome:Loaded model chr1_74280_3521135 46 with 2622 coordinates\n",
      "INFO:chromatin_model.loaders.gnome:Loading model chr1_74280_3521135 24\n",
      "INFO:chromatin_model.loaders.gnome:Loaded model chr1_74280_3521135 4 with 2622 coordinates\n",
      "INFO:chromatin_model.loaders.gnome:Loaded model chr1_74280_3521135 49 with 2622 coordinates\n",
      "INFO:chromatin_model.loaders.gnome:Loaded model chr1_74280_3521135 30 with 2622 coordinates\n",
      "INFO:chromatin_model.loaders.gnome:Loaded model chr1_74280_3521135 38 with 2622 coordinates\n",
      "INFO:chromatin_model.loaders.gnome:Loaded model chr1_74280_3521135 25 with 2622 coordinates\n",
      "INFO:chromatin_model.loaders.gnome:Loading model chr1_74280_3521135 55\n",
      "INFO:chromatin_model.loaders.gnome:Loaded model chr1_74280_3521135 3 with 2622 coordinates\n",
      "INFO:chromatin_model.loaders.gnome:Loaded model chr1_74280_3521135 41 with 2622 coordinates\n",
      "INFO:chromatin_model.loaders.gnome:Loading model chr1_74280_3521135 40\n",
      "INFO:chromatin_model.loaders.gnome:Loading model chr1_74280_3521135 2\n",
      "INFO:chromatin_model.loaders.gnome:Loaded model chr1_74280_3521135 54 with 2622 coordinates\n",
      "INFO:chromatin_model.loaders.gnome:Loaded model chr1_74280_3521135 31 with 2622 coordinates\n",
      "INFO:chromatin_model.loaders.gnome:Loading model chr1_74280_3521135 48\n",
      "INFO:chromatin_model.loaders.gnome:Loading model chr1_74280_3521135 39\n",
      "INFO:chromatin_model.loaders.gnome:Loading model chr1_74280_3521135 23\n",
      "INFO:chromatin_model.loaders.gnome:Loading model chr1_74280_3521135 36\n",
      "INFO:chromatin_model.loaders.gnome:Loading model chr1_74280_3521135 5\n",
      "INFO:chromatin_model.loaders.gnome:Loading model chr1_74280_3521135 47\n",
      "INFO:chromatin_model.loaders.gnome:Loading model chr1_74280_3521135 52\n",
      "INFO:chromatin_model.loaders.gnome:Loading model chr1_74280_3521135 45\n",
      "INFO:chromatin_model.loaders.gnome:Loaded model chr1_74280_3521135 24 with 2622 coordinates\n",
      "INFO:chromatin_model.loaders.gnome:Loading model chr1_74280_3521135 50\n",
      "INFO:chromatin_model.loaders.gnome:Loading model chr1_74280_3521135 7\n",
      "INFO:chromatin_model.loaders.gnome:Loaded model chr1_74280_3521135 55 with 2622 coordinates\n",
      "INFO:chromatin_model.loaders.gnome:Loading model chr1_74280_3521135 21\n",
      "INFO:chromatin_model.loaders.gnome:Loading model chr1_74280_3521135 34\n",
      "INFO:chromatin_model.loaders.gnome:Loaded model chr1_74280_3521135 40 with 2622 coordinates\n",
      "INFO:chromatin_model.loaders.gnome:Loaded model chr1_74280_3521135 2 with 2622 coordinates\n",
      "INFO:chromatin_model.loaders.gnome:Loaded model chr1_74280_3521135 48 with 2622 coordinates\n",
      "INFO:chromatin_model.loaders.gnome:Loaded model chr1_74280_3521135 39 with 2622 coordinates\n",
      "INFO:chromatin_model.loaders.gnome:Loaded model chr1_74280_3521135 23 with 2622 coordinates\n",
      "INFO:chromatin_model.loaders.gnome:Loaded model chr1_74280_3521135 36 with 2622 coordinates\n",
      "INFO:chromatin_model.loaders.gnome:Loaded model chr1_74280_3521135 5 with 2622 coordinates\n",
      "INFO:chromatin_model.loaders.gnome:Loaded model chr1_74280_3521135 47 with 2622 coordinates\n",
      "INFO:chromatin_model.loaders.gnome:Loaded model chr1_74280_3521135 52 with 2622 coordinates\n",
      "INFO:chromatin_model.loaders.gnome:Loading model chr1_74280_3521135 29\n",
      "INFO:chromatin_model.loaders.gnome:Loaded model chr1_74280_3521135 45 with 2622 coordinates\n",
      "INFO:chromatin_model.loaders.gnome:Loading model chr1_74280_3521135 58\n",
      "INFO:chromatin_model.loaders.gnome:Loaded model chr1_74280_3521135 7 with 2622 coordinates\n",
      "INFO:chromatin_model.loaders.gnome:Loaded model chr1_74280_3521135 50 with 2622 coordinates\n",
      "INFO:chromatin_model.loaders.gnome:Loading model chr1_74280_3521135 0\n",
      "INFO:chromatin_model.loaders.gnome:Loading model chr1_74280_3521135 57\n",
      "INFO:chromatin_model.loaders.gnome:Loading model chr1_74280_3521135 42\n",
      "INFO:chromatin_model.loaders.gnome:Loaded model chr1_74280_3521135 21 with 2622 coordinates\n",
      "INFO:chromatin_model.loaders.gnome:Loading model chr1_74280_3521135 33\n",
      "INFO:chromatin_model.loaders.gnome:Loaded model chr1_74280_3521135 34 with 2622 coordinates\n",
      "INFO:chromatin_model.loaders.gnome:Loading model chr1_74280_3521135 26\n",
      "INFO:chromatin_model.loaders.gnome:Loading model chr1_74280_3521135 8\n",
      "INFO:chromatin_model.loaders.gnome:Loading model chr1_74280_3521135 9\n",
      "INFO:chromatin_model.loaders.gnome:Loading model chr1_74280_3521135 43\n",
      "INFO:chromatin_model.loaders.gnome:Loading model chr1_74280_3521135 56\n",
      "INFO:chromatin_model.loaders.gnome:Loading model chr1_74280_3521135 1\n",
      "INFO:chromatin_model.loaders.gnome:Loading model chr1_74280_3521135 27\n",
      "INFO:chromatin_model.loaders.gnome:Loading model chr1_74280_3521135 32\n",
      "INFO:chromatin_model.loaders.gnome:Loaded model chr1_74280_3521135 58 with 2622 coordinates\n",
      "INFO:chromatin_model.loaders.gnome:Loaded model chr1_74280_3521135 29 with 2622 coordinates\n",
      "INFO:chromatin_model.loaders.gnome:Loading model chr1_74280_3521135 28\n",
      "INFO:chromatin_model.loaders.gnome:Loaded model chr1_74280_3521135 57 with 2622 coordinates\n",
      "INFO:chromatin_model.loaders.gnome:Loaded model chr1_74280_3521135 0 with 2622 coordinates\n",
      "INFO:chromatin_model.loaders.gnome:Loaded model chr1_74280_3521135 42 with 2622 coordinates\n",
      "INFO:chromatin_model.loaders.gnome:Loading model chr1_74280_3521135 59\n",
      "INFO:chromatin_model.loaders.gnome:Loaded model chr1_74280_3521135 33 with 2622 coordinates\n",
      "INFO:chromatin_model.loaders.gnome:Loaded model chr1_74280_3521135 26 with 2622 coordinates\n",
      "INFO:chromatin_model.loaders.gnome:Loaded model chr1_74280_3521135 9 with 2622 coordinates\n",
      "INFO:chromatin_model.loaders.gnome:Loaded model chr1_74280_3521135 8 with 2622 coordinates\n",
      "INFO:chromatin_model.loaders.gnome:Loaded model chr1_74280_3521135 1 with 2622 coordinates\n",
      "INFO:chromatin_model.loaders.gnome:Loaded model chr1_74280_3521135 56 with 2622 coordinates\n",
      "INFO:chromatin_model.loaders.gnome:Loaded model chr1_74280_3521135 43 with 2622 coordinates\n",
      "INFO:chromatin_model.loaders.gnome:Loading model chr1_74280_3521135 6\n",
      "INFO:chromatin_model.loaders.gnome:Loaded model chr1_74280_3521135 27 with 2622 coordinates\n",
      "INFO:chromatin_model.loaders.gnome:Loading model chr1_74280_3521135 51\n",
      "INFO:chromatin_model.loaders.gnome:Loading model chr1_74280_3521135 44\n",
      "INFO:chromatin_model.loaders.gnome:Loaded model chr1_74280_3521135 32 with 2622 coordinates\n",
      "INFO:chromatin_model.loaders.gnome:Loading model chr1_74280_3521135 35\n",
      "INFO:chromatin_model.loaders.gnome:Loading model chr1_74280_3521135 20\n",
      "INFO:chromatin_model.loaders.gnome:Loaded model chr1_74280_3521135 28 with 2622 coordinates\n",
      "INFO:chromatin_model.loaders.gnome:Loaded model chr1_74280_3521135 59 with 2622 coordinates\n",
      "INFO:chromatin_model.loaders.gnome:Loaded model chr1_74280_3521135 6 with 2622 coordinates\n",
      "INFO:chromatin_model.loaders.gnome:Loaded model chr1_74280_3521135 51 with 2622 coordinates\n",
      "INFO:chromatin_model.loaders.gnome:Loaded model chr1_74280_3521135 44 with 2622 coordinates\n",
      "INFO:chromatin_model.loaders.gnome:Loaded model chr1_74280_3521135 35 with 2622 coordinates\n",
      "INFO:chromatin_model.loaders.gnome:Loaded model chr1_74280_3521135 20 with 2622 coordinates\n",
      "INFO:chromatin_model.loaders.gnome:Loaded ensemble results_GM12878_Deni_chr1_74280_3521135 with 100 models\n"
     ]
    }
   ],
   "execution_count": 2
  },
  {
   "metadata": {
    "ExecuteTime": {
     "end_time": "2024-12-26T12:05:40.231528Z",
     "start_time": "2024-12-26T12:05:40.225862Z"
    }
   },
   "cell_type": "code",
   "source": "model.coordinates_stack.shape",
   "id": "fc4454a394b5a325",
   "outputs": [
    {
     "data": {
      "text/plain": [
       "(100, 2622, 3)"
      ]
     },
     "execution_count": 3,
     "metadata": {},
     "output_type": "execute_result"
    }
   ],
   "execution_count": 3
  },
  {
   "metadata": {
    "ExecuteTime": {
     "end_time": "2024-12-26T12:05:50.955762Z",
     "start_time": "2024-12-26T12:05:50.952732Z"
    }
   },
   "cell_type": "code",
   "source": "model.first_bin, model.last_bin, model.resolution",
   "id": "438b2262bca75ce2",
   "outputs": [
    {
     "data": {
      "text/plain": [
       "(869594, 3490594, 1000)"
      ]
     },
     "execution_count": 4,
     "metadata": {},
     "output_type": "execute_result"
    }
   ],
   "execution_count": 4
  },
  {
   "metadata": {
    "ExecuteTime": {
     "end_time": "2024-12-26T12:06:02.873766Z",
     "start_time": "2024-12-26T12:06:02.828606Z"
    }
   },
   "cell_type": "code",
   "source": "pack_chromatin_model_ensemble_to_filesystem(os.path.abspath('../data/packed'), model)",
   "id": "aaf3655d06352a64",
   "outputs": [],
   "execution_count": 5
  },
  {
   "metadata": {
    "ExecuteTime": {
     "end_time": "2024-12-26T12:39:58.507008Z",
     "start_time": "2024-12-26T12:39:58.486962Z"
    }
   },
   "cell_type": "code",
   "source": [
    "model = load_chromatin_model_ensemble_from_filesystem(\n",
    "    os.path.abspath('../data/packed'),\n",
    "    model_name='results_GM12878_Deni_chr1_74280_3521135'\n",
    ")"
   ],
   "id": "b6d7c9e22a220a2",
   "outputs": [],
   "execution_count": 10
  },
  {
   "metadata": {
    "ExecuteTime": {
     "end_time": "2024-12-26T12:41:16.176258Z",
     "start_time": "2024-12-26T12:41:16.173011Z"
    }
   },
   "cell_type": "code",
   "source": "model.coordinates_stack.shape",
   "id": "67d1176664e108bd",
   "outputs": [
    {
     "data": {
      "text/plain": [
       "(100, 2622, 3)"
      ]
     },
     "execution_count": 21,
     "metadata": {},
     "output_type": "execute_result"
    }
   ],
   "execution_count": 21
  },
  {
   "metadata": {
    "ExecuteTime": {
     "end_time": "2024-12-26T12:06:10.569787Z",
     "start_time": "2024-12-26T12:06:10.566668Z"
    }
   },
   "cell_type": "code",
   "source": "model.first_bin, model.last_bin, model.resolution",
   "id": "831485817591a8ce",
   "outputs": [
    {
     "data": {
      "text/plain": [
       "(869594, 3490594, 1000)"
      ]
     },
     "execution_count": 8,
     "metadata": {},
     "output_type": "execute_result"
    }
   ],
   "execution_count": 8
  }
 ],
 "metadata": {
  "kernelspec": {
   "name": "python3",
   "language": "python",
   "display_name": "Python 3 (ipykernel)"
  }
 },
 "nbformat": 5,
 "nbformat_minor": 9
}
