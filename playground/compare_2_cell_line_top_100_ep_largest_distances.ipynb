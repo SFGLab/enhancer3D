{
 "cells": [
  {
   "cell_type": "code",
   "execution_count": 1,
   "id": "ca7516a6-f58e-46af-bb7c-b2295fb1a4f9",
   "metadata": {
    "ExecuteTime": {
     "end_time": "2025-04-07T20:22:15.536868Z",
     "start_time": "2025-04-07T20:22:02.955449Z"
    }
   },
   "outputs": [
    {
     "data": {
      "text/html": [
       "Current session configs: <tt>{'conf': {'spark.sql.catalog.spark_catalog.type': 'hive'}, 'driverMemory': '4G', 'driverCores': 2, 'executorMemory': '12G', 'executorCores': 6, 'numExecutors': 3, 'kind': 'pyspark'}</tt><br>"
      ],
      "text/plain": [
       "<IPython.core.display.HTML object>"
      ]
     },
     "metadata": {},
     "output_type": "display_data"
    },
    {
     "data": {
      "text/html": [
       "<table>\n",
       "<tr><th>ID</th><th>YARN Application ID</th><th>Kind</th><th>State</th><th>Spark UI</th><th>Driver log</th><th>User</th><th>Current session?</th></tr><tr><td>0</td><td>None</td><td>pyspark</td><td>idle</td><td></td><td></td><td>None</td><td></td></tr></table>"
      ],
      "text/plain": [
       "<IPython.core.display.HTML object>"
      ]
     },
     "metadata": {},
     "output_type": "display_data"
    }
   ],
   "source": [
    "%%configure -f\n",
    "{\"driverMemory\": \"4G\", \"driverCores\": 2, \"executorMemory\": \"12G\", \"executorCores\": 6, \"numExecutors\": 3}"
   ]
  },
  {
   "cell_type": "code",
   "execution_count": 2,
   "id": "1427e3d0-391b-4fc9-840d-e2965ac23dc1",
   "metadata": {
    "ExecuteTime": {
     "end_time": "2025-04-07T20:23:25.056124Z",
     "start_time": "2025-04-07T20:22:19.648304Z"
    }
   },
   "outputs": [
    {
     "name": "stdout",
     "output_type": "stream",
     "text": [
      "Starting Spark application\n"
     ]
    },
    {
     "data": {
      "text/html": [
       "<table>\n",
       "<tr><th>ID</th><th>YARN Application ID</th><th>Kind</th><th>State</th><th>Spark UI</th><th>Driver log</th><th>User</th><th>Current session?</th></tr><tr><td>1</td><td>None</td><td>pyspark</td><td>idle</td><td></td><td></td><td>None</td><td>✔</td></tr></table>"
      ],
      "text/plain": [
       "<IPython.core.display.HTML object>"
      ]
     },
     "metadata": {},
     "output_type": "display_data"
    },
    {
     "data": {
      "application/vnd.jupyter.widget-view+json": {
       "model_id": "",
       "version_major": 2,
       "version_minor": 0
      },
      "text/plain": [
       "FloatProgress(value=0.0, bar_style='info', description='Progress:', layout=Layout(height='25px', width='50%'),…"
      ]
     },
     "metadata": {},
     "output_type": "display_data"
    },
    {
     "name": "stdout",
     "output_type": "stream",
     "text": [
      "SparkSession available as 'spark'.\n"
     ]
    },
    {
     "data": {
      "application/vnd.jupyter.widget-view+json": {
       "model_id": "",
       "version_major": 2,
       "version_minor": 0
      },
      "text/plain": [
       "FloatProgress(value=0.0, bar_style='info', description='Progress:', layout=Layout(height='25px', width='50%'),…"
      ]
     },
     "metadata": {},
     "output_type": "display_data"
    }
   ],
   "source": [
    "from typing import List\n",
    "\n",
    "from pyspark import SparkFiles\n",
    "from subprocess import call\n",
    "import sys\n",
    "\n",
    "\n",
    "def install_deps(deps: List[str]) -> None:\n",
    "    call([sys.executable, '-m', 'pip', 'install', '-q', '-t', SparkFiles.getRootDirectory(), *deps])\n",
    "\n",
    "\n",
    "install_deps(['numpy', 'matplotlib', 'pandas', 'scipy', 'seaborn'])"
   ]
  },
  {
   "cell_type": "code",
   "execution_count": 4,
   "id": "0335c8c3-3c15-4feb-a650-853cb569cf48",
   "metadata": {
    "ExecuteTime": {
     "end_time": "2025-04-07T20:40:20.614643Z",
     "start_time": "2025-04-07T20:40:20.383110Z"
    }
   },
   "outputs": [
    {
     "data": {
      "application/vnd.jupyter.widget-view+json": {
       "model_id": "",
       "version_major": 2,
       "version_minor": 0
      },
      "text/plain": [
       "FloatProgress(value=0.0, bar_style='info', description='Progress:', layout=Layout(height='25px', width='50%'),…"
      ]
     },
     "metadata": {},
     "output_type": "display_data"
    }
   ],
   "source": [
    "from pyspark.sql import SparkSession\n",
    "spark: SparkSession\n",
    "\n",
    "distance_calculation_df = (\n",
    "    spark\n",
    "    .read\n",
    "    .format(\"mongodb\")\n",
    "    .option(\"database\", \"enhancer3d\")\n",
    "    .option(\"collection\", \"distance_calculation\")\n",
    "    .load()\n",
    ")"
   ]
  },
  {
   "cell_type": "code",
   "execution_count": 5,
   "id": "4669bc1c-0f76-42ae-aa74-ded067893838",
   "metadata": {
    "ExecuteTime": {
     "end_time": "2025-04-07T20:40:23.788365Z",
     "start_time": "2025-04-07T20:40:23.560317Z"
    }
   },
   "outputs": [
    {
     "data": {
      "application/vnd.jupyter.widget-view+json": {
       "model_id": "",
       "version_major": 2,
       "version_minor": 0
      },
      "text/plain": [
       "FloatProgress(value=0.0, bar_style='info', description='Progress:', layout=Layout(height='25px', width='50%'),…"
      ]
     },
     "metadata": {},
     "output_type": "display_data"
    }
   ],
   "source": [
    "from pyspark.sql import functions as F, types as T\n",
    "import numpy as np\n",
    "\n",
    "@F.udf(T.ArrayType(T.DoubleType()))\n",
    "def diff(A, B):\n",
    "    return np.abs(np.array(A) - np.array(B)).tolist()\n",
    "\n",
    "@F.udf(T.DoubleType())\n",
    "def var(A):\n",
    "    return float(np.var(A))\n",
    "\n",
    "@F.udf(T.DoubleType())\n",
    "def avg(A):\n",
    "    return float(np.mean(A))"
   ]
  },
  {
   "cell_type": "code",
   "execution_count": 8,
   "id": "f2345c86-c964-488c-aa83-d458bffc55eb",
   "metadata": {
    "ExecuteTime": {
     "end_time": "2025-04-07T20:40:37.661392Z",
     "start_time": "2025-04-07T20:40:37.426774Z"
    }
   },
   "outputs": [
    {
     "data": {
      "application/vnd.jupyter.widget-view+json": {
       "model_id": "",
       "version_major": 2,
       "version_minor": 0
      },
      "text/plain": [
       "FloatProgress(value=0.0, bar_style='info', description='Progress:', layout=Layout(height='25px', width='50%'),…"
      ]
     },
     "metadata": {},
     "output_type": "display_data"
    }
   ],
   "source": [
    "gm12878_neanderthal_df_ref = (\n",
    "    distance_calculation_df\n",
    "    .where(\n",
    "        (F.col('_id.project_id') == '8k_models_project_GM12878')\n",
    "        & (F.col('_id.ensemble_id').startswith('models3D_GM12878_Nean_models3D_GM12878_Nean_results'))\n",
    "        & (F.col('gene_type') == 'protein_coding')\n",
    "    )\n",
    ")\n",
    "\n",
    "gm12878_denisovan_df_ref = (\n",
    "    distance_calculation_df\n",
    "    .where(\n",
    "        (F.col('_id.project_id') == '8k_models_project_GM12878')\n",
    "        & (F.col('_id.ensemble_id').startswith('models3D_GM12878_Deni_models3D_GM12878_Deni_results'))\n",
    "        & (F.col('gene_type') == 'protein_coding')\n",
    "    )\n",
    ")\n",
    "\n",
    "hffc6_neanderthal_df_ref = (\n",
    "    distance_calculation_df\n",
    "    .where(\n",
    "        (F.col('_id.project_id') == '8k_models_project_HFFC6')\n",
    "        & (F.col('_id.ensemble_id').startswith('models3D_HFFC6_Nean_models3D_HFFC6_Nean_results'))\n",
    "        & (F.col('gene_type') == 'protein_coding')\n",
    "    )\n",
    ")\n",
    "\n",
    "hffc6_denisovan_df_ref = (\n",
    "    distance_calculation_df\n",
    "    .where(\n",
    "        (F.col('_id.project_id') == '8k_models_project_HFFC6')\n",
    "        & (F.col('_id.ensemble_id').startswith('models3D_HFFC6_Deni_models3D_HFFC6_Deni_results'))\n",
    "        & (F.col('gene_type') == 'protein_coding')\n",
    "    )\n",
    ")"
   ]
  },
  {
   "cell_type": "code",
   "execution_count": 9,
   "id": "75b9103b-8083-472f-b1e0-1eb286c00670",
   "metadata": {
    "ExecuteTime": {
     "end_time": "2025-04-07T20:40:56.413428Z",
     "start_time": "2025-04-07T20:40:39.138235Z"
    }
   },
   "outputs": [
    {
     "data": {
      "application/vnd.jupyter.widget-view+json": {
       "model_id": "",
       "version_major": 2,
       "version_minor": 0
      },
      "text/plain": [
       "FloatProgress(value=0.0, bar_style='info', description='Progress:', layout=Layout(height='25px', width='50%'),…"
      ]
     },
     "metadata": {},
     "output_type": "display_data"
    },
    {
     "data": {
      "text/html": [
       "<table><tr><th><pre style=\"word-break: unset; background-color: unset;\">_id</pre></th><th><pre style=\"word-break: unset; background-color: unset;\">avg_dist</pre></th><th><pre style=\"word-break: unset; background-color: unset;\">dist</pre></th><th><pre style=\"word-break: unset; background-color: unset;\">enh_center_pos</pre></th><th><pre style=\"word-break: unset; background-color: unset;\">enh_center_position</pre></th><th><pre style=\"word-break: unset; background-color: unset;\">enh_chr</pre></th><th><pre style=\"word-break: unset; background-color: unset;\">enh_end</pre></th><th><pre style=\"word-break: unset; background-color: unset;\">enh_loci</pre></th><th><pre style=\"word-break: unset; background-color: unset;\">enh_model_coloring_end</pre></th><th><pre style=\"word-break: unset; background-color: unset;\">enh_model_coloring_start</pre></th><th><pre style=\"word-break: unset; background-color: unset;\">enh_model_position</pre></th><th><pre style=\"word-break: unset; background-color: unset;\">enh_score</pre></th><th><pre style=\"word-break: unset; background-color: unset;\">enh_start</pre></th><th><pre style=\"word-break: unset; background-color: unset;\">enh_tSS_distance</pre></th><th><pre style=\"word-break: unset; background-color: unset;\">gene_TSS_pos</pre></th><th><pre style=\"word-break: unset; background-color: unset;\">gene_chr</pre></th><th><pre style=\"word-break: unset; background-color: unset;\">gene_end</pre></th><th><pre style=\"word-break: unset; background-color: unset;\">gene_model_coloring_end</pre></th><th><pre style=\"word-break: unset; background-color: unset;\">gene_model_coloring_start</pre></th><th><pre style=\"word-break: unset; background-color: unset;\">gene_model_position</pre></th><th><pre style=\"word-break: unset; background-color: unset;\">gene_start</pre></th><th><pre style=\"word-break: unset; background-color: unset;\">gene_strand</pre></th><th><pre style=\"word-break: unset; background-color: unset;\">gene_type</pre></th><th><pre style=\"word-break: unset; background-color: unset;\">number_bins</pre></th><th><pre style=\"word-break: unset; background-color: unset;\">project_author</pre></th><th><pre style=\"word-break: unset; background-color: unset;\">project_authors</pre></th><th><pre style=\"word-break: unset; background-color: unset;\">project_cell_line</pre></th><th><pre style=\"word-break: unset; background-color: unset;\">project_cell_lines</pre></th><th><pre style=\"word-break: unset; background-color: unset;\">project_executed_at</pre></th><th><pre style=\"word-break: unset; background-color: unset;\">project_species</pre></th><th><pre style=\"word-break: unset; background-color: unset;\">region_chr</pre></th><th><pre style=\"word-break: unset; background-color: unset;\">region_end</pre></th><th><pre style=\"word-break: unset; background-color: unset;\">region_start</pre></th><th><pre style=\"word-break: unset; background-color: unset;\">var_dist</pre></th></tr><tr><td><pre style=\"word-break: unset; background-color: unset;\">{8k_models_projec...</pre></td><td><pre style=\"word-break: unset; background-color: unset;\">10.029472351074219</pre></td><td><pre style=\"word-break: unset; background-color: unset;\">[10.3883590698242...</pre></td><td><pre style=\"word-break: unset; background-color: unset;\">10855122</pre></td><td><pre style=\"word-break: unset; background-color: unset;\">10855122</pre></td><td><pre style=\"word-break: unset; background-color: unset;\">chr10</pre></td><td><pre style=\"word-break: unset; background-color: unset;\">10855497</pre></td><td><pre style=\"word-break: unset; background-color: unset;\">chr10:10854747-10...</pre></td><td><pre style=\"word-break: unset; background-color: unset;\">178</pre></td><td><pre style=\"word-break: unset; background-color: unset;\">178</pre></td><td><pre style=\"word-break: unset; background-color: unset;\">178</pre></td><td><pre style=\"word-break: unset; background-color: unset;\">8.12594160720854</pre></td><td><pre style=\"word-break: unset; background-color: unset;\">10854747</pre></td><td><pre style=\"word-break: unset; background-color: unset;\">56726</pre></td><td><pre style=\"word-break: unset; background-color: unset;\">10798396</pre></td><td><pre style=\"word-break: unset; background-color: unset;\">chr10</pre></td><td><pre style=\"word-break: unset; background-color: unset;\">11336675</pre></td><td><pre style=\"word-break: unset; background-color: unset;\">660</pre></td><td><pre style=\"word-break: unset; background-color: unset;\">121</pre></td><td><pre style=\"word-break: unset; background-color: unset;\">121</pre></td><td><pre style=\"word-break: unset; background-color: unset;\">10798396</pre></td><td><pre style=\"word-break: unset; background-color: unset;\">+</pre></td><td><pre style=\"word-break: unset; background-color: unset;\">protein_coding</pre></td><td><pre style=\"word-break: unset; background-color: unset;\">100</pre></td><td><pre style=\"word-break: unset; background-color: unset;\">NULL</pre></td><td><pre style=\"word-break: unset; background-color: unset;\">[Nikita Kozlov, M...</pre></td><td><pre style=\"word-break: unset; background-color: unset;\">NULL</pre></td><td><pre style=\"word-break: unset; background-color: unset;\">[GM12878]</pre></td><td><pre style=\"word-break: unset; background-color: unset;\">2025-04-10 10:41:...</pre></td><td><pre style=\"word-break: unset; background-color: unset;\">[Denisovans, Nean...</pre></td><td><pre style=\"word-break: unset; background-color: unset;\">chr10</pre></td><td><pre style=\"word-break: unset; background-color: unset;\">12302793</pre></td><td><pre style=\"word-break: unset; background-color: unset;\">10300866</pre></td><td><pre style=\"word-break: unset; background-color: unset;\">0.1118004098534584</pre></td></tr></table><br /><pre>only showing top 1 row</pre>"
      ],
      "text/plain": [
       "<IPython.core.display.HTML object>"
      ]
     },
     "metadata": {},
     "output_type": "display_data"
    }
   ],
   "source": [
    "%%pretty\n",
    "gm12878_neanderthal_df_ref.show(n=1)"
   ]
  },
  {
   "cell_type": "code",
   "execution_count": 10,
   "id": "81ac4652691812cd",
   "metadata": {
    "ExecuteTime": {
     "end_time": "2025-04-07T20:53:21.305266Z",
     "start_time": "2025-04-07T20:53:20.566272Z"
    }
   },
   "outputs": [
    {
     "data": {
      "application/vnd.jupyter.widget-view+json": {
       "model_id": "",
       "version_major": 2,
       "version_minor": 0
      },
      "text/plain": [
       "FloatProgress(value=0.0, bar_style='info', description='Progress:', layout=Layout(height='25px', width='50%'),…"
      ]
     },
     "metadata": {},
     "output_type": "display_data"
    }
   ],
   "source": [
    "gm12878_neanderthal_genes_with_average_distance_df = (\n",
    "    gm12878_neanderthal_df_ref\n",
    "    .select(\n",
    "        F.col('_id.region_id').alias('region_id'),\n",
    "        F.col('_id.gene_id').alias('gene_id'),\n",
    "        F.col('_id.enh_id').alias('enh_id'),\n",
    "        'avg_dist'\n",
    "    )\n",
    "    .groupBy('gene_id')\n",
    "    .agg(\n",
    "        F.avg('avg_dist').alias('avg_dist_per_gene')\n",
    "    )\n",
    "    .orderBy(F.desc('avg_dist_per_gene'))\n",
    "    .alias(\"gm12878\")\n",
    ")\n",
    "\n",
    "hffc6_neanderthal_genes_with_average_distance_df = (\n",
    "    hffc6_neanderthal_df_ref\n",
    "    .select(\n",
    "        F.col('_id.region_id').alias('region_id'),\n",
    "        F.col('_id.gene_id').alias('gene_id'),\n",
    "        F.col('_id.enh_id').alias('enh_id'),\n",
    "        'avg_dist'\n",
    "    )\n",
    "    .groupBy('gene_id')\n",
    "    .agg(\n",
    "        F.avg('avg_dist').alias('avg_dist_per_gene')\n",
    "    )\n",
    "    .orderBy(F.desc('avg_dist_per_gene'))\n",
    "    .alias(\"hffc6\")\n",
    ")\n",
    "\n",
    "gm12878_hffc6_neanderthal_genes_with_biggest_distance_difference_df = (\n",
    "    gm12878_neanderthal_genes_with_average_distance_df\n",
    "    .join(\n",
    "        hffc6_neanderthal_genes_with_average_distance_df,\n",
    "        on=['gene_id'],\n",
    "        how='inner'\n",
    "    )\n",
    "    .select(\n",
    "        'gene_id',\n",
    "        F.col('gm12878.avg_dist_per_gene').alias('dist_diff_avg_gm12878'),\n",
    "        F.col('hffc6.avg_dist_per_gene').alias('dist_diff_avg_hffc6'),\n",
    "        F.abs((F.col('gm12878.avg_dist_per_gene') - F.col('hffc6.avg_dist_per_gene'))).alias('dist_diff_avg'),\n",
    "    )\n",
    "    .orderBy(F.desc('dist_diff_avg'))\n",
    "    # .limit(100)\n",
    ")\n",
    "\n",
    "gm12878_denisovan_genes_with_average_distance_df = (\n",
    "    gm12878_denisovan_df_ref\n",
    "    .select(\n",
    "        F.col('_id.region_id').alias('region_id'),\n",
    "        F.col('_id.gene_id').alias('gene_id'),\n",
    "        F.col('_id.enh_id').alias('enh_id'),\n",
    "        'avg_dist'\n",
    "    )\n",
    "    .groupBy('gene_id')\n",
    "    .agg(\n",
    "        F.avg('avg_dist').alias('avg_dist_per_gene')\n",
    "    )\n",
    "    .orderBy(F.desc('avg_dist_per_gene'))\n",
    "    .alias(\"gm12878\")\n",
    ")\n",
    "\n",
    "hffc6_denisovan_genes_with_average_distance_df = (\n",
    "    hffc6_denisovan_df_ref\n",
    "    .select(\n",
    "        F.col('_id.region_id').alias('region_id'),\n",
    "        F.col('_id.gene_id').alias('gene_id'),\n",
    "        F.col('_id.enh_id').alias('enh_id'),\n",
    "        'avg_dist'\n",
    "    )\n",
    "    .groupBy('gene_id')\n",
    "    .agg(\n",
    "        F.avg('avg_dist').alias('avg_dist_per_gene')\n",
    "    )\n",
    "    .orderBy(F.desc('avg_dist_per_gene'))\n",
    "    .alias(\"hffc6\")\n",
    ")\n",
    "\n",
    "gm12878_hffc6_denisovan_genes_with_biggest_distance_difference_df = (\n",
    "    gm12878_denisovan_genes_with_average_distance_df\n",
    "    .join(\n",
    "        hffc6_denisovan_genes_with_average_distance_df,\n",
    "        on=['gene_id'],\n",
    "        how='inner'\n",
    "    )\n",
    "    .select(\n",
    "        'gene_id',\n",
    "        F.col('gm12878.avg_dist_per_gene').alias('dist_diff_avg_gm12878'),\n",
    "        F.col('hffc6.avg_dist_per_gene').alias('dist_diff_avg_hffc6'),\n",
    "        F.abs((F.col('gm12878.avg_dist_per_gene') - F.col('hffc6.avg_dist_per_gene'))).alias('dist_diff_avg'),\n",
    "    )\n",
    "    .orderBy(F.desc('dist_diff_avg'))\n",
    "    # .limit(100)\n",
    ")"
   ]
  },
  {
   "cell_type": "code",
   "execution_count": 26,
   "id": "2f535bc81ff06a6e",
   "metadata": {
    "ExecuteTime": {
     "end_time": "2025-04-07T20:47:33.356394Z",
     "start_time": "2025-04-07T20:45:53.890715Z"
    }
   },
   "outputs": [
    {
     "data": {
      "application/vnd.jupyter.widget-view+json": {
       "model_id": "2b4f3d946f704137ab810bf552078f9e",
       "version_major": 2,
       "version_minor": 0
      },
      "text/plain": [
       "FloatProgress(value=0.0, bar_style='info', description='Progress:', layout=Layout(height='25px', width='50%'),…"
      ]
     },
     "metadata": {},
     "output_type": "display_data"
    },
    {
     "data": {
      "text/html": [
       "<table><tr><th><pre style=\"word-break: unset; background-color: unset;\">gene_id</pre></th><th><pre style=\"word-break: unset; background-color: unset;\">dist_diff_avg_gm12878</pre></th><th><pre style=\"word-break: unset; background-color: unset;\">dist_diff_avg_hffc6</pre></th><th><pre style=\"word-break: unset; background-color: unset;\">dist_diff_avg</pre></th></tr><tr><td><pre style=\"word-break: unset; background-color: unset;\">ENSG00000227445.1</pre></td><td><pre style=\"word-break: unset; background-color: unset;\">4.844081688900383</pre></td><td><pre style=\"word-break: unset; background-color: unset;\">38.903955049152614</pre></td><td><pre style=\"word-break: unset; background-color: unset;\">34.05987336025223</pre></td></tr><tr><td><pre style=\"word-break: unset; background-color: unset;\">ENSG00000198703.2</pre></td><td><pre style=\"word-break: unset; background-color: unset;\">4.274681260391158</pre></td><td><pre style=\"word-break: unset; background-color: unset;\">37.540769070009645</pre></td><td><pre style=\"word-break: unset; background-color: unset;\">33.26608780961849</pre></td></tr><tr><td><pre style=\"word-break: unset; background-color: unset;\">ENSG00000236656.1</pre></td><td><pre style=\"word-break: unset; background-color: unset;\">4.537461128770088</pre></td><td><pre style=\"word-break: unset; background-color: unset;\">37.778180472458466</pre></td><td><pre style=\"word-break: unset; background-color: unset;\">33.240719343688376</pre></td></tr><tr><td><pre style=\"word-break: unset; background-color: unset;\">ENSG00000130558.20</pre></td><td><pre style=\"word-break: unset; background-color: unset;\">6.204862315576155</pre></td><td><pre style=\"word-break: unset; background-color: unset;\">39.31081470366447</pre></td><td><pre style=\"word-break: unset; background-color: unset;\">33.10595238808831</pre></td></tr><tr><td><pre style=\"word-break: unset; background-color: unset;\">ENSG00000169717.7</pre></td><td><pre style=\"word-break: unset; background-color: unset;\">6.218723866427056</pre></td><td><pre style=\"word-break: unset; background-color: unset;\">39.23214709069118</pre></td><td><pre style=\"word-break: unset; background-color: unset;\">33.01342322426412</pre></td></tr></table><br /><pre>only showing top 5 rows</pre>"
      ],
      "text/plain": [
       "<IPython.core.display.HTML object>"
      ]
     },
     "metadata": {},
     "output_type": "display_data"
    }
   ],
   "source": [
    "%%pretty\n",
    "gm12878_hffc6_neanderthal_genes_with_biggest_distance_difference_df.show(n=5)"
   ]
  },
  {
   "cell_type": "code",
   "execution_count": 11,
   "id": "61608e18a8b773cd",
   "metadata": {
    "ExecuteTime": {
     "end_time": "2025-04-07T20:57:42.917862Z",
     "start_time": "2025-04-07T20:53:49.215053Z"
    }
   },
   "outputs": [
    {
     "data": {
      "application/vnd.jupyter.widget-view+json": {
       "model_id": "",
       "version_major": 2,
       "version_minor": 0
      },
      "text/plain": [
       "FloatProgress(value=0.0, bar_style='info', description='Progress:', layout=Layout(height='25px', width='50%'),…"
      ]
     },
     "metadata": {},
     "output_type": "display_data"
    }
   ],
   "source": [
    "# to pandas and plot\n",
    "import pandas as pd\n",
    "\n",
    "gm12878_hffc6_neanderthal_genes_with_biggest_distance_difference_df_pd = (\n",
    "    gm12878_hffc6_neanderthal_genes_with_biggest_distance_difference_df\n",
    "    .toPandas()\n",
    ")\n",
    "\n",
    "# save the dataframe to a csv file\n",
    "gm12878_hffc6_neanderthal_genes_with_biggest_distance_difference_df_pd.to_csv(\n",
    "    '/work/playground/gm12878_hffc6_neanderthal_genes_with_biggest_distance_difference_df.csv',\n",
    "    index=False\n",
    ")\n",
    "\n",
    "gm12878_hffc6_denisovan_genes_with_biggest_distance_difference_df_pd = (\n",
    "    gm12878_hffc6_denisovan_genes_with_biggest_distance_difference_df\n",
    "    .toPandas()\n",
    ")\n",
    "\n",
    "# save the dataframe to a csv file\n",
    "gm12878_hffc6_denisovan_genes_with_biggest_distance_difference_df_pd.to_csv(\n",
    "    '/work/playground/gm12878_hffc6_denisovan_genes_with_biggest_distance_difference_df.csv',\n",
    "    index=False\n",
    ")"
   ]
  }
 ],
 "metadata": {
  "kernelspec": {
   "display_name": "PySpark",
   "language": "python",
   "name": "pysparkkernel"
  },
  "language_info": {
   "codemirror_mode": {
    "name": "python",
    "version": 3
   },
   "file_extension": ".py",
   "mimetype": "text/x-python",
   "name": "pyspark",
   "pygments_lexer": "python3"
  }
 },
 "nbformat": 4,
 "nbformat_minor": 5
}
