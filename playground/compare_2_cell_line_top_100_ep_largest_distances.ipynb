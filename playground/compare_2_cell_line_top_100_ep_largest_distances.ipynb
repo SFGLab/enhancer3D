{
 "cells": [
  {
   "cell_type": "code",
   "execution_count": 1,
   "id": "ca7516a6-f58e-46af-bb7c-b2295fb1a4f9",
   "metadata": {},
   "outputs": [
    {
     "data": {
      "text/html": [
       "Current session configs: <tt>{'conf': {'spark.sql.catalog.spark_catalog.type': 'hive'}, 'executorMemory': '12G', 'executorCores': 6, 'kind': 'pyspark'}</tt><br>"
      ],
      "text/plain": [
       "<IPython.core.display.HTML object>"
      ]
     },
     "metadata": {},
     "output_type": "display_data"
    },
    {
     "data": {
      "text/html": [
       "No active sessions."
      ],
      "text/plain": [
       "<IPython.core.display.HTML object>"
      ]
     },
     "metadata": {},
     "output_type": "display_data"
    }
   ],
   "source": [
    "%%configure -f \n",
    "{\"executorMemory\": \"12G\", \"executorCores\": 6}"
   ]
  },
  {
   "cell_type": "code",
   "execution_count": 2,
   "id": "1427e3d0-391b-4fc9-840d-e2965ac23dc1",
   "metadata": {},
   "outputs": [
    {
     "name": "stdout",
     "output_type": "stream",
     "text": [
      "Starting Spark application\n"
     ]
    },
    {
     "data": {
      "text/html": [
       "<table>\n",
       "<tr><th>ID</th><th>YARN Application ID</th><th>Kind</th><th>State</th><th>Spark UI</th><th>Driver log</th><th>User</th><th>Current session?</th></tr><tr><td>6</td><td>None</td><td>pyspark</td><td>idle</td><td></td><td></td><td>None</td><td>✔</td></tr></table>"
      ],
      "text/plain": [
       "<IPython.core.display.HTML object>"
      ]
     },
     "metadata": {},
     "output_type": "display_data"
    },
    {
     "data": {
      "application/vnd.jupyter.widget-view+json": {
       "model_id": "",
       "version_major": 2,
       "version_minor": 0
      },
      "text/plain": [
       "FloatProgress(value=0.0, bar_style='info', description='Progress:', layout=Layout(height='25px', width='50%'),…"
      ]
     },
     "metadata": {},
     "output_type": "display_data"
    },
    {
     "name": "stdout",
     "output_type": "stream",
     "text": [
      "SparkSession available as 'spark'.\n"
     ]
    },
    {
     "data": {
      "application/vnd.jupyter.widget-view+json": {
       "model_id": "",
       "version_major": 2,
       "version_minor": 0
      },
      "text/plain": [
       "FloatProgress(value=0.0, bar_style='info', description='Progress:', layout=Layout(height='25px', width='50%'),…"
      ]
     },
     "metadata": {},
     "output_type": "display_data"
    }
   ],
   "source": [
    "from typing import List\n",
    "\n",
    "from pyspark import SparkFiles\n",
    "from subprocess import call\n",
    "import sys\n",
    "\n",
    "\n",
    "def install_deps(deps: List[str]) -> None:\n",
    "    call([sys.executable, '-m', 'pip', 'install', '-q', '-t', SparkFiles.getRootDirectory(), *deps])\n",
    "\n",
    "\n",
    "install_deps(['numpy', 'matplotlib', 'pandas', 'scipy'])"
   ]
  },
  {
   "cell_type": "code",
   "execution_count": 3,
   "id": "0335c8c3-3c15-4feb-a650-853cb569cf48",
   "metadata": {},
   "outputs": [
    {
     "data": {
      "application/vnd.jupyter.widget-view+json": {
       "model_id": "",
       "version_major": 2,
       "version_minor": 0
      },
      "text/plain": [
       "FloatProgress(value=0.0, bar_style='info', description='Progress:', layout=Layout(height='25px', width='50%'),…"
      ]
     },
     "metadata": {},
     "output_type": "display_data"
    }
   ],
   "source": [
    "distance_calculation_df = (\n",
    "    spark\n",
    "    .read\n",
    "    .format(\"mongodb\")\n",
    "    .option(\"database\", \"enhancer3d\")\n",
    "    .option(\"collection\", \"distance_calculation\")\n",
    "    .load()\n",
    ")"
   ]
  },
  {
   "cell_type": "code",
   "execution_count": 4,
   "id": "4669bc1c-0f76-42ae-aa74-ded067893838",
   "metadata": {},
   "outputs": [
    {
     "data": {
      "application/vnd.jupyter.widget-view+json": {
       "model_id": "",
       "version_major": 2,
       "version_minor": 0
      },
      "text/plain": [
       "FloatProgress(value=0.0, bar_style='info', description='Progress:', layout=Layout(height='25px', width='50%'),…"
      ]
     },
     "metadata": {},
     "output_type": "display_data"
    }
   ],
   "source": [
    "from pyspark.sql import functions as F, types as T\n",
    "import numpy as np\n",
    "\n",
    "@F.udf(T.ArrayType(T.DoubleType()))\n",
    "def diff(A, B):\n",
    "    return np.abs(np.array(A) - np.array(B)).tolist()\n",
    "\n",
    "@F.udf(T.DoubleType())\n",
    "def var(A):\n",
    "    return float(np.var(A))\n",
    "\n",
    "@F.udf(T.DoubleType())\n",
    "def avg(A):\n",
    "    return float(np.mean(A))"
   ]
  },
  {
   "cell_type": "code",
   "execution_count": 16,
   "id": "f2345c86-c964-488c-aa83-d458bffc55eb",
   "metadata": {},
   "outputs": [
    {
     "data": {
      "application/vnd.jupyter.widget-view+json": {
       "model_id": "",
       "version_major": 2,
       "version_minor": 0
      },
      "text/plain": [
       "FloatProgress(value=0.0, bar_style='info', description='Progress:', layout=Layout(height='25px', width='50%'),…"
      ]
     },
     "metadata": {},
     "output_type": "display_data"
    },
    {
     "name": "stderr",
     "output_type": "stream",
     "text": [
      "An error was encountered:\n",
      "DataFrame.filter() missing 1 required positional argument: 'condition'\n",
      "Traceback (most recent call last):\n",
      "TypeError: DataFrame.filter() missing 1 required positional argument: 'condition'\n",
      "\n"
     ]
    }
   ],
   "source": [
    "cell_line_1 = 'GM12878'\n",
    "cell_line_2 = 'HFFC6'\n",
    "species = 'Nean'\n",
    "\n",
    "gm12878_neanderthal_df = (\n",
    "    distance_calculation_df\n",
    "    .select('_id.*', '*')\n",
    "    .drop('_id')\n",
    "    .where('ensemble_id')\n",
    ")"
   ]
  },
  {
   "cell_type": "code",
   "execution_count": 15,
   "id": "75b9103b-8083-472f-b1e0-1eb286c00670",
   "metadata": {},
   "outputs": [
    {
     "data": {
      "application/vnd.jupyter.widget-view+json": {
       "model_id": "",
       "version_major": 2,
       "version_minor": 0
      },
      "text/plain": [
       "FloatProgress(value=0.0, bar_style='info', description='Progress:', layout=Layout(height='25px', width='50%'),…"
      ]
     },
     "metadata": {},
     "output_type": "display_data"
    },
    {
     "data": {
      "text/html": [
       "<table><tr><th><pre style=\"word-break: unset; background-color: unset;\">project_id</pre></th><th><pre style=\"word-break: unset; background-color: unset;\">ensemble_id</pre></th><th><pre style=\"word-break: unset; background-color: unset;\">region_id</pre></th><th><pre style=\"word-break: unset; background-color: unset;\">gene_id</pre></th><th><pre style=\"word-break: unset; background-color: unset;\">enh_id</pre></th><th><pre style=\"word-break: unset; background-color: unset;\">avg_dist</pre></th><th><pre style=\"word-break: unset; background-color: unset;\">dist</pre></th><th><pre style=\"word-break: unset; background-color: unset;\">enh_center_pos</pre></th><th><pre style=\"word-break: unset; background-color: unset;\">enh_center_position</pre></th><th><pre style=\"word-break: unset; background-color: unset;\">enh_chr</pre></th><th><pre style=\"word-break: unset; background-color: unset;\">enh_end</pre></th><th><pre style=\"word-break: unset; background-color: unset;\">enh_loci</pre></th><th><pre style=\"word-break: unset; background-color: unset;\">enh_model_coloring_end</pre></th><th><pre style=\"word-break: unset; background-color: unset;\">enh_model_coloring_start</pre></th><th><pre style=\"word-break: unset; background-color: unset;\">enh_model_position</pre></th><th><pre style=\"word-break: unset; background-color: unset;\">enh_score</pre></th><th><pre style=\"word-break: unset; background-color: unset;\">enh_start</pre></th><th><pre style=\"word-break: unset; background-color: unset;\">enh_tSS_distance</pre></th><th><pre style=\"word-break: unset; background-color: unset;\">gene_TSS_pos</pre></th><th><pre style=\"word-break: unset; background-color: unset;\">gene_chr</pre></th><th><pre style=\"word-break: unset; background-color: unset;\">gene_end</pre></th><th><pre style=\"word-break: unset; background-color: unset;\">gene_model_coloring_end</pre></th><th><pre style=\"word-break: unset; background-color: unset;\">gene_model_coloring_start</pre></th><th><pre style=\"word-break: unset; background-color: unset;\">gene_model_position</pre></th><th><pre style=\"word-break: unset; background-color: unset;\">gene_start</pre></th><th><pre style=\"word-break: unset; background-color: unset;\">gene_strand</pre></th><th><pre style=\"word-break: unset; background-color: unset;\">number_bins</pre></th><th><pre style=\"word-break: unset; background-color: unset;\">project_authors</pre></th><th><pre style=\"word-break: unset; background-color: unset;\">project_cell_lines</pre></th><th><pre style=\"word-break: unset; background-color: unset;\">project_executed_at</pre></th><th><pre style=\"word-break: unset; background-color: unset;\">project_species</pre></th><th><pre style=\"word-break: unset; background-color: unset;\">region_chr</pre></th><th><pre style=\"word-break: unset; background-color: unset;\">region_end</pre></th><th><pre style=\"word-break: unset; background-color: unset;\">region_start</pre></th><th><pre style=\"word-break: unset; background-color: unset;\">var_dist</pre></th></tr><tr><td><pre style=\"word-break: unset; background-color: unset;\">8k_models_project...</pre></td><td><pre style=\"word-break: unset; background-color: unset;\">models3D_GM12878_...</pre></td><td><pre style=\"word-break: unset; background-color: unset;\">chr10:10300866-12...</pre></td><td><pre style=\"word-break: unset; background-color: unset;\">ENSG00000065665.21</pre></td><td><pre style=\"word-break: unset; background-color: unset;\">chr10:10854747-10...</pre></td><td><pre style=\"word-break: unset; background-color: unset;\">32.353797912597656</pre></td><td><pre style=\"word-break: unset; background-color: unset;\">[41.3013191223144...</pre></td><td><pre style=\"word-break: unset; background-color: unset;\">10855122</pre></td><td><pre style=\"word-break: unset; background-color: unset;\">10855122</pre></td><td><pre style=\"word-break: unset; background-color: unset;\">chr10</pre></td><td><pre style=\"word-break: unset; background-color: unset;\">10855497</pre></td><td><pre style=\"word-break: unset; background-color: unset;\">chr10:10854747-10...</pre></td><td><pre style=\"word-break: unset; background-color: unset;\">178</pre></td><td><pre style=\"word-break: unset; background-color: unset;\">178</pre></td><td><pre style=\"word-break: unset; background-color: unset;\">178</pre></td><td><pre style=\"word-break: unset; background-color: unset;\">8.12594160720854</pre></td><td><pre style=\"word-break: unset; background-color: unset;\">10854747</pre></td><td><pre style=\"word-break: unset; background-color: unset;\">1276440</pre></td><td><pre style=\"word-break: unset; background-color: unset;\">12131562</pre></td><td><pre style=\"word-break: unset; background-color: unset;\">chr10</pre></td><td><pre style=\"word-break: unset; background-color: unset;\">12171887</pre></td><td><pre style=\"word-break: unset; background-color: unset;\">1495</pre></td><td><pre style=\"word-break: unset; background-color: unset;\">1454</pre></td><td><pre style=\"word-break: unset; background-color: unset;\">1454</pre></td><td><pre style=\"word-break: unset; background-color: unset;\">12131562</pre></td><td><pre style=\"word-break: unset; background-color: unset;\">+</pre></td><td><pre style=\"word-break: unset; background-color: unset;\">100</pre></td><td><pre style=\"word-break: unset; background-color: unset;\">[Nikita Kozlov, M...</pre></td><td><pre style=\"word-break: unset; background-color: unset;\">[GM12878]</pre></td><td><pre style=\"word-break: unset; background-color: unset;\">2025-04-06 18:27:...</pre></td><td><pre style=\"word-break: unset; background-color: unset;\">[Denisovans, Nean...</pre></td><td><pre style=\"word-break: unset; background-color: unset;\">chr10</pre></td><td><pre style=\"word-break: unset; background-color: unset;\">12302793</pre></td><td><pre style=\"word-break: unset; background-color: unset;\">10300866</pre></td><td><pre style=\"word-break: unset; background-color: unset;\">77.25293731689453</pre></td></tr></table><br /><pre>only showing top 1 row</pre>"
      ],
      "text/plain": [
       "<IPython.core.display.HTML object>"
      ]
     },
     "metadata": {},
     "output_type": "display_data"
    }
   ],
   "source": [
    "%%pretty\n",
    "gm12878_neanderthal_df.show(n=1)"
   ]
  }
 ],
 "metadata": {
  "kernelspec": {
   "display_name": "PySpark",
   "language": "python",
   "name": "pysparkkernel"
  },
  "language_info": {
   "codemirror_mode": {
    "name": "python",
    "version": 3
   },
   "file_extension": ".py",
   "mimetype": "text/x-python",
   "name": "pyspark",
   "pygments_lexer": "python3"
  }
 },
 "nbformat": 4,
 "nbformat_minor": 5
}
