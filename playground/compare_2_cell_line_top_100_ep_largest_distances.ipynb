{
 "cells": [
  {
   "cell_type": "code",
   "execution_count": 2,
   "id": "ca7516a6-f58e-46af-bb7c-b2295fb1a4f9",
   "metadata": {
    "ExecuteTime": {
     "end_time": "2025-05-12T22:33:41.137355Z",
     "start_time": "2025-05-12T22:33:30.441485Z"
    }
   },
   "outputs": [
    {
     "name": "stdout",
     "output_type": "stream",
     "text": [
      "Starting Spark application\n"
     ]
    },
    {
     "data": {
      "text/html": [
       "<table>\n",
       "<tr><th>ID</th><th>YARN Application ID</th><th>Kind</th><th>State</th><th>Spark UI</th><th>Driver log</th><th>User</th><th>Current session?</th></tr><tr><td>1</td><td>None</td><td>pyspark</td><td>idle</td><td></td><td></td><td>None</td><td>✔</td></tr></table>"
      ],
      "text/plain": [
       "<IPython.core.display.HTML object>"
      ]
     },
     "metadata": {},
     "output_type": "display_data"
    },
    {
     "data": {
      "application/vnd.jupyter.widget-view+json": {
       "model_id": "a04cc8a5e9904dc68912964c670a5f22",
       "version_major": 2,
       "version_minor": 0
      },
      "text/plain": [
       "FloatProgress(value=0.0, bar_style='info', description='Progress:', layout=Layout(height='25px', width='50%'),…"
      ]
     },
     "metadata": {},
     "output_type": "display_data"
    },
    {
     "name": "stdout",
     "output_type": "stream",
     "text": [
      "SparkSession available as 'spark'.\n"
     ]
    },
    {
     "data": {
      "text/html": [
       "Current session configs: <tt>{'conf': {'spark.sql.catalog.spark_catalog.type': 'hive'}, 'driverMemory': '4G', 'driverCores': 2, 'executorMemory': '12G', 'executorCores': 6, 'numExecutors': 3, 'kind': 'pyspark'}</tt><br>"
      ],
      "text/plain": [
       "<IPython.core.display.HTML object>"
      ]
     },
     "metadata": {},
     "output_type": "display_data"
    },
    {
     "data": {
      "text/html": [
       "<table>\n",
       "<tr><th>ID</th><th>YARN Application ID</th><th>Kind</th><th>State</th><th>Spark UI</th><th>Driver log</th><th>User</th><th>Current session?</th></tr><tr><td>1</td><td>None</td><td>pyspark</td><td>idle</td><td></td><td></td><td>None</td><td>✔</td></tr></table>"
      ],
      "text/plain": [
       "<IPython.core.display.HTML object>"
      ]
     },
     "metadata": {},
     "output_type": "display_data"
    }
   ],
   "source": [
    "%%configure -f\n",
    "{\"driverMemory\": \"4G\", \"driverCores\": 2, \"executorMemory\": \"12G\", \"executorCores\": 6, \"numExecutors\": 3}"
   ]
  },
  {
   "cell_type": "code",
   "execution_count": 3,
   "id": "1427e3d0-391b-4fc9-840d-e2965ac23dc1",
   "metadata": {
    "ExecuteTime": {
     "end_time": "2025-05-12T22:34:01.809664Z",
     "start_time": "2025-05-12T22:33:42.464024Z"
    }
   },
   "outputs": [
    {
     "data": {
      "application/vnd.jupyter.widget-view+json": {
       "model_id": "6f2ae64148e94f5aa9296018fbbc5c54",
       "version_major": 2,
       "version_minor": 0
      },
      "text/plain": [
       "FloatProgress(value=0.0, bar_style='info', description='Progress:', layout=Layout(height='25px', width='50%'),…"
      ]
     },
     "metadata": {},
     "output_type": "display_data"
    }
   ],
   "source": [
    "from typing import List\n",
    "\n",
    "from pyspark import SparkFiles\n",
    "from subprocess import call\n",
    "import sys\n",
    "\n",
    "\n",
    "def install_deps(deps: List[str]) -> None:\n",
    "    call([sys.executable, '-m', 'pip', 'install', '-q', '-t', SparkFiles.getRootDirectory(), *deps])\n",
    "\n",
    "\n",
    "install_deps(['numpy', 'matplotlib', 'pandas', 'scipy', 'seaborn'])"
   ]
  },
  {
   "cell_type": "code",
   "execution_count": 19,
   "id": "0335c8c3-3c15-4feb-a650-853cb569cf48",
   "metadata": {
    "ExecuteTime": {
     "end_time": "2025-05-12T22:50:05.717473Z",
     "start_time": "2025-05-12T22:50:03.462202Z"
    }
   },
   "outputs": [
    {
     "data": {
      "application/vnd.jupyter.widget-view+json": {
       "model_id": "c2bf0765513a4b4c9a7b414688a0da92",
       "version_major": 2,
       "version_minor": 0
      },
      "text/plain": [
       "FloatProgress(value=0.0, bar_style='info', description='Progress:', layout=Layout(height='25px', width='50%'),…"
      ]
     },
     "metadata": {},
     "output_type": "display_data"
    },
    {
     "name": "stdout",
     "output_type": "stream",
     "text": [
      "997"
     ]
    }
   ],
   "source": [
    "from pyspark.sql import SparkSession\n",
    "spark: SparkSession\n",
    "\n",
    "distance_calculation_df = (\n",
    "    spark\n",
    "    .read\n",
    "    .format(\"mongodb\")\n",
    "    .option(\"partitioner\", \"com.mongodb.spark.sql.connector.read.partitioner.SamplePartitioner\")\n",
    "    .option(\"partitioner.options.partition.field\", \"_id\")\n",
    "    .option(\"partitioner.options.partition.size\", \"64\")\n",
    "    .option(\"partitioner.options.samples.per.partition\", \"2\")\n",
    "    .option(\"database\", \"enhancer3d\")\n",
    "    .option(\"collection\", \"distance_calculation\")\n",
    "    .load()\n",
    ")\n",
    "\n",
    "distance_calculation_df.rdd.getNumPartitions()"
   ]
  },
  {
   "cell_type": "code",
   "execution_count": 20,
   "id": "4669bc1c-0f76-42ae-aa74-ded067893838",
   "metadata": {
    "ExecuteTime": {
     "end_time": "2025-05-12T22:51:38.581555Z",
     "start_time": "2025-05-12T22:51:38.550355Z"
    }
   },
   "outputs": [
    {
     "data": {
      "application/vnd.jupyter.widget-view+json": {
       "model_id": "1626261c58394c09a6ab25a3c2626da3",
       "version_major": 2,
       "version_minor": 0
      },
      "text/plain": [
       "FloatProgress(value=0.0, bar_style='info', description='Progress:', layout=Layout(height='25px', width='50%'),…"
      ]
     },
     "metadata": {},
     "output_type": "display_data"
    }
   ],
   "source": [
    "from pyspark.sql import functions as F, types as T\n",
    "import numpy as np\n",
    "\n",
    "@F.udf(T.ArrayType(T.DoubleType()))\n",
    "def diff(A, B):\n",
    "    return np.abs(np.array(A) - np.array(B)).tolist()\n",
    "\n",
    "@F.udf(T.DoubleType())\n",
    "def var(A):\n",
    "    return float(np.var(A))\n",
    "\n",
    "@F.udf(T.DoubleType())\n",
    "def avg(A):\n",
    "    return float(np.mean(A))"
   ]
  },
  {
   "cell_type": "code",
   "execution_count": 21,
   "id": "f2345c86-c964-488c-aa83-d458bffc55eb",
   "metadata": {
    "ExecuteTime": {
     "end_time": "2025-05-12T22:51:39.873678Z",
     "start_time": "2025-05-12T22:51:39.634585Z"
    }
   },
   "outputs": [
    {
     "data": {
      "application/vnd.jupyter.widget-view+json": {
       "model_id": "190b42fab8f5419dae80b8908976c433",
       "version_major": 2,
       "version_minor": 0
      },
      "text/plain": [
       "FloatProgress(value=0.0, bar_style='info', description='Progress:', layout=Layout(height='25px', width='50%'),…"
      ]
     },
     "metadata": {},
     "output_type": "display_data"
    }
   ],
   "source": [
    "gm12878_neanderthal_df_ref = (\n",
    "    distance_calculation_df\n",
    "    .where(\n",
    "        (F.col('_id.project_id') == '8k_models_project_GM12878')\n",
    "        & (F.col('_id.ensemble_id').startswith('models3D_GM12878_Nean_models3D_GM12878_Nean_results'))\n",
    "        & (F.col('gene_type') == 'protein_coding')\n",
    "    )\n",
    ")\n",
    "\n",
    "gm12878_denisovan_df_ref = (\n",
    "    distance_calculation_df\n",
    "    .where(\n",
    "        (F.col('_id.project_id') == '8k_models_project_GM12878')\n",
    "        & (F.col('_id.ensemble_id').startswith('models3D_GM12878_Deni_models3D_GM12878_Deni_results'))\n",
    "        & (F.col('gene_type') == 'protein_coding')\n",
    "    )\n",
    ")\n",
    "\n",
    "hffc6_neanderthal_df_ref = (\n",
    "    distance_calculation_df\n",
    "    .where(\n",
    "        (F.col('_id.project_id') == '8k_models_project_HFFC6')\n",
    "        & (F.col('_id.ensemble_id').startswith('models3D_HFFC6_Nean_models3D_HFFC6_Nean_results'))\n",
    "        & (F.col('gene_type') == 'protein_coding')\n",
    "    )\n",
    ")\n",
    "\n",
    "hffc6_denisovan_df_ref = (\n",
    "    distance_calculation_df\n",
    "    .where(\n",
    "        (F.col('_id.project_id') == '8k_models_project_HFFC6')\n",
    "        & (F.col('_id.ensemble_id').startswith('models3D_HFFC6_Deni_models3D_HFFC6_Deni_results'))\n",
    "        & (F.col('gene_type') == 'protein_coding')\n",
    "    )\n",
    ")"
   ]
  },
  {
   "cell_type": "code",
   "execution_count": null,
   "id": "75b9103b-8083-472f-b1e0-1eb286c00670",
   "metadata": {
    "ExecuteTime": {
     "start_time": "2025-05-12T22:51:41.444941Z"
    },
    "jupyter": {
     "is_executing": true
    }
   },
   "outputs": [
    {
     "data": {
      "application/vnd.jupyter.widget-view+json": {
       "model_id": "55cce7f530244db5b4eb3596253dc72a",
       "version_major": 2,
       "version_minor": 0
      },
      "text/plain": [
       "FloatProgress(value=0.0, bar_style='info', description='Progress:', layout=Layout(height='25px', width='50%'),…"
      ]
     },
     "metadata": {},
     "output_type": "display_data"
    }
   ],
   "source": [
    "%%pretty\n",
    "gm12878_neanderthal_df_ref.show(n=1)"
   ]
  },
  {
   "cell_type": "code",
   "execution_count": 12,
   "id": "81ac4652691812cd",
   "metadata": {
    "ExecuteTime": {
     "end_time": "2025-05-12T22:37:00.793156Z",
     "start_time": "2025-05-12T22:37:00.038251Z"
    }
   },
   "outputs": [
    {
     "data": {
      "application/vnd.jupyter.widget-view+json": {
       "model_id": "7464420d4aa540d1896c7cca87ba9085",
       "version_major": 2,
       "version_minor": 0
      },
      "text/plain": [
       "FloatProgress(value=0.0, bar_style='info', description='Progress:', layout=Layout(height='25px', width='50%'),…"
      ]
     },
     "metadata": {},
     "output_type": "display_data"
    }
   ],
   "source": [
    "gm12878_neanderthal_genes_with_average_distance_df = (\n",
    "    gm12878_neanderthal_df_ref\n",
    "    .select(\n",
    "        F.col('_id.region_id').alias('region_id'),\n",
    "        F.col('_id.gene_id').alias('gene_id'),\n",
    "        F.col('_id.enh_id').alias('enh_id'),\n",
    "        'avg_dist'\n",
    "    )\n",
    "    .groupBy('gene_id')\n",
    "    .agg(\n",
    "        F.avg('avg_dist').alias('avg_dist_per_gene')\n",
    "    )\n",
    "    .orderBy(F.desc('avg_dist_per_gene'))\n",
    "    .alias(\"gm12878\")\n",
    ")\n",
    "\n",
    "hffc6_neanderthal_genes_with_average_distance_df = (\n",
    "    hffc6_neanderthal_df_ref\n",
    "    .select(\n",
    "        F.col('_id.region_id').alias('region_id'),\n",
    "        F.col('_id.gene_id').alias('gene_id'),\n",
    "        F.col('_id.enh_id').alias('enh_id'),\n",
    "        'avg_dist'\n",
    "    )\n",
    "    .groupBy('gene_id')\n",
    "    .agg(\n",
    "        F.avg('avg_dist').alias('avg_dist_per_gene')\n",
    "    )\n",
    "    .orderBy(F.desc('avg_dist_per_gene'))\n",
    "    .alias(\"hffc6\")\n",
    ")\n",
    "\n",
    "gm12878_hffc6_neanderthal_genes_with_biggest_distance_difference_df = (\n",
    "    gm12878_neanderthal_genes_with_average_distance_df\n",
    "    .join(\n",
    "        hffc6_neanderthal_genes_with_average_distance_df,\n",
    "        on=['gene_id'],\n",
    "        how='inner'\n",
    "    )\n",
    "    .select(\n",
    "        'gene_id',\n",
    "        F.col('gm12878.avg_dist_per_gene').alias('dist_diff_avg_gm12878'),\n",
    "        F.col('hffc6.avg_dist_per_gene').alias('dist_diff_avg_hffc6'),\n",
    "        F.abs((F.col('gm12878.avg_dist_per_gene') - F.col('hffc6.avg_dist_per_gene'))).alias('dist_diff_avg'),\n",
    "    )\n",
    "    .orderBy(F.desc('dist_diff_avg'))\n",
    "    # .limit(100)\n",
    ")\n",
    "\n",
    "gm12878_denisovan_genes_with_average_distance_df = (\n",
    "    gm12878_denisovan_df_ref\n",
    "    .select(\n",
    "        F.col('_id.region_id').alias('region_id'),\n",
    "        F.col('_id.gene_id').alias('gene_id'),\n",
    "        F.col('_id.enh_id').alias('enh_id'),\n",
    "        'avg_dist'\n",
    "    )\n",
    "    .groupBy('gene_id')\n",
    "    .agg(\n",
    "        F.avg('avg_dist').alias('avg_dist_per_gene')\n",
    "    )\n",
    "    .orderBy(F.desc('avg_dist_per_gene'))\n",
    "    .alias(\"gm12878\")\n",
    ")\n",
    "\n",
    "hffc6_denisovan_genes_with_average_distance_df = (\n",
    "    hffc6_denisovan_df_ref\n",
    "    .select(\n",
    "        F.col('_id.region_id').alias('region_id'),\n",
    "        F.col('_id.gene_id').alias('gene_id'),\n",
    "        F.col('_id.enh_id').alias('enh_id'),\n",
    "        'avg_dist'\n",
    "    )\n",
    "    .groupBy('gene_id')\n",
    "    .agg(\n",
    "        F.avg('avg_dist').alias('avg_dist_per_gene')\n",
    "    )\n",
    "    .orderBy(F.desc('avg_dist_per_gene'))\n",
    "    .alias(\"hffc6\")\n",
    ")\n",
    "\n",
    "gm12878_hffc6_denisovan_genes_with_biggest_distance_difference_df = (\n",
    "    gm12878_denisovan_genes_with_average_distance_df\n",
    "    .join(\n",
    "        hffc6_denisovan_genes_with_average_distance_df,\n",
    "        on=['gene_id'],\n",
    "        how='inner'\n",
    "    )\n",
    "    .select(\n",
    "        'gene_id',\n",
    "        F.col('gm12878.avg_dist_per_gene').alias('dist_diff_avg_gm12878'),\n",
    "        F.col('hffc6.avg_dist_per_gene').alias('dist_diff_avg_hffc6'),\n",
    "        F.abs((F.col('gm12878.avg_dist_per_gene') - F.col('hffc6.avg_dist_per_gene'))).alias('dist_diff_avg'),\n",
    "    )\n",
    "    .orderBy(F.desc('dist_diff_avg'))\n",
    "    # .limit(100)\n",
    ")"
   ]
  },
  {
   "cell_type": "code",
   "execution_count": 13,
   "id": "2f535bc81ff06a6e",
   "metadata": {
    "ExecuteTime": {
     "end_time": "2025-05-12T22:46:31.320038Z",
     "start_time": "2025-05-12T22:37:02.445628Z"
    }
   },
   "outputs": [
    {
     "data": {
      "application/vnd.jupyter.widget-view+json": {
       "model_id": "61899e1be5ab4268807d21c9ec97b397",
       "version_major": 2,
       "version_minor": 0
      },
      "text/plain": [
       "FloatProgress(value=0.0, bar_style='info', description='Progress:', layout=Layout(height='25px', width='50%'),…"
      ]
     },
     "metadata": {},
     "output_type": "display_data"
    },
    {
     "data": {
      "text/html": [
       "<table><tr><th><pre style=\"word-break: unset; background-color: unset;\">gene_id</pre></th><th><pre style=\"word-break: unset; background-color: unset;\">dist_diff_avg_gm12878</pre></th><th><pre style=\"word-break: unset; background-color: unset;\">dist_diff_avg_hffc6</pre></th><th><pre style=\"word-break: unset; background-color: unset;\">dist_diff_avg</pre></th></tr><tr><td><pre style=\"word-break: unset; background-color: unset;\">ENSG00000130558.20</pre></td><td><pre style=\"word-break: unset; background-color: unset;\">6.204862315576155</pre></td><td><pre style=\"word-break: unset; background-color: unset;\">39.31081470366447</pre></td><td><pre style=\"word-break: unset; background-color: unset;\">33.10595238808831</pre></td></tr><tr><td><pre style=\"word-break: unset; background-color: unset;\">ENSG00000169717.7</pre></td><td><pre style=\"word-break: unset; background-color: unset;\">6.218723866427056</pre></td><td><pre style=\"word-break: unset; background-color: unset;\">39.23214709069118</pre></td><td><pre style=\"word-break: unset; background-color: unset;\">33.01342322426412</pre></td></tr><tr><td><pre style=\"word-break: unset; background-color: unset;\">ENSG00000198967.5</pre></td><td><pre style=\"word-break: unset; background-color: unset;\">11.19432799670161</pre></td><td><pre style=\"word-break: unset; background-color: unset;\">42.023285781280904</pre></td><td><pre style=\"word-break: unset; background-color: unset;\">30.828957784579295</pre></td></tr><tr><td><pre style=\"word-break: unset; background-color: unset;\">ENSG00000127903.14</pre></td><td><pre style=\"word-break: unset; background-color: unset;\">38.720140565655186</pre></td><td><pre style=\"word-break: unset; background-color: unset;\">8.26742925621845</pre></td><td><pre style=\"word-break: unset; background-color: unset;\">30.452711309436737</pre></td></tr><tr><td><pre style=\"word-break: unset; background-color: unset;\">ENSG00000117174.11</pre></td><td><pre style=\"word-break: unset; background-color: unset;\">39.42625308036804</pre></td><td><pre style=\"word-break: unset; background-color: unset;\">9.091781710678676</pre></td><td><pre style=\"word-break: unset; background-color: unset;\">30.334471369689368</pre></td></tr></table><br /><pre>only showing top 5 rows</pre>"
      ],
      "text/plain": [
       "<IPython.core.display.HTML object>"
      ]
     },
     "metadata": {},
     "output_type": "display_data"
    }
   ],
   "source": [
    "%%pretty\n",
    "gm12878_hffc6_neanderthal_genes_with_biggest_distance_difference_df.show(n=5)"
   ]
  },
  {
   "cell_type": "code",
   "execution_count": 11,
   "id": "61608e18a8b773cd",
   "metadata": {
    "ExecuteTime": {
     "end_time": "2025-04-07T20:57:42.917862Z",
     "start_time": "2025-04-07T20:53:49.215053Z"
    }
   },
   "outputs": [
    {
     "data": {
      "application/vnd.jupyter.widget-view+json": {
       "model_id": "",
       "version_major": 2,
       "version_minor": 0
      },
      "text/plain": [
       "FloatProgress(value=0.0, bar_style='info', description='Progress:', layout=Layout(height='25px', width='50%'),…"
      ]
     },
     "metadata": {},
     "output_type": "display_data"
    }
   ],
   "source": [
    "# to pandas and plot\n",
    "import pandas as pd\n",
    "\n",
    "gm12878_hffc6_neanderthal_genes_with_biggest_distance_difference_df_pd = (\n",
    "    gm12878_hffc6_neanderthal_genes_with_biggest_distance_difference_df\n",
    "    .toPandas()\n",
    ")\n",
    "\n",
    "# save the dataframe to a csv file\n",
    "gm12878_hffc6_neanderthal_genes_with_biggest_distance_difference_df_pd.to_csv(\n",
    "    '/work/playground/gm12878_hffc6_neanderthal_genes_with_biggest_distance_difference_df.csv',\n",
    "    index=False\n",
    ")\n",
    "\n",
    "gm12878_hffc6_denisovan_genes_with_biggest_distance_difference_df_pd = (\n",
    "    gm12878_hffc6_denisovan_genes_with_biggest_distance_difference_df\n",
    "    .toPandas()\n",
    ")\n",
    "\n",
    "# save the dataframe to a csv file\n",
    "gm12878_hffc6_denisovan_genes_with_biggest_distance_difference_df_pd.to_csv(\n",
    "    '/work/playground/gm12878_hffc6_denisovan_genes_with_biggest_distance_difference_df.csv',\n",
    "    index=False\n",
    ")"
   ]
  }
 ],
 "metadata": {
  "kernelspec": {
   "display_name": "PySpark",
   "language": "python",
   "name": "pysparkkernel"
  },
  "language_info": {
   "codemirror_mode": {
    "name": "python",
    "version": 3
   },
   "file_extension": ".py",
   "mimetype": "text/x-python",
   "name": "pyspark",
   "pygments_lexer": "python3"
  }
 },
 "nbformat": 4,
 "nbformat_minor": 5
}
